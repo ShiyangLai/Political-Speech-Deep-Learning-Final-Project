{
  "nbformat": 4,
  "nbformat_minor": 0,
  "metadata": {
    "colab": {
      "name": "final_project.ipynb",
      "provenance": [],
      "collapsed_sections": []
    },
    "kernelspec": {
      "name": "python3",
      "display_name": "Python 3"
    },
    "language_info": {
      "name": "python"
    }
  },
  "cells": [
    {
      "cell_type": "markdown",
      "source": [
        "#Training Model"
      ],
      "metadata": {
        "id": "dJTddTIgX_vr"
      }
    },
    {
      "cell_type": "code",
      "execution_count": 7,
      "metadata": {
        "id": "h-xvCyPsGEoM"
      },
      "outputs": [],
      "source": [
        "import pandas as pd\n",
        "import librosa\n",
        "import librosa.display\n",
        "import numpy as np\n",
        "import matplotlib.pyplot as plt\n",
        "import os\n",
        "import seaborn as sns\n",
        "import tensorflow as tf\n",
        "from matplotlib.pyplot import specgram\n",
        "import keras\n",
        "from keras.preprocessing import sequence\n",
        "from keras.models import Sequential\n",
        "from keras.layers import Dense, Embedding\n",
        "from keras.layers import LSTM\n",
        "from keras.preprocessing.text import Tokenizer\n",
        "from keras.preprocessing.sequence import pad_sequences\n",
        "from keras.layers import Input, Flatten, Dropout, Activation\n",
        "from keras.layers import Conv1D, MaxPooling1D, AveragePooling1D\n",
        "from keras.models import Model\n",
        "from keras.callbacks import ModelCheckpoint\n",
        "from sklearn.metrics import confusion_matrix\n",
        "import warnings\n",
        "warnings.filterwarnings('ignore')"
      ]
    },
    {
      "cell_type": "code",
      "source": [
        "# loading the dataset\n",
        "paths = []\n",
        "labels = []\n",
        "datadir = '/content/drive/MyDrive/Deep Learning/audio_data'"
      ],
      "metadata": {
        "id": "P0RSwShaGLQx"
      },
      "execution_count": 17,
      "outputs": []
    },
    {
      "cell_type": "code",
      "source": [
        "for dirname, _, filenames in os.walk(datadir):\n",
        "  for filename in filenames:\n",
        "    paths.append(os.path.join(dirname, filename))\n",
        "    label = filename.split('_')[-1]\n",
        "    label = label.split('.')[0]\n",
        "    labels.append(label.lower())"
      ],
      "metadata": {
        "id": "F7g2QsEBYYlR"
      },
      "execution_count": 18,
      "outputs": []
    },
    {
      "cell_type": "code",
      "source": [
        "# creating dataframe\n",
        "df = pd.DataFrame()\n",
        "df['speech'] = paths\n",
        "df['labels'] = labels\n",
        "df.head()"
      ],
      "metadata": {
        "colab": {
          "base_uri": "https://localhost:8080/",
          "height": 206
        },
        "id": "skw3hVPzZRxJ",
        "outputId": "156f00e1-9da9-4946-ab4e-a404da243b3c"
      },
      "execution_count": 19,
      "outputs": [
        {
          "output_type": "execute_result",
          "data": {
            "text/plain": [
              "                                              speech labels\n",
              "0  /content/drive/MyDrive/Deep Learning/audio_dat...  angry\n",
              "1  /content/drive/MyDrive/Deep Learning/audio_dat...  angry\n",
              "2  /content/drive/MyDrive/Deep Learning/audio_dat...  angry\n",
              "3  /content/drive/MyDrive/Deep Learning/audio_dat...  angry\n",
              "4  /content/drive/MyDrive/Deep Learning/audio_dat...  angry"
            ],
            "text/html": [
              "\n",
              "  <div id=\"df-2c95a17e-7150-4567-8250-9b9d7746760d\">\n",
              "    <div class=\"colab-df-container\">\n",
              "      <div>\n",
              "<style scoped>\n",
              "    .dataframe tbody tr th:only-of-type {\n",
              "        vertical-align: middle;\n",
              "    }\n",
              "\n",
              "    .dataframe tbody tr th {\n",
              "        vertical-align: top;\n",
              "    }\n",
              "\n",
              "    .dataframe thead th {\n",
              "        text-align: right;\n",
              "    }\n",
              "</style>\n",
              "<table border=\"1\" class=\"dataframe\">\n",
              "  <thead>\n",
              "    <tr style=\"text-align: right;\">\n",
              "      <th></th>\n",
              "      <th>speech</th>\n",
              "      <th>labels</th>\n",
              "    </tr>\n",
              "  </thead>\n",
              "  <tbody>\n",
              "    <tr>\n",
              "      <th>0</th>\n",
              "      <td>/content/drive/MyDrive/Deep Learning/audio_dat...</td>\n",
              "      <td>angry</td>\n",
              "    </tr>\n",
              "    <tr>\n",
              "      <th>1</th>\n",
              "      <td>/content/drive/MyDrive/Deep Learning/audio_dat...</td>\n",
              "      <td>angry</td>\n",
              "    </tr>\n",
              "    <tr>\n",
              "      <th>2</th>\n",
              "      <td>/content/drive/MyDrive/Deep Learning/audio_dat...</td>\n",
              "      <td>angry</td>\n",
              "    </tr>\n",
              "    <tr>\n",
              "      <th>3</th>\n",
              "      <td>/content/drive/MyDrive/Deep Learning/audio_dat...</td>\n",
              "      <td>angry</td>\n",
              "    </tr>\n",
              "    <tr>\n",
              "      <th>4</th>\n",
              "      <td>/content/drive/MyDrive/Deep Learning/audio_dat...</td>\n",
              "      <td>angry</td>\n",
              "    </tr>\n",
              "  </tbody>\n",
              "</table>\n",
              "</div>\n",
              "      <button class=\"colab-df-convert\" onclick=\"convertToInteractive('df-2c95a17e-7150-4567-8250-9b9d7746760d')\"\n",
              "              title=\"Convert this dataframe to an interactive table.\"\n",
              "              style=\"display:none;\">\n",
              "        \n",
              "  <svg xmlns=\"http://www.w3.org/2000/svg\" height=\"24px\"viewBox=\"0 0 24 24\"\n",
              "       width=\"24px\">\n",
              "    <path d=\"M0 0h24v24H0V0z\" fill=\"none\"/>\n",
              "    <path d=\"M18.56 5.44l.94 2.06.94-2.06 2.06-.94-2.06-.94-.94-2.06-.94 2.06-2.06.94zm-11 1L8.5 8.5l.94-2.06 2.06-.94-2.06-.94L8.5 2.5l-.94 2.06-2.06.94zm10 10l.94 2.06.94-2.06 2.06-.94-2.06-.94-.94-2.06-.94 2.06-2.06.94z\"/><path d=\"M17.41 7.96l-1.37-1.37c-.4-.4-.92-.59-1.43-.59-.52 0-1.04.2-1.43.59L10.3 9.45l-7.72 7.72c-.78.78-.78 2.05 0 2.83L4 21.41c.39.39.9.59 1.41.59.51 0 1.02-.2 1.41-.59l7.78-7.78 2.81-2.81c.8-.78.8-2.07 0-2.86zM5.41 20L4 18.59l7.72-7.72 1.47 1.35L5.41 20z\"/>\n",
              "  </svg>\n",
              "      </button>\n",
              "      \n",
              "  <style>\n",
              "    .colab-df-container {\n",
              "      display:flex;\n",
              "      flex-wrap:wrap;\n",
              "      gap: 12px;\n",
              "    }\n",
              "\n",
              "    .colab-df-convert {\n",
              "      background-color: #E8F0FE;\n",
              "      border: none;\n",
              "      border-radius: 50%;\n",
              "      cursor: pointer;\n",
              "      display: none;\n",
              "      fill: #1967D2;\n",
              "      height: 32px;\n",
              "      padding: 0 0 0 0;\n",
              "      width: 32px;\n",
              "    }\n",
              "\n",
              "    .colab-df-convert:hover {\n",
              "      background-color: #E2EBFA;\n",
              "      box-shadow: 0px 1px 2px rgba(60, 64, 67, 0.3), 0px 1px 3px 1px rgba(60, 64, 67, 0.15);\n",
              "      fill: #174EA6;\n",
              "    }\n",
              "\n",
              "    [theme=dark] .colab-df-convert {\n",
              "      background-color: #3B4455;\n",
              "      fill: #D2E3FC;\n",
              "    }\n",
              "\n",
              "    [theme=dark] .colab-df-convert:hover {\n",
              "      background-color: #434B5C;\n",
              "      box-shadow: 0px 1px 3px 1px rgba(0, 0, 0, 0.15);\n",
              "      filter: drop-shadow(0px 1px 2px rgba(0, 0, 0, 0.3));\n",
              "      fill: #FFFFFF;\n",
              "    }\n",
              "  </style>\n",
              "\n",
              "      <script>\n",
              "        const buttonEl =\n",
              "          document.querySelector('#df-2c95a17e-7150-4567-8250-9b9d7746760d button.colab-df-convert');\n",
              "        buttonEl.style.display =\n",
              "          google.colab.kernel.accessAllowed ? 'block' : 'none';\n",
              "\n",
              "        async function convertToInteractive(key) {\n",
              "          const element = document.querySelector('#df-2c95a17e-7150-4567-8250-9b9d7746760d');\n",
              "          const dataTable =\n",
              "            await google.colab.kernel.invokeFunction('convertToInteractive',\n",
              "                                                     [key], {});\n",
              "          if (!dataTable) return;\n",
              "\n",
              "          const docLinkHtml = 'Like what you see? Visit the ' +\n",
              "            '<a target=\"_blank\" href=https://colab.research.google.com/notebooks/data_table.ipynb>data table notebook</a>'\n",
              "            + ' to learn more about interactive tables.';\n",
              "          element.innerHTML = '';\n",
              "          dataTable['output_type'] = 'display_data';\n",
              "          await google.colab.output.renderOutput(dataTable, element);\n",
              "          const docLink = document.createElement('div');\n",
              "          docLink.innerHTML = docLinkHtml;\n",
              "          element.appendChild(docLink);\n",
              "        }\n",
              "      </script>\n",
              "    </div>\n",
              "  </div>\n",
              "  "
            ]
          },
          "metadata": {},
          "execution_count": 19
        }
      ]
    },
    {
      "cell_type": "code",
      "source": [
        "df['labels'].value_counts()"
      ],
      "metadata": {
        "colab": {
          "base_uri": "https://localhost:8080/"
        },
        "id": "_LrTtzRKZz1f",
        "outputId": "218775fc-f517-4549-c322-3cb7346b3f4a"
      },
      "execution_count": 20,
      "outputs": [
        {
          "output_type": "execute_result",
          "data": {
            "text/plain": [
              "angry      400\n",
              "happy      400\n",
              "disgust    400\n",
              "sad        400\n",
              "fear       400\n",
              "neutral    400\n",
              "ps         400\n",
              "Name: labels, dtype: int64"
            ]
          },
          "metadata": {},
          "execution_count": 20
        }
      ]
    },
    {
      "cell_type": "code",
      "source": [
        "sns.countplot(df['labels'])"
      ],
      "metadata": {
        "colab": {
          "base_uri": "https://localhost:8080/",
          "height": 297
        },
        "id": "cxWVR4c2flki",
        "outputId": "72c7a53a-3d4d-4a9a-b950-54298ea15ef3"
      },
      "execution_count": 21,
      "outputs": [
        {
          "output_type": "execute_result",
          "data": {
            "text/plain": [
              "<matplotlib.axes._subplots.AxesSubplot at 0x7fdb97095fd0>"
            ]
          },
          "metadata": {},
          "execution_count": 21
        },
        {
          "output_type": "display_data",
          "data": {
            "text/plain": [
              "<Figure size 432x288 with 1 Axes>"
            ],
            "image/png": "[encoded data removed]"
          },
          "metadata": {
            "needs_background": "light"
          }
        }
      ]
    },
    {
      "cell_type": "markdown",
      "source": [
        "#Feature Extraction"
      ],
      "metadata": {
        "id": "sgukX0oRf7Xq"
      }
    },
    {
      "cell_type": "code",
      "source": [
        "def extract_mfcc(filename):\n",
        "  y, sr = librosa.load(filename, duration = 3, offset = 0.5)\n",
        "  mfcc = np.mean(librosa.feature.mfcc(y = y, sr = sr, n_mfcc = 40).T, axis = 0)\n",
        "  return mfcc"
      ],
      "metadata": {
        "id": "rGo2foAGf5f5"
      },
      "execution_count": 22,
      "outputs": []
    },
    {
      "cell_type": "code",
      "source": [
        "extract_mfcc(df['speech'][0])"
      ],
      "metadata": {
        "colab": {
          "base_uri": "https://localhost:8080/"
        },
        "id": "SA300Xkfgw2U",
        "outputId": "f7c57605-1b2c-422e-bd0c-e119b301945f"
      },
      "execution_count": 23,
      "outputs": [
        {
          "output_type": "execute_result",
          "data": {
            "text/plain": [
              "array([-3.2428583e+02,  8.9390839e+01, -2.1394699e+01,  1.1373578e+01,\n",
              "       -1.6778145e+01, -1.5559760e+00,  7.5961738e+00, -3.1605333e+01,\n",
              "       -7.0607700e+00,  4.1174576e-01, -1.6250969e+01,  1.1427384e+01,\n",
              "       -1.8227743e+01,  8.3026066e+00, -2.2283702e+00, -1.0665507e+01,\n",
              "       -2.7827377e+00, -5.5310738e-01, -1.2593068e+01, -6.7727523e+00,\n",
              "       -4.1874127e+00, -3.9384236e+00, -1.1161440e+01,  3.4138471e-01,\n",
              "       -2.9274983e+00, -4.1621599e+00,  4.3973150e+00,  4.0284281e+00,\n",
              "        7.0542245e+00,  1.9489025e+01,  1.6470110e+01,  1.8149494e+01,\n",
              "        8.5920467e+00,  3.7549043e+00, -1.4328033e+00,  1.8186370e+00,\n",
              "        1.0408536e+00,  5.0362511e+00, -1.4934543e+00, -2.7782950e-01],\n",
              "      dtype=float32)"
            ]
          },
          "metadata": {},
          "execution_count": 23
        }
      ]
    },
    {
      "cell_type": "code",
      "source": [
        "X_mfcc = df['speech'].apply(lambda x: extract_mfcc(x))"
      ],
      "metadata": {
        "id": "45Mxudvog69t"
      },
      "execution_count": 23,
      "outputs": []
    },
    {
      "cell_type": "code",
      "source": [
        "X = [x for x in X_mfcc]\n",
        "X = np.array(X)\n",
        "X = np.expand_dims(X, -1)\n",
        "X.shape"
      ],
      "metadata": {
        "colab": {
          "base_uri": "https://localhost:8080/"
        },
        "id": "St24X2Pilsi7",
        "outputId": "387a492b-44fa-4c8a-f41d-7964fda9f7bb"
      },
      "execution_count": 24,
      "outputs": [
        {
          "output_type": "execute_result",
          "data": {
            "text/plain": [
              "(2800, 40, 1)"
            ]
          },
          "metadata": {},
          "execution_count": 24
        }
      ]
    },
    {
      "cell_type": "code",
      "source": [
        "from sklearn.preprocessing import OneHotEncoder"
      ],
      "metadata": {
        "id": "N9HB7_tnm91L"
      },
      "execution_count": 25,
      "outputs": []
    },
    {
      "cell_type": "code",
      "source": [
        "enc = OneHotEncoder()\n",
        "y = enc.fit_transform(df[['labels']])\n",
        "y = y.toarray()\n",
        "y.shape"
      ],
      "metadata": {
        "colab": {
          "base_uri": "https://localhost:8080/"
        },
        "id": "5nmxex40mRMa",
        "outputId": "d1f85b4f-ec3f-40f1-9945-3042290be82c"
      },
      "execution_count": 26,
      "outputs": [
        {
          "output_type": "execute_result",
          "data": {
            "text/plain": [
              "(2800, 7)"
            ]
          },
          "metadata": {},
          "execution_count": 26
        }
      ]
    },
    {
      "cell_type": "markdown",
      "source": [
        "# CNN Model"
      ],
      "metadata": {
        "id": "Ph86rIujmdeO"
      }
    },
    {
      "cell_type": "code",
      "source": [
        "from keras.models import Sequential\n",
        "from keras.layers import Dense, LSTM, Dropout"
      ],
      "metadata": {
        "id": "zY6_BXYlmfUL"
      },
      "execution_count": 27,
      "outputs": []
    },
    {
      "cell_type": "code",
      "source": [
        "from keras.layers import Input, Flatten, Dropout, Activation\n",
        "from keras.layers import Conv1D, MaxPooling1D, AveragePooling1D\n",
        "import tensorflow.keras"
      ],
      "metadata": {
        "id": "M1Se13hir_if"
      },
      "execution_count": 28,
      "outputs": []
    },
    {
      "cell_type": "code",
      "source": [
        "model_2 = Sequential()\n",
        "\n",
        "model_2.add(Conv1D(256, 5,padding='same',\n",
        "                 input_shape=(40,1)))\n",
        "model_2.add(Activation('relu'))\n",
        "model_2.add(Conv1D(128, 5,padding='same'))\n",
        "model_2.add(Activation('relu'))\n",
        "model_2.add(Dropout(0.1))\n",
        "model_2.add(MaxPooling1D(pool_size=(8)))\n",
        "model_2.add(Conv1D(128, 5,padding='same',))\n",
        "model_2.add(Activation('relu'))\n",
        "#model_2.add(Conv1D(128, 5,padding='same',))\n",
        "#model_2.add(Activation('relu'))\n",
        "#model_2.add(Conv1D(128, 5,padding='same',))\n",
        "#model_2.add(Activation('relu'))\n",
        "#model_2.add(Dropout(0.2))\n",
        "model_2.add(Conv1D(128, 5,padding='same',))\n",
        "model_2.add(Activation('relu'))\n",
        "model_2.add(Flatten())\n",
        "model_2.add(Dense(7))\n",
        "model_2.add(Activation('softmax'))\n",
        "opt = tensorflow.keras.optimizers.RMSprop(lr=0.00001, decay=1e-6)"
      ],
      "metadata": {
        "id": "mLvDn3ETrfxc"
      },
      "execution_count": 29,
      "outputs": []
    },
    {
      "cell_type": "code",
      "source": [
        "model_2.summary()"
      ],
      "metadata": {
        "colab": {
          "base_uri": "https://localhost:8080/"
        },
        "id": "myRPEzFMsrGy",
        "outputId": "5e15777d-3003-4090-8ae7-71690063b09b"
      },
      "execution_count": 30,
      "outputs": [
        {
          "output_type": "stream",
          "name": "stdout",
          "text": [
            "Model: \"sequential\"\n",
            "_________________________________________________________________\n",
            " Layer (type)                Output Shape              Param #   \n",
            "=================================================================\n",
            " conv1d (Conv1D)             (None, 40, 256)           1536      \n",
            "                                                                 \n",
            " activation (Activation)     (None, 40, 256)           0         \n",
            "                                                                 \n",
            " conv1d_1 (Conv1D)           (None, 40, 128)           163968    \n",
            "                                                                 \n",
            " activation_1 (Activation)   (None, 40, 128)           0         \n",
            "                                                                 \n",
            " dropout (Dropout)           (None, 40, 128)           0         \n",
            "                                                                 \n",
            " max_pooling1d (MaxPooling1D  (None, 5, 128)           0         \n",
            " )                                                               \n",
            "                                                                 \n",
            " conv1d_2 (Conv1D)           (None, 5, 128)            82048     \n",
            "                                                                 \n",
            " activation_2 (Activation)   (None, 5, 128)            0         \n",
            "                                                                 \n",
            " conv1d_3 (Conv1D)           (None, 5, 128)            82048     \n",
            "                                                                 \n",
            " activation_3 (Activation)   (None, 5, 128)            0         \n",
            "                                                                 \n",
            " flatten (Flatten)           (None, 640)               0         \n",
            "                                                                 \n",
            " dense (Dense)               (None, 7)                 4487      \n",
            "                                                                 \n",
            " activation_4 (Activation)   (None, 7)                 0         \n",
            "                                                                 \n",
            "=================================================================\n",
            "Total params: 334,087\n",
            "Trainable params: 334,087\n",
            "Non-trainable params: 0\n",
            "_________________________________________________________________\n"
          ]
        }
      ]
    },
    {
      "cell_type": "code",
      "source": [
        "model_2.compile(loss='categorical_crossentropy', optimizer=opt,metrics=['accuracy'])"
      ],
      "metadata": {
        "id": "6NwiRsTpsxVO"
      },
      "execution_count": 35,
      "outputs": []
    },
    {
      "cell_type": "code",
      "source": [
        "cnnhistory=model_2.fit(X, y, batch_size=16, epochs=100, validation_split= 0.2)"
      ],
      "metadata": {
        "colab": {
          "base_uri": "https://localhost:8080/"
        },
        "id": "FuJQkbnFsyGd",
        "outputId": "ed04d676-425b-4cba-c86c-0b58755a8efe"
      },
      "execution_count": 36,
      "outputs": [
        {
          "output_type": "stream",
          "name": "stdout",
          "text": [
            "Epoch 1/100\n",
            "140/140 [==============================] - 13s 66ms/step - loss: 1.9181 - accuracy: 0.3009 - val_loss: 1.8852 - val_accuracy: 0.2607\n",
            "Epoch 2/100\n",
            "140/140 [==============================] - 8s 59ms/step - loss: 1.3102 - accuracy: 0.5875 - val_loss: 1.9135 - val_accuracy: 0.5107\n",
            "Epoch 3/100\n",
            "140/140 [==============================] - 7s 53ms/step - loss: 0.9647 - accuracy: 0.7246 - val_loss: 1.8230 - val_accuracy: 0.3857\n",
            "Epoch 4/100\n",
            "140/140 [==============================] - 5s 36ms/step - loss: 0.7034 - accuracy: 0.8263 - val_loss: 1.6310 - val_accuracy: 0.5946\n",
            "Epoch 5/100\n",
            "140/140 [==============================] - 5s 32ms/step - loss: 0.5361 - accuracy: 0.8661 - val_loss: 1.6656 - val_accuracy: 0.6179\n",
            "Epoch 6/100\n",
            "140/140 [==============================] - 5s 32ms/step - loss: 0.4117 - accuracy: 0.9085 - val_loss: 1.7181 - val_accuracy: 0.6089\n",
            "Epoch 7/100\n",
            "140/140 [==============================] - 5s 33ms/step - loss: 0.3290 - accuracy: 0.9366 - val_loss: 1.5878 - val_accuracy: 0.6321\n",
            "Epoch 8/100\n",
            "140/140 [==============================] - 5s 33ms/step - loss: 0.2704 - accuracy: 0.9446 - val_loss: 1.6428 - val_accuracy: 0.6196\n",
            "Epoch 9/100\n",
            "140/140 [==============================] - 5s 38ms/step - loss: 0.2225 - accuracy: 0.9571 - val_loss: 1.7921 - val_accuracy: 0.6304\n",
            "Epoch 10/100\n",
            "140/140 [==============================] - 5s 33ms/step - loss: 0.1868 - accuracy: 0.9589 - val_loss: 1.7545 - val_accuracy: 0.6268\n",
            "Epoch 11/100\n",
            "140/140 [==============================] - 5s 33ms/step - loss: 0.1684 - accuracy: 0.9647 - val_loss: 1.7652 - val_accuracy: 0.6286\n",
            "Epoch 12/100\n",
            "140/140 [==============================] - 5s 33ms/step - loss: 0.1493 - accuracy: 0.9656 - val_loss: 1.9783 - val_accuracy: 0.6304\n",
            "Epoch 13/100\n",
            "140/140 [==============================] - 5s 33ms/step - loss: 0.1323 - accuracy: 0.9710 - val_loss: 2.0435 - val_accuracy: 0.6304\n",
            "Epoch 14/100\n",
            "140/140 [==============================] - 5s 32ms/step - loss: 0.1174 - accuracy: 0.9719 - val_loss: 2.1503 - val_accuracy: 0.6250\n",
            "Epoch 15/100\n",
            "140/140 [==============================] - 5s 32ms/step - loss: 0.1085 - accuracy: 0.9759 - val_loss: 2.0186 - val_accuracy: 0.6286\n",
            "Epoch 16/100\n",
            "140/140 [==============================] - 5s 32ms/step - loss: 0.0987 - accuracy: 0.9763 - val_loss: 2.2271 - val_accuracy: 0.6268\n",
            "Epoch 17/100\n",
            "140/140 [==============================] - 5s 33ms/step - loss: 0.0914 - accuracy: 0.9772 - val_loss: 2.5908 - val_accuracy: 0.6286\n",
            "Epoch 18/100\n",
            "140/140 [==============================] - 5s 33ms/step - loss: 0.0840 - accuracy: 0.9790 - val_loss: 2.5647 - val_accuracy: 0.6268\n",
            "Epoch 19/100\n",
            "140/140 [==============================] - 5s 34ms/step - loss: 0.0782 - accuracy: 0.9848 - val_loss: 2.7210 - val_accuracy: 0.6250\n",
            "Epoch 20/100\n",
            "140/140 [==============================] - 5s 35ms/step - loss: 0.0727 - accuracy: 0.9835 - val_loss: 2.6068 - val_accuracy: 0.6286\n",
            "Epoch 21/100\n",
            "140/140 [==============================] - 5s 33ms/step - loss: 0.0690 - accuracy: 0.9866 - val_loss: 2.5715 - val_accuracy: 0.6232\n",
            "Epoch 22/100\n",
            "140/140 [==============================] - 5s 33ms/step - loss: 0.0664 - accuracy: 0.9848 - val_loss: 2.6159 - val_accuracy: 0.6268\n",
            "Epoch 23/100\n",
            "140/140 [==============================] - 5s 33ms/step - loss: 0.0616 - accuracy: 0.9857 - val_loss: 2.7322 - val_accuracy: 0.6268\n",
            "Epoch 24/100\n",
            "140/140 [==============================] - 5s 33ms/step - loss: 0.0600 - accuracy: 0.9866 - val_loss: 2.8970 - val_accuracy: 0.6268\n",
            "Epoch 25/100\n",
            "140/140 [==============================] - 5s 33ms/step - loss: 0.0564 - accuracy: 0.9862 - val_loss: 2.7761 - val_accuracy: 0.6304\n",
            "Epoch 26/100\n",
            "140/140 [==============================] - 5s 33ms/step - loss: 0.0530 - accuracy: 0.9884 - val_loss: 3.0503 - val_accuracy: 0.6286\n",
            "Epoch 27/100\n",
            "140/140 [==============================] - 5s 33ms/step - loss: 0.0511 - accuracy: 0.9871 - val_loss: 3.0611 - val_accuracy: 0.6268\n",
            "Epoch 28/100\n",
            "140/140 [==============================] - 5s 33ms/step - loss: 0.0445 - accuracy: 0.9902 - val_loss: 3.2437 - val_accuracy: 0.6286\n",
            "Epoch 29/100\n",
            "140/140 [==============================] - 5s 33ms/step - loss: 0.0434 - accuracy: 0.9911 - val_loss: 2.9869 - val_accuracy: 0.6232\n",
            "Epoch 30/100\n",
            "140/140 [==============================] - 5s 33ms/step - loss: 0.0432 - accuracy: 0.9906 - val_loss: 3.0515 - val_accuracy: 0.6268\n",
            "Epoch 31/100\n",
            "140/140 [==============================] - 5s 33ms/step - loss: 0.0386 - accuracy: 0.9924 - val_loss: 3.3246 - val_accuracy: 0.6321\n",
            "Epoch 32/100\n",
            "140/140 [==============================] - 5s 39ms/step - loss: 0.0382 - accuracy: 0.9911 - val_loss: 3.3274 - val_accuracy: 0.6232\n",
            "Epoch 33/100\n",
            "140/140 [==============================] - 5s 33ms/step - loss: 0.0369 - accuracy: 0.9924 - val_loss: 3.2238 - val_accuracy: 0.6268\n",
            "Epoch 34/100\n",
            "140/140 [==============================] - 5s 33ms/step - loss: 0.0355 - accuracy: 0.9929 - val_loss: 3.2730 - val_accuracy: 0.6214\n",
            "Epoch 35/100\n",
            "140/140 [==============================] - 5s 33ms/step - loss: 0.0335 - accuracy: 0.9924 - val_loss: 3.5856 - val_accuracy: 0.6250\n",
            "Epoch 36/100\n",
            "140/140 [==============================] - 5s 34ms/step - loss: 0.0330 - accuracy: 0.9937 - val_loss: 3.4271 - val_accuracy: 0.6232\n",
            "Epoch 37/100\n",
            "140/140 [==============================] - 5s 33ms/step - loss: 0.0311 - accuracy: 0.9929 - val_loss: 3.6403 - val_accuracy: 0.6250\n",
            "Epoch 38/100\n",
            "140/140 [==============================] - 5s 33ms/step - loss: 0.0294 - accuracy: 0.9933 - val_loss: 3.5600 - val_accuracy: 0.6250\n",
            "Epoch 39/100\n",
            "140/140 [==============================] - 6s 41ms/step - loss: 0.0284 - accuracy: 0.9937 - val_loss: 3.6609 - val_accuracy: 0.6232\n",
            "Epoch 40/100\n",
            "140/140 [==============================] - 5s 33ms/step - loss: 0.0273 - accuracy: 0.9942 - val_loss: 3.8565 - val_accuracy: 0.6214\n",
            "Epoch 41/100\n",
            "140/140 [==============================] - 5s 33ms/step - loss: 0.0262 - accuracy: 0.9937 - val_loss: 3.6670 - val_accuracy: 0.6232\n",
            "Epoch 42/100\n",
            "140/140 [==============================] - 5s 33ms/step - loss: 0.0246 - accuracy: 0.9933 - val_loss: 3.9643 - val_accuracy: 0.6214\n",
            "Epoch 43/100\n",
            "140/140 [==============================] - 5s 33ms/step - loss: 0.0239 - accuracy: 0.9942 - val_loss: 3.8713 - val_accuracy: 0.6232\n",
            "Epoch 44/100\n",
            "140/140 [==============================] - 5s 33ms/step - loss: 0.0224 - accuracy: 0.9951 - val_loss: 4.2522 - val_accuracy: 0.6143\n",
            "Epoch 45/100\n",
            "140/140 [==============================] - 5s 33ms/step - loss: 0.0229 - accuracy: 0.9951 - val_loss: 3.8804 - val_accuracy: 0.6214\n",
            "Epoch 46/100\n",
            "140/140 [==============================] - 5s 33ms/step - loss: 0.0224 - accuracy: 0.9951 - val_loss: 3.8926 - val_accuracy: 0.6214\n",
            "Epoch 47/100\n",
            "140/140 [==============================] - 5s 33ms/step - loss: 0.0218 - accuracy: 0.9946 - val_loss: 4.1530 - val_accuracy: 0.6196\n",
            "Epoch 48/100\n",
            "140/140 [==============================] - 5s 33ms/step - loss: 0.0195 - accuracy: 0.9951 - val_loss: 4.0598 - val_accuracy: 0.6196\n",
            "Epoch 49/100\n",
            "140/140 [==============================] - 5s 34ms/step - loss: 0.0192 - accuracy: 0.9964 - val_loss: 4.3675 - val_accuracy: 0.6161\n",
            "Epoch 50/100\n",
            "140/140 [==============================] - 5s 33ms/step - loss: 0.0186 - accuracy: 0.9946 - val_loss: 4.3461 - val_accuracy: 0.6196\n",
            "Epoch 51/100\n",
            "140/140 [==============================] - 5s 33ms/step - loss: 0.0188 - accuracy: 0.9951 - val_loss: 4.1784 - val_accuracy: 0.6214\n",
            "Epoch 52/100\n",
            "140/140 [==============================] - 5s 33ms/step - loss: 0.0162 - accuracy: 0.9969 - val_loss: 4.1804 - val_accuracy: 0.6196\n",
            "Epoch 53/100\n",
            "140/140 [==============================] - 5s 33ms/step - loss: 0.0161 - accuracy: 0.9969 - val_loss: 4.3841 - val_accuracy: 0.6214\n",
            "Epoch 54/100\n",
            "140/140 [==============================] - 5s 34ms/step - loss: 0.0158 - accuracy: 0.9955 - val_loss: 4.5740 - val_accuracy: 0.6232\n",
            "Epoch 55/100\n",
            "140/140 [==============================] - 6s 40ms/step - loss: 0.0158 - accuracy: 0.9973 - val_loss: 4.5266 - val_accuracy: 0.6214\n",
            "Epoch 56/100\n",
            "140/140 [==============================] - 5s 33ms/step - loss: 0.0143 - accuracy: 0.9978 - val_loss: 4.6617 - val_accuracy: 0.6196\n",
            "Epoch 57/100\n",
            "140/140 [==============================] - 5s 33ms/step - loss: 0.0133 - accuracy: 0.9973 - val_loss: 4.5142 - val_accuracy: 0.6214\n",
            "Epoch 58/100\n",
            "140/140 [==============================] - 5s 33ms/step - loss: 0.0136 - accuracy: 0.9964 - val_loss: 4.8194 - val_accuracy: 0.6196\n",
            "Epoch 59/100\n",
            "140/140 [==============================] - 5s 33ms/step - loss: 0.0131 - accuracy: 0.9978 - val_loss: 4.8175 - val_accuracy: 0.6179\n",
            "Epoch 60/100\n",
            "140/140 [==============================] - 5s 34ms/step - loss: 0.0119 - accuracy: 0.9973 - val_loss: 4.5975 - val_accuracy: 0.6214\n",
            "Epoch 61/100\n",
            "140/140 [==============================] - 5s 33ms/step - loss: 0.0121 - accuracy: 0.9982 - val_loss: 4.3206 - val_accuracy: 0.6250\n",
            "Epoch 62/100\n",
            "140/140 [==============================] - 5s 34ms/step - loss: 0.0114 - accuracy: 0.9978 - val_loss: 4.6208 - val_accuracy: 0.6214\n",
            "Epoch 63/100\n",
            "140/140 [==============================] - 5s 33ms/step - loss: 0.0113 - accuracy: 0.9982 - val_loss: 4.8601 - val_accuracy: 0.6196\n",
            "Epoch 64/100\n",
            "140/140 [==============================] - 5s 33ms/step - loss: 0.0116 - accuracy: 0.9973 - val_loss: 4.7836 - val_accuracy: 0.6196\n",
            "Epoch 65/100\n",
            "140/140 [==============================] - 5s 33ms/step - loss: 0.0102 - accuracy: 0.9987 - val_loss: 4.8042 - val_accuracy: 0.6232\n",
            "Epoch 66/100\n",
            "140/140 [==============================] - 5s 34ms/step - loss: 0.0108 - accuracy: 0.9969 - val_loss: 4.9464 - val_accuracy: 0.6196\n",
            "Epoch 67/100\n",
            "140/140 [==============================] - 5s 33ms/step - loss: 0.0106 - accuracy: 0.9964 - val_loss: 4.7996 - val_accuracy: 0.6179\n",
            "Epoch 68/100\n",
            "140/140 [==============================] - 5s 33ms/step - loss: 0.0108 - accuracy: 0.9969 - val_loss: 4.9456 - val_accuracy: 0.6196\n",
            "Epoch 69/100\n",
            "140/140 [==============================] - 5s 33ms/step - loss: 0.0099 - accuracy: 0.9982 - val_loss: 4.9650 - val_accuracy: 0.6196\n",
            "Epoch 70/100\n",
            "140/140 [==============================] - 5s 33ms/step - loss: 0.0086 - accuracy: 0.9987 - val_loss: 5.0133 - val_accuracy: 0.6214\n",
            "Epoch 71/100\n",
            "140/140 [==============================] - 5s 33ms/step - loss: 0.0093 - accuracy: 0.9987 - val_loss: 4.9066 - val_accuracy: 0.6232\n",
            "Epoch 72/100\n",
            "140/140 [==============================] - 5s 34ms/step - loss: 0.0091 - accuracy: 0.9978 - val_loss: 4.9839 - val_accuracy: 0.6214\n",
            "Epoch 73/100\n",
            "140/140 [==============================] - 5s 34ms/step - loss: 0.0081 - accuracy: 0.9987 - val_loss: 5.1080 - val_accuracy: 0.6214\n",
            "Epoch 74/100\n",
            "140/140 [==============================] - 5s 33ms/step - loss: 0.0086 - accuracy: 0.9982 - val_loss: 5.0568 - val_accuracy: 0.6232\n",
            "Epoch 75/100\n",
            "140/140 [==============================] - 5s 34ms/step - loss: 0.0066 - accuracy: 0.9991 - val_loss: 5.3342 - val_accuracy: 0.6196\n",
            "Epoch 76/100\n",
            "140/140 [==============================] - 5s 33ms/step - loss: 0.0079 - accuracy: 0.9978 - val_loss: 5.6601 - val_accuracy: 0.6179\n",
            "Epoch 77/100\n",
            "140/140 [==============================] - 5s 33ms/step - loss: 0.0066 - accuracy: 1.0000 - val_loss: 5.1232 - val_accuracy: 0.6196\n",
            "Epoch 78/100\n",
            "140/140 [==============================] - 5s 33ms/step - loss: 0.0060 - accuracy: 0.9991 - val_loss: 5.4575 - val_accuracy: 0.6179\n",
            "Epoch 79/100\n",
            "140/140 [==============================] - 5s 34ms/step - loss: 0.0069 - accuracy: 0.9991 - val_loss: 5.8465 - val_accuracy: 0.6179\n",
            "Epoch 80/100\n",
            "140/140 [==============================] - 5s 33ms/step - loss: 0.0073 - accuracy: 0.9982 - val_loss: 5.3896 - val_accuracy: 0.6214\n",
            "Epoch 81/100\n",
            "140/140 [==============================] - 5s 34ms/step - loss: 0.0066 - accuracy: 0.9996 - val_loss: 5.4898 - val_accuracy: 0.6214\n",
            "Epoch 82/100\n",
            "140/140 [==============================] - 5s 33ms/step - loss: 0.0072 - accuracy: 0.9978 - val_loss: 5.6073 - val_accuracy: 0.6161\n",
            "Epoch 83/100\n",
            "140/140 [==============================] - 5s 33ms/step - loss: 0.0068 - accuracy: 0.9982 - val_loss: 5.6056 - val_accuracy: 0.6196\n",
            "Epoch 84/100\n",
            "140/140 [==============================] - 5s 33ms/step - loss: 0.0055 - accuracy: 0.9987 - val_loss: 5.6643 - val_accuracy: 0.6196\n",
            "Epoch 85/100\n",
            "140/140 [==============================] - 5s 33ms/step - loss: 0.0056 - accuracy: 0.9987 - val_loss: 5.6097 - val_accuracy: 0.6179\n",
            "Epoch 86/100\n",
            "140/140 [==============================] - 5s 33ms/step - loss: 0.0060 - accuracy: 0.9996 - val_loss: 5.3159 - val_accuracy: 0.6232\n",
            "Epoch 87/100\n",
            "140/140 [==============================] - 5s 34ms/step - loss: 0.0050 - accuracy: 0.9996 - val_loss: 5.6185 - val_accuracy: 0.6214\n",
            "Epoch 88/100\n",
            "140/140 [==============================] - 5s 34ms/step - loss: 0.0045 - accuracy: 0.9996 - val_loss: 6.0579 - val_accuracy: 0.6125\n",
            "Epoch 89/100\n",
            "140/140 [==============================] - 5s 33ms/step - loss: 0.0044 - accuracy: 1.0000 - val_loss: 5.8406 - val_accuracy: 0.6196\n",
            "Epoch 90/100\n",
            "140/140 [==============================] - 5s 33ms/step - loss: 0.0054 - accuracy: 0.9996 - val_loss: 5.6176 - val_accuracy: 0.6196\n",
            "Epoch 91/100\n",
            "140/140 [==============================] - 5s 33ms/step - loss: 0.0046 - accuracy: 0.9991 - val_loss: 5.8015 - val_accuracy: 0.6196\n",
            "Epoch 92/100\n",
            "140/140 [==============================] - 5s 33ms/step - loss: 0.0043 - accuracy: 1.0000 - val_loss: 5.7942 - val_accuracy: 0.6196\n",
            "Epoch 93/100\n",
            "140/140 [==============================] - 5s 34ms/step - loss: 0.0043 - accuracy: 1.0000 - val_loss: 5.9078 - val_accuracy: 0.6250\n",
            "Epoch 94/100\n",
            "140/140 [==============================] - 5s 34ms/step - loss: 0.0040 - accuracy: 0.9996 - val_loss: 5.8714 - val_accuracy: 0.6196\n",
            "Epoch 95/100\n",
            "140/140 [==============================] - 5s 34ms/step - loss: 0.0040 - accuracy: 0.9996 - val_loss: 6.1505 - val_accuracy: 0.6179\n",
            "Epoch 96/100\n",
            "140/140 [==============================] - 5s 34ms/step - loss: 0.0041 - accuracy: 1.0000 - val_loss: 6.1472 - val_accuracy: 0.6179\n",
            "Epoch 97/100\n",
            "140/140 [==============================] - 5s 34ms/step - loss: 0.0032 - accuracy: 0.9996 - val_loss: 6.3565 - val_accuracy: 0.6196\n",
            "Epoch 98/100\n",
            "140/140 [==============================] - 5s 34ms/step - loss: 0.0033 - accuracy: 0.9996 - val_loss: 6.2616 - val_accuracy: 0.6179\n",
            "Epoch 99/100\n",
            "140/140 [==============================] - 5s 34ms/step - loss: 0.0034 - accuracy: 0.9996 - val_loss: 6.1742 - val_accuracy: 0.6196\n",
            "Epoch 100/100\n",
            "140/140 [==============================] - 5s 34ms/step - loss: 0.0032 - accuracy: 0.9996 - val_loss: 6.3285 - val_accuracy: 0.6179\n"
          ]
        }
      ]
    },
    {
      "cell_type": "code",
      "source": [
        "epochs = range(0,100)\n",
        "acc = cnnhistory.history['accuracy']\n",
        "val_acc = cnnhistory.history['val_accuracy']\n",
        "\n",
        "plt.plot(epochs, acc, label = 'train accuracy')\n",
        "plt.plot(epochs, val_acc, label = 'val accuracy')\n",
        "plt.ylabel('accuracy')\n",
        "plt.xlabel('epochs')\n",
        "plt.legend()\n",
        "plt.show()"
      ],
      "metadata": {
        "colab": {
          "base_uri": "https://localhost:8080/",
          "height": 279
        },
        "id": "bs_Ng8lPx3Ip",
        "outputId": "52769744-bc61-40e9-f484-d41b60b39133"
      },
      "execution_count": 37,
      "outputs": [
        {
          "output_type": "display_data",
          "data": {
            "text/plain": [
              "<Figure size 432x288 with 1 Axes>"
            ],
            "image/png": "[encoded data removed]"
          },
          "metadata": {
            "needs_background": "light"
          }
        }
      ]
    },
    {
      "cell_type": "code",
      "source": [
        "# getting my dataset loaded:\n",
        "def extract_mfcc(filename):\n",
        "  y, sr = librosa.load(filename, duration = 30, offset = 60)\n",
        "  mfcc = np.mean(librosa.feature.mfcc(y = y, sr = sr, n_mfcc = 40).T, axis = 0)\n",
        "  print(filename, 'done')\n",
        "  return mfcc\n",
        "\n",
        "# loading the dataset\n",
        "paths = []\n",
        "labels = []\n",
        "files = []\n",
        "datadir = \"/content/drive/MyDrive/Deep Learning/Political_Speeches_Folder/audio_data_2\"\n",
        "\n",
        "for dirname, president, filenames in os.walk(datadir):\n",
        "  for filename in filenames:\n",
        "    if filename != '.DS_Store':\n",
        "      paths.append(os.path.join(dirname, filename))\n",
        "      label = dirname.split('/')[-1]\n",
        "      labels.append(label)\n",
        "      files.append(filename)\n",
        "\n",
        "# creating dataframe\n",
        "data = pd.DataFrame()\n",
        "data['speech'] = paths\n",
        "data['labels'] = labels\n",
        "data['filename'] = files\n",
        "data.head()"
      ],
      "metadata": {
        "colab": {
          "base_uri": "https://localhost:8080/",
          "height": 206
        },
        "id": "5quf3nTSy_yi",
        "outputId": "d52b738c-1f38-4012-86fb-0ee1b4ccfe52"
      },
      "execution_count": 38,
      "outputs": [
        {
          "output_type": "execute_result",
          "data": {
            "text/plain": [
              "                                              speech           labels filename\n",
              "0  /content/drive/MyDrive/Deep Learning/Political...  John F. Kennedy  588.mp3\n",
              "1  /content/drive/MyDrive/Deep Learning/Political...  John F. Kennedy  589.mp3\n",
              "2  /content/drive/MyDrive/Deep Learning/Political...  John F. Kennedy  594.mp3\n",
              "3  /content/drive/MyDrive/Deep Learning/Political...  John F. Kennedy  595.mp3\n",
              "4  /content/drive/MyDrive/Deep Learning/Political...  John F. Kennedy  605.mp3"
            ],
            "text/html": [
              "\n",
              "  <div id=\"df-7cb2d86f-2139-4889-97dd-3086e2908198\">\n",
              "    <div class=\"colab-df-container\">\n",
              "      <div>\n",
              "<style scoped>\n",
              "    .dataframe tbody tr th:only-of-type {\n",
              "        vertical-align: middle;\n",
              "    }\n",
              "\n",
              "    .dataframe tbody tr th {\n",
              "        vertical-align: top;\n",
              "    }\n",
              "\n",
              "    .dataframe thead th {\n",
              "        text-align: right;\n",
              "    }\n",
              "</style>\n",
              "<table border=\"1\" class=\"dataframe\">\n",
              "  <thead>\n",
              "    <tr style=\"text-align: right;\">\n",
              "      <th></th>\n",
              "      <th>speech</th>\n",
              "      <th>labels</th>\n",
              "      <th>filename</th>\n",
              "    </tr>\n",
              "  </thead>\n",
              "  <tbody>\n",
              "    <tr>\n",
              "      <th>0</th>\n",
              "      <td>/content/drive/MyDrive/Deep Learning/Political...</td>\n",
              "      <td>John F. Kennedy</td>\n",
              "      <td>588.mp3</td>\n",
              "    </tr>\n",
              "    <tr>\n",
              "      <th>1</th>\n",
              "      <td>/content/drive/MyDrive/Deep Learning/Political...</td>\n",
              "      <td>John F. Kennedy</td>\n",
              "      <td>589.mp3</td>\n",
              "    </tr>\n",
              "    <tr>\n",
              "      <th>2</th>\n",
              "      <td>/content/drive/MyDrive/Deep Learning/Political...</td>\n",
              "      <td>John F. Kennedy</td>\n",
              "      <td>594.mp3</td>\n",
              "    </tr>\n",
              "    <tr>\n",
              "      <th>3</th>\n",
              "      <td>/content/drive/MyDrive/Deep Learning/Political...</td>\n",
              "      <td>John F. Kennedy</td>\n",
              "      <td>595.mp3</td>\n",
              "    </tr>\n",
              "    <tr>\n",
              "      <th>4</th>\n",
              "      <td>/content/drive/MyDrive/Deep Learning/Political...</td>\n",
              "      <td>John F. Kennedy</td>\n",
              "      <td>605.mp3</td>\n",
              "    </tr>\n",
              "  </tbody>\n",
              "</table>\n",
              "</div>\n",
              "      <button class=\"colab-df-convert\" onclick=\"convertToInteractive('df-7cb2d86f-2139-4889-97dd-3086e2908198')\"\n",
              "              title=\"Convert this dataframe to an interactive table.\"\n",
              "              style=\"display:none;\">\n",
              "        \n",
              "  <svg xmlns=\"http://www.w3.org/2000/svg\" height=\"24px\"viewBox=\"0 0 24 24\"\n",
              "       width=\"24px\">\n",
              "    <path d=\"M0 0h24v24H0V0z\" fill=\"none\"/>\n",
              "    <path d=\"M18.56 5.44l.94 2.06.94-2.06 2.06-.94-2.06-.94-.94-2.06-.94 2.06-2.06.94zm-11 1L8.5 8.5l.94-2.06 2.06-.94-2.06-.94L8.5 2.5l-.94 2.06-2.06.94zm10 10l.94 2.06.94-2.06 2.06-.94-2.06-.94-.94-2.06-.94 2.06-2.06.94z\"/><path d=\"M17.41 7.96l-1.37-1.37c-.4-.4-.92-.59-1.43-.59-.52 0-1.04.2-1.43.59L10.3 9.45l-7.72 7.72c-.78.78-.78 2.05 0 2.83L4 21.41c.39.39.9.59 1.41.59.51 0 1.02-.2 1.41-.59l7.78-7.78 2.81-2.81c.8-.78.8-2.07 0-2.86zM5.41 20L4 18.59l7.72-7.72 1.47 1.35L5.41 20z\"/>\n",
              "  </svg>\n",
              "      </button>\n",
              "      \n",
              "  <style>\n",
              "    .colab-df-container {\n",
              "      display:flex;\n",
              "      flex-wrap:wrap;\n",
              "      gap: 12px;\n",
              "    }\n",
              "\n",
              "    .colab-df-convert {\n",
              "      background-color: #E8F0FE;\n",
              "      border: none;\n",
              "      border-radius: 50%;\n",
              "      cursor: pointer;\n",
              "      display: none;\n",
              "      fill: #1967D2;\n",
              "      height: 32px;\n",
              "      padding: 0 0 0 0;\n",
              "      width: 32px;\n",
              "    }\n",
              "\n",
              "    .colab-df-convert:hover {\n",
              "      background-color: #E2EBFA;\n",
              "      box-shadow: 0px 1px 2px rgba(60, 64, 67, 0.3), 0px 1px 3px 1px rgba(60, 64, 67, 0.15);\n",
              "      fill: #174EA6;\n",
              "    }\n",
              "\n",
              "    [theme=dark] .colab-df-convert {\n",
              "      background-color: #3B4455;\n",
              "      fill: #D2E3FC;\n",
              "    }\n",
              "\n",
              "    [theme=dark] .colab-df-convert:hover {\n",
              "      background-color: #434B5C;\n",
              "      box-shadow: 0px 1px 3px 1px rgba(0, 0, 0, 0.15);\n",
              "      filter: drop-shadow(0px 1px 2px rgba(0, 0, 0, 0.3));\n",
              "      fill: #FFFFFF;\n",
              "    }\n",
              "  </style>\n",
              "\n",
              "      <script>\n",
              "        const buttonEl =\n",
              "          document.querySelector('#df-7cb2d86f-2139-4889-97dd-3086e2908198 button.colab-df-convert');\n",
              "        buttonEl.style.display =\n",
              "          google.colab.kernel.accessAllowed ? 'block' : 'none';\n",
              "\n",
              "        async function convertToInteractive(key) {\n",
              "          const element = document.querySelector('#df-7cb2d86f-2139-4889-97dd-3086e2908198');\n",
              "          const dataTable =\n",
              "            await google.colab.kernel.invokeFunction('convertToInteractive',\n",
              "                                                     [key], {});\n",
              "          if (!dataTable) return;\n",
              "\n",
              "          const docLinkHtml = 'Like what you see? Visit the ' +\n",
              "            '<a target=\"_blank\" href=https://colab.research.google.com/notebooks/data_table.ipynb>data table notebook</a>'\n",
              "            + ' to learn more about interactive tables.';\n",
              "          element.innerHTML = '';\n",
              "          dataTable['output_type'] = 'display_data';\n",
              "          await google.colab.output.renderOutput(dataTable, element);\n",
              "          const docLink = document.createElement('div');\n",
              "          docLink.innerHTML = docLinkHtml;\n",
              "          element.appendChild(docLink);\n",
              "        }\n",
              "      </script>\n",
              "    </div>\n",
              "  </div>\n",
              "  "
            ]
          },
          "metadata": {},
          "execution_count": 38
        }
      ]
    },
    {
      "cell_type": "code",
      "source": [
        "data_mfcc = data['speech'].apply(lambda x: extract_mfcc(x))"
      ],
      "metadata": {
        "colab": {
          "base_uri": "https://localhost:8080/"
        },
        "id": "Y0YVKpkizUdm",
        "outputId": "fdcaf722-ace2-4856-cdeb-d162f067c78b"
      },
      "execution_count": 11,
      "outputs": [
        {
          "output_type": "stream",
          "name": "stdout",
          "text": [
            "/content/drive/MyDrive/Deep Learning/Political_Speeches_Folder/audio_data_2/John F. Kennedy/588.mp3 done\n",
            "/content/drive/MyDrive/Deep Learning/Political_Speeches_Folder/audio_data_2/John F. Kennedy/589.mp3 done\n",
            "/content/drive/MyDrive/Deep Learning/Political_Speeches_Folder/audio_data_2/John F. Kennedy/594.mp3 done\n",
            "/content/drive/MyDrive/Deep Learning/Political_Speeches_Folder/audio_data_2/John F. Kennedy/595.mp3 done\n",
            "/content/drive/MyDrive/Deep Learning/Political_Speeches_Folder/audio_data_2/John F. Kennedy/605.mp3 done\n",
            "/content/drive/MyDrive/Deep Learning/Political_Speeches_Folder/audio_data_2/John F. Kennedy/602.mp3 done\n",
            "/content/drive/MyDrive/Deep Learning/Political_Speeches_Folder/audio_data_2/John F. Kennedy/612.mp3 done\n",
            "/content/drive/MyDrive/Deep Learning/Political_Speeches_Folder/audio_data_2/John F. Kennedy/619.mp3 done\n",
            "/content/drive/MyDrive/Deep Learning/Political_Speeches_Folder/audio_data_2/John F. Kennedy/622.mp3 done\n",
            "/content/drive/MyDrive/Deep Learning/Political_Speeches_Folder/audio_data_2/John F. Kennedy/620.mp3 done\n",
            "/content/drive/MyDrive/Deep Learning/Political_Speeches_Folder/audio_data_2/John F. Kennedy/624.mp3 done\n",
            "/content/drive/MyDrive/Deep Learning/Political_Speeches_Folder/audio_data_2/John F. Kennedy/628.mp3 done\n",
            "/content/drive/MyDrive/Deep Learning/Political_Speeches_Folder/audio_data_2/John F. Kennedy/629.mp3 done\n",
            "/content/drive/MyDrive/Deep Learning/Political_Speeches_Folder/audio_data_2/John F. Kennedy/630.mp3 done\n",
            "/content/drive/MyDrive/Deep Learning/Political_Speeches_Folder/audio_data_2/John F. Kennedy/627.mp3 done\n",
            "/content/drive/MyDrive/Deep Learning/Political_Speeches_Folder/audio_data_2/John F. Kennedy/632.mp3 done\n",
            "/content/drive/MyDrive/Deep Learning/Political_Speeches_Folder/audio_data_2/John F. Kennedy/633.mp3 done\n",
            "/content/drive/MyDrive/Deep Learning/Political_Speeches_Folder/audio_data_2/John F. Kennedy/583.mp3 done\n",
            "/content/drive/MyDrive/Deep Learning/Political_Speeches_Folder/audio_data_2/George W. Bush/gwb_2001_0120_FirstInaugural.mp3 done\n",
            "/content/drive/MyDrive/Deep Learning/Political_Speeches_Folder/audio_data_2/George W. Bush/gwb_2001_0129_FaithBased.mp3 done\n",
            "/content/drive/MyDrive/Deep Learning/Political_Speeches_Folder/audio_data_2/George W. Bush/886.mp3 done\n",
            "/content/drive/MyDrive/Deep Learning/Political_Speeches_Folder/audio_data_2/George W. Bush/887.mp3 done\n",
            "/content/drive/MyDrive/Deep Learning/Political_Speeches_Folder/audio_data_2/George W. Bush/889.mp3 done\n",
            "/content/drive/MyDrive/Deep Learning/Political_Speeches_Folder/audio_data_2/George W. Bush/888.mp3 done\n",
            "/content/drive/MyDrive/Deep Learning/Political_Speeches_Folder/audio_data_2/George W. Bush/891.mp3 done\n",
            "/content/drive/MyDrive/Deep Learning/Political_Speeches_Folder/audio_data_2/George W. Bush/890.mp3 done\n",
            "/content/drive/MyDrive/Deep Learning/Political_Speeches_Folder/audio_data_2/George W. Bush/894.mp3 done\n",
            "/content/drive/MyDrive/Deep Learning/Political_Speeches_Folder/audio_data_2/George W. Bush/893.mp3 done\n",
            "/content/drive/MyDrive/Deep Learning/Political_Speeches_Folder/audio_data_2/George W. Bush/895.mp3 done\n",
            "/content/drive/MyDrive/Deep Learning/Political_Speeches_Folder/audio_data_2/George W. Bush/892.mp3 done\n",
            "/content/drive/MyDrive/Deep Learning/Political_Speeches_Folder/audio_data_2/George W. Bush/896.mp3 done\n",
            "/content/drive/MyDrive/Deep Learning/Political_Speeches_Folder/audio_data_2/George W. Bush/898.mp3 done\n",
            "/content/drive/MyDrive/Deep Learning/Political_Speeches_Folder/audio_data_2/George W. Bush/899.mp3 done\n",
            "/content/drive/MyDrive/Deep Learning/Political_Speeches_Folder/audio_data_2/George W. Bush/897.mp3 done\n",
            "/content/drive/MyDrive/Deep Learning/Political_Speeches_Folder/audio_data_2/George W. Bush/900.mp3 done\n",
            "/content/drive/MyDrive/Deep Learning/Political_Speeches_Folder/audio_data_2/George W. Bush/901.mp3 done\n",
            "/content/drive/MyDrive/Deep Learning/Political_Speeches_Folder/audio_data_2/George W. Bush/904.mp3 done\n",
            "/content/drive/MyDrive/Deep Learning/Political_Speeches_Folder/audio_data_2/George W. Bush/902.mp3 done\n",
            "/content/drive/MyDrive/Deep Learning/Political_Speeches_Folder/audio_data_2/George W. Bush/903.mp3 done\n",
            "/content/drive/MyDrive/Deep Learning/Political_Speeches_Folder/audio_data_2/George W. Bush/905.mp3 done\n",
            "/content/drive/MyDrive/Deep Learning/Political_Speeches_Folder/audio_data_2/George W. Bush/gwb_2009_0115_FarewellAddress.mp3 done\n",
            "/content/drive/MyDrive/Deep Learning/Political_Speeches_Folder/audio_data_2/George W. Bush/gwb_2005_0120_SecondInaugural.mp3 done\n",
            "/content/drive/MyDrive/Deep Learning/Political_Speeches_Folder/audio_data_2/George W. Bush/gwb_2005_0831_KatrinaRemarks.mp3 done\n",
            "/content/drive/MyDrive/Deep Learning/Political_Speeches_Folder/audio_data_2/George W. Bush/spe_2005_0202_bush.mp3 done\n",
            "/content/drive/MyDrive/Deep Learning/Political_Speeches_Folder/audio_data_2/George W. Bush/gwb_2005_0915_KatrinaAddress.mp3 done\n",
            "/content/drive/MyDrive/Deep Learning/Political_Speeches_Folder/audio_data_2/George W. Bush/gwb_2005_1218_IraqRenewal.mp3 done\n",
            "/content/drive/MyDrive/Deep Learning/Political_Speeches_Folder/audio_data_2/George W. Bush/gwb_2006_0719_StemCellPolicy.mp3 done\n",
            "/content/drive/MyDrive/Deep Learning/Political_Speeches_Folder/audio_data_2/George W. Bush/spe_2006_0131_bush.mp3 done\n",
            "/content/drive/MyDrive/Deep Learning/Political_Speeches_Folder/audio_data_2/George W. Bush/gwb_2007_0409_ImmigrationReform.mp3 done\n",
            "/content/drive/MyDrive/Deep Learning/Political_Speeches_Folder/audio_data_2/George W. Bush/spe_2007_0123_bush.mp3 done\n",
            "/content/drive/MyDrive/Deep Learning/Political_Speeches_Folder/audio_data_2/George H. W. Bush/spe_1992_1204_bush.mp3 done\n",
            "/content/drive/MyDrive/Deep Learning/Political_Speeches_Folder/audio_data_2/George H. W. Bush/spe_1992_1215_bush.mp3 done\n",
            "/content/drive/MyDrive/Deep Learning/Political_Speeches_Folder/audio_data_2/George H. W. Bush/spe_1991_0227_bush.mp3 done\n",
            "/content/drive/MyDrive/Deep Learning/Political_Speeches_Folder/audio_data_2/George H. W. Bush/spe_1991_0116_bush.mp3 done\n",
            "/content/drive/MyDrive/Deep Learning/Political_Speeches_Folder/audio_data_2/George H. W. Bush/spe_1990_1002_bush.mp3 done\n",
            "/content/drive/MyDrive/Deep Learning/Political_Speeches_Folder/audio_data_2/George H. W. Bush/spe_1990_0808_bush.mp3 done\n",
            "/content/drive/MyDrive/Deep Learning/Political_Speeches_Folder/audio_data_2/George H. W. Bush/spe_1989_1220_bush.mp3 done\n",
            "/content/drive/MyDrive/Deep Learning/Political_Speeches_Folder/audio_data_2/George H. W. Bush/spe_1992_1011_bush.mp3 done\n",
            "/content/drive/MyDrive/Deep Learning/Political_Speeches_Folder/audio_data_2/George H. W. Bush/spe_1991_0306_bush.mp3 done\n",
            "/content/drive/MyDrive/Deep Learning/Political_Speeches_Folder/audio_data_2/George H. W. Bush/spe_1992_0128_bush.mp3 done\n",
            "/content/drive/MyDrive/Deep Learning/Political_Speeches_Folder/audio_data_2/George H. W. Bush/spe_1990_0911_bush.mp3 done\n",
            "/content/drive/MyDrive/Deep Learning/Political_Speeches_Folder/audio_data_2/George H. W. Bush/spe_1990_0726_bush.mp3 done\n",
            "/content/drive/MyDrive/Deep Learning/Political_Speeches_Folder/audio_data_2/George H. W. Bush/spe_1990_1001_bush.mp3 done\n",
            "/content/drive/MyDrive/Deep Learning/Political_Speeches_Folder/audio_data_2/George H. W. Bush/spe_1992_0820_bush.mp3 done\n",
            "/content/drive/MyDrive/Deep Learning/Political_Speeches_Folder/audio_data_2/George H. W. Bush/spe_1989_0512_bush.mp3 done\n",
            "/content/drive/MyDrive/Deep Learning/Political_Speeches_Folder/audio_data_2/George H. W. Bush/spe_1991_0129_bush.mp3 done\n",
            "/content/drive/MyDrive/Deep Learning/Political_Speeches_Folder/audio_data_2/George H. W. Bush/spe_1990_0131_bush.mp3 done\n",
            "/content/drive/MyDrive/Deep Learning/Political_Speeches_Folder/audio_data_2/George H. W. Bush/spe_1989_0209_bush.mp3 done\n",
            "/content/drive/MyDrive/Deep Learning/Political_Speeches_Folder/audio_data_2/Lyndon B. Johnson/spe_1968_0403_johnson.mp3 done\n",
            "/content/drive/MyDrive/Deep Learning/Political_Speeches_Folder/audio_data_2/Lyndon B. Johnson/spe_1968_0117_johnson.mp3 done\n",
            "/content/drive/MyDrive/Deep Learning/Political_Speeches_Folder/audio_data_2/Lyndon B. Johnson/spe_1967_1117_johnson.mp3 done\n",
            "/content/drive/MyDrive/Deep Learning/Political_Speeches_Folder/audio_data_2/Lyndon B. Johnson/spe_1967_0202_johnson.mp3 done\n",
            "/content/drive/MyDrive/Deep Learning/Political_Speeches_Folder/audio_data_2/Lyndon B. Johnson/spe_1966_0223_johnson.mp3 done\n",
            "/content/drive/MyDrive/Deep Learning/Political_Speeches_Folder/audio_data_2/Lyndon B. Johnson/spe_1964_0522_johnson.mp3 done\n",
            "/content/drive/MyDrive/Deep Learning/Political_Speeches_Folder/audio_data_2/Lyndon B. Johnson/spe_1963_1217_johnson.mp3 done\n",
            "/content/drive/MyDrive/Deep Learning/Political_Speeches_Folder/audio_data_2/Lyndon B. Johnson/spe_1963_0530_johnson.mp3 done\n",
            "/content/drive/MyDrive/Deep Learning/Political_Speeches_Folder/audio_data_2/Franklin D. Roosevelt/spe_1933_0304_roosevelt.mp3 done\n",
            "/content/drive/MyDrive/Deep Learning/Political_Speeches_Folder/audio_data_2/Franklin D. Roosevelt/spe_1933_0507_roosevelt.mp3 done\n",
            "/content/drive/MyDrive/Deep Learning/Political_Speeches_Folder/audio_data_2/Franklin D. Roosevelt/spe_1934_0930_roosevelt.mp3 done\n",
            "/content/drive/MyDrive/Deep Learning/Political_Speeches_Folder/audio_data_2/Franklin D. Roosevelt/spe_1936_0906_roosevelt.mp3 done\n",
            "/content/drive/MyDrive/Deep Learning/Political_Speeches_Folder/audio_data_2/Franklin D. Roosevelt/spe_1936_1031_roosevelt.mp3 done\n",
            "/content/drive/MyDrive/Deep Learning/Political_Speeches_Folder/audio_data_2/Franklin D. Roosevelt/spe_1937_0120_roosevelt.mp3 done\n",
            "/content/drive/MyDrive/Deep Learning/Political_Speeches_Folder/audio_data_2/Franklin D. Roosevelt/spe_1938_0414_roosevelt.mp3 done\n",
            "/content/drive/MyDrive/Deep Learning/Political_Speeches_Folder/audio_data_2/Franklin D. Roosevelt/spe_1938_0708_roosevelt.mp3 done\n",
            "/content/drive/MyDrive/Deep Learning/Political_Speeches_Folder/audio_data_2/Franklin D. Roosevelt/spe_1939_0903_roosevelt.mp3 done\n",
            "/content/drive/MyDrive/Deep Learning/Political_Speeches_Folder/audio_data_2/Franklin D. Roosevelt/spe_1940_1229_roosevelt.mp3 done\n",
            "/content/drive/MyDrive/Deep Learning/Political_Speeches_Folder/audio_data_2/Franklin D. Roosevelt/spe_1941_0315_roosevelt.mp3 done\n",
            "/content/drive/MyDrive/Deep Learning/Political_Speeches_Folder/audio_data_2/Franklin D. Roosevelt/spe_1941_0120_roosevelt.mp3 done\n",
            "/content/drive/MyDrive/Deep Learning/Political_Speeches_Folder/audio_data_2/Franklin D. Roosevelt/spe_1941_1208_roosevelt.mp3 done\n",
            "/content/drive/MyDrive/Deep Learning/Political_Speeches_Folder/audio_data_2/Franklin D. Roosevelt/spe_1942_0428_roosevelt.mp3 done\n",
            "/content/drive/MyDrive/Deep Learning/Political_Speeches_Folder/audio_data_2/Franklin D. Roosevelt/spe_1942_0907_roosevelt.mp3 done\n",
            "/content/drive/MyDrive/Deep Learning/Political_Speeches_Folder/audio_data_2/Franklin D. Roosevelt/spe_1943_0728_roosevelt.mp3 done\n",
            "/content/drive/MyDrive/Deep Learning/Political_Speeches_Folder/audio_data_2/Franklin D. Roosevelt/spe_1943_0908_roosevelt.mp3 done\n",
            "/content/drive/MyDrive/Deep Learning/Political_Speeches_Folder/audio_data_2/Franklin D. Roosevelt/spe_1943_1224_roosevelt.mp3 done\n",
            "/content/drive/MyDrive/Deep Learning/Political_Speeches_Folder/audio_data_2/Franklin D. Roosevelt/spe_1944_0720_roosevelt.mp3 done\n",
            "/content/drive/MyDrive/Deep Learning/Political_Speeches_Folder/audio_data_2/Jimmy Carter/spe_1979_1113_reagan.mp3 done\n",
            "/content/drive/MyDrive/Deep Learning/Political_Speeches_Folder/audio_data_2/Jimmy Carter/spe_1981_0114_carter.mp3 done\n",
            "/content/drive/MyDrive/Deep Learning/Political_Speeches_Folder/audio_data_2/Jimmy Carter/spe_1980_0425_carter.mp3 done\n",
            "/content/drive/MyDrive/Deep Learning/Political_Speeches_Folder/audio_data_2/Jimmy Carter/spe_1980_0104_carter.mp3 done\n",
            "/content/drive/MyDrive/Deep Learning/Political_Speeches_Folder/audio_data_2/Jimmy Carter/spe_1980_1028_carter.mp3 done\n",
            "/content/drive/MyDrive/Deep Learning/Political_Speeches_Folder/audio_data_2/Jimmy Carter/spe_1980_0814_carter.mp3 done\n",
            "/content/drive/MyDrive/Deep Learning/Political_Speeches_Folder/audio_data_2/Jimmy Carter/spe_1978_1215_carter.mp3 done\n",
            "/content/drive/MyDrive/Deep Learning/Political_Speeches_Folder/audio_data_2/Jimmy Carter/spe_1980_0123_carter.mp3 done\n",
            "/content/drive/MyDrive/Deep Learning/Political_Speeches_Folder/audio_data_2/Jimmy Carter/spe_1979_0123_carter.mp3 done\n",
            "/content/drive/MyDrive/Deep Learning/Political_Speeches_Folder/audio_data_2/Jimmy Carter/spe_1979_0715_carter.mp3 done\n",
            "/content/drive/MyDrive/Deep Learning/Political_Speeches_Folder/audio_data_2/Jimmy Carter/spe_1978_1024_carter.mp3 done\n",
            "/content/drive/MyDrive/Deep Learning/Political_Speeches_Folder/audio_data_2/Jimmy Carter/spe_1977_0907_carter.mp3 done\n",
            "/content/drive/MyDrive/Deep Learning/Political_Speeches_Folder/audio_data_2/Jimmy Carter/spe_1978_0917_carter.mp3 done\n",
            "/content/drive/MyDrive/Deep Learning/Political_Speeches_Folder/audio_data_2/Jimmy Carter/spe_1977_0418_carter.mp3 done\n",
            "/content/drive/MyDrive/Deep Learning/Political_Speeches_Folder/audio_data_2/Jimmy Carter/spe_1977_1108_carter.mp3 done\n",
            "/content/drive/MyDrive/Deep Learning/Political_Speeches_Folder/audio_data_2/Jimmy Carter/spe_1977_0522_carter.mp3 done\n",
            "/content/drive/MyDrive/Deep Learning/Political_Speeches_Folder/audio_data_2/Jimmy Carter/spe_1977_0202_carter.mp3 done\n",
            "/content/drive/MyDrive/Deep Learning/Political_Speeches_Folder/audio_data_2/Jimmy Carter/spe_1977_0120_carter.mp3 done\n",
            "/content/drive/MyDrive/Deep Learning/Political_Speeches_Folder/audio_data_2/Jimmy Carter/spe_1978_0119_carter.mp3 done\n",
            "/content/drive/MyDrive/Deep Learning/Political_Speeches_Folder/audio_data_2/Jimmy Carter/spe_1977_0309_carter.mp3 done\n",
            "/content/drive/MyDrive/Deep Learning/Political_Speeches_Folder/audio_data_2/Jimmy Carter/spe_1976_1006_carter.mp3 done\n",
            "/content/drive/MyDrive/Deep Learning/Political_Speeches_Folder/audio_data_2/Jimmy Carter/spe_1976_0923_carter.mp3 done\n",
            "/content/drive/MyDrive/Deep Learning/Political_Speeches_Folder/audio_data_2/Richard M. Nixon/spe_1974_0809_nixon.mp3 done\n",
            "/content/drive/MyDrive/Deep Learning/Political_Speeches_Folder/audio_data_2/Richard M. Nixon/spe_1974_0808_nixon.mp3 done\n",
            "/content/drive/MyDrive/Deep Learning/Political_Speeches_Folder/audio_data_2/Richard M. Nixon/spe_1974_0429_nixon.mp3 done\n",
            "/content/drive/MyDrive/Deep Learning/Political_Speeches_Folder/audio_data_2/Richard M. Nixon/spe_1974_0225_nixon.mp3 done\n",
            "/content/drive/MyDrive/Deep Learning/Political_Speeches_Folder/audio_data_2/Richard M. Nixon/spe_1974_0130_nixon.mp3 done\n",
            "/content/drive/MyDrive/Deep Learning/Political_Speeches_Folder/audio_data_2/Richard M. Nixon/spe_1973_0815_nixon.mp3 done\n",
            "/content/drive/MyDrive/Deep Learning/Political_Speeches_Folder/audio_data_2/Richard M. Nixon/spe_1973_0430_nixon.mp3 done\n",
            "/content/drive/MyDrive/Deep Learning/Political_Speeches_Folder/audio_data_2/Richard M. Nixon/spe_1973_0123_nixon.mp3 done\n",
            "/content/drive/MyDrive/Deep Learning/Political_Speeches_Folder/audio_data_2/Richard M. Nixon/spe_1973_0120_nixon.mp3 done\n",
            "/content/drive/MyDrive/Deep Learning/Political_Speeches_Folder/audio_data_2/Richard M. Nixon/spe_1972_1107_nixon.mp3 done\n",
            "/content/drive/MyDrive/Deep Learning/Political_Speeches_Folder/audio_data_2/Richard M. Nixon/spe_1972_1106_nixon.mp3 done\n",
            "/content/drive/MyDrive/Deep Learning/Political_Speeches_Folder/audio_data_2/Richard M. Nixon/spe_1972_0508_nixon.mp3 done\n",
            "/content/drive/MyDrive/Deep Learning/Political_Speeches_Folder/audio_data_2/Richard M. Nixon/spe_1972_0125_nixon.mp3 done\n",
            "/content/drive/MyDrive/Deep Learning/Political_Speeches_Folder/audio_data_2/Richard M. Nixon/spe_1971_0520_nixon.mp3 done\n",
            "/content/drive/MyDrive/Deep Learning/Political_Speeches_Folder/audio_data_2/Richard M. Nixon/spe_1972_0120_nixon.mp3 done\n",
            "/content/drive/MyDrive/Deep Learning/Political_Speeches_Folder/audio_data_2/Richard M. Nixon/spe_1971_0407_nixon.mp3 done\n",
            "/content/drive/MyDrive/Deep Learning/Political_Speeches_Folder/audio_data_2/Richard M. Nixon/spe_1971_0225_nixon.mp3 done\n",
            "/content/drive/MyDrive/Deep Learning/Political_Speeches_Folder/audio_data_2/Richard M. Nixon/spe_1970_0430_nixon.mp3 done\n",
            "/content/drive/MyDrive/Deep Learning/Political_Speeches_Folder/audio_data_2/Richard M. Nixon/spe_1971_0122_nixon.mp3 done\n",
            "/content/drive/MyDrive/Deep Learning/Political_Speeches_Folder/audio_data_2/Richard M. Nixon/spe_1970_0122_nixon.mp3 done\n",
            "/content/drive/MyDrive/Deep Learning/Political_Speeches_Folder/audio_data_2/Richard M. Nixon/spe_1969_1103_nixon.mp3 done\n",
            "/content/drive/MyDrive/Deep Learning/Political_Speeches_Folder/audio_data_2/Richard M. Nixon/spe_1969_0120_nixon.mp3 done\n",
            "/content/drive/MyDrive/Deep Learning/Political_Speeches_Folder/audio_data_2/Richard M. Nixon/spe_1952_0923_nixon.mp3 done\n"
          ]
        }
      ]
    },
    {
      "cell_type": "code",
      "source": [
        "data_mfcc"
      ],
      "metadata": {
        "colab": {
          "base_uri": "https://localhost:8080/"
        },
        "id": "nwzb7kKbzLil",
        "outputId": "7a066c27-af05-4fc7-d551-53d5ef3d2660"
      },
      "execution_count": 12,
      "outputs": [
        {
          "output_type": "execute_result",
          "data": {
            "text/plain": [
              "0      [-220.07184, 166.65898, -100.1954, -15.531105,...\n",
              "1      [-258.07776, 133.59967, -45.98028, 12.876276, ...\n",
              "2      [-237.23466, 149.80635, -46.70787, 33.15772, -...\n",
              "3      [-287.65503, 171.66159, -16.42228, -30.533337,...\n",
              "4      [-202.7244, 105.4874, -53.439472, 35.99678, -2...\n",
              "                             ...                        \n",
              "135    [-479.50504, 154.1326, 25.118778, 35.435963, 2...\n",
              "136    [-316.59067, 115.7062, -24.844387, 47.64137, 3...\n",
              "137    [-425.3395, 162.17715, 14.130533, 34.30965, 20...\n",
              "138    [-223.10649, 158.44333, -67.4183, 43.90846, -9...\n",
              "139    [-407.0804, 145.00581, -10.140112, 26.31172, 8...\n",
              "Name: speech, Length: 140, dtype: object"
            ]
          },
          "metadata": {},
          "execution_count": 12
        }
      ]
    },
    {
      "cell_type": "code",
      "source": [
        "my_embeds = []"
      ],
      "metadata": {
        "id": "n1ky8_A33PLt"
      },
      "execution_count": 13,
      "outputs": []
    },
    {
      "cell_type": "code",
      "source": [
        "for embed in data_mfcc:\n",
        "  will_add = embed.reshape(-1,40,1)\n",
        "  my_embeds.append(will_add)"
      ],
      "metadata": {
        "id": "alIwEToN3nvL"
      },
      "execution_count": 14,
      "outputs": []
    },
    {
      "cell_type": "code",
      "source": [
        "my_embeds = np.array(my_embeds)"
      ],
      "metadata": {
        "id": "sx1XfZSo5qGC"
      },
      "execution_count": 15,
      "outputs": []
    },
    {
      "cell_type": "code",
      "source": [
        "predictions = []\n",
        "for i in range(len(data_mfcc)):\n",
        "  pred = model_2.predict([data_mfcc[i].reshape(-1,40,1)])\n",
        "  predictions.append(pred)"
      ],
      "metadata": {
        "id": "OkTGGGob3d9T"
      },
      "execution_count": 40,
      "outputs": []
    },
    {
      "cell_type": "code",
      "source": [
        "len(predictions)"
      ],
      "metadata": {
        "colab": {
          "base_uri": "https://localhost:8080/"
        },
        "id": "vD65Uhv44vWg",
        "outputId": "b5941f48-8529-42d2-cace-ee6ce22e7c96"
      },
      "execution_count": 34,
      "outputs": [
        {
          "output_type": "execute_result",
          "data": {
            "text/plain": [
              "0"
            ]
          },
          "metadata": {},
          "execution_count": 34
        }
      ]
    },
    {
      "cell_type": "code",
      "source": [
        "labels.count('John F. Kennedy')\n",
        "# The first 18 are JFK"
      ],
      "metadata": {
        "colab": {
          "base_uri": "https://localhost:8080/"
        },
        "id": "OV78JgfA8Vpv",
        "outputId": "6bf6a628-d2cf-4e8c-de02-b1a06803e117"
      },
      "execution_count": 138,
      "outputs": [
        {
          "output_type": "execute_result",
          "data": {
            "text/plain": [
              "18"
            ]
          },
          "metadata": {},
          "execution_count": 138
        }
      ]
    },
    {
      "cell_type": "code",
      "source": [
        "emotions = pd.DataFrame()\n",
        "emotions['president'] = labels\n",
        "emotions['results'] = predictions\n",
        "emotions['filename'] = files\n"
      ],
      "metadata": {
        "id": "xyY5ZNWcHFn2"
      },
      "execution_count": 41,
      "outputs": []
    },
    {
      "cell_type": "code",
      "source": [
        "feelings = ['angry', 'happy', 'disgust', 'sad', 'fear', 'neutral', 'pleasant surprise']\n",
        "for i in range(len(feelings)):\n",
        "  emotions[feelings[i]] = [x[0][i] for x in predictions]"
      ],
      "metadata": {
        "id": "f3UPdLrhHTbp"
      },
      "execution_count": 42,
      "outputs": []
    },
    {
      "cell_type": "code",
      "source": [
        "emotions.head()"
      ],
      "metadata": {
        "colab": {
          "base_uri": "https://localhost:8080/",
          "height": 548
        },
        "id": "a26mXHkwH2fd",
        "outputId": "d8485bf6-d0b7-41e0-aa48-809d9d259b35"
      },
      "execution_count": 43,
      "outputs": [
        {
          "output_type": "execute_result",
          "data": {
            "text/plain": [
              "         president                                            results  \\\n",
              "0  John F. Kennedy  [[1.5055898e-06, 0.99921393, 5.961291e-08, 8.1...   \n",
              "1  John F. Kennedy  [[3.3335476e-07, 0.9999982, 2.2710456e-07, 1.1...   \n",
              "2  John F. Kennedy  [[1.3798684e-06, 0.99879646, 0.00011849626, 3....   \n",
              "3  John F. Kennedy  [[7.772586e-08, 0.99999356, 1.9066624e-06, 3.9...   \n",
              "4  John F. Kennedy  [[6.8680594e-05, 0.9997105, 0.00016956156, 1.1...   \n",
              "\n",
              "  filename         angry     happy       disgust           sad          fear  \\\n",
              "0  588.mp3  1.505590e-06  0.999214  5.961291e-08  8.181390e-10  2.742801e-14   \n",
              "1  589.mp3  3.333548e-07  0.999998  2.271046e-07  1.119858e-07  4.093748e-10   \n",
              "2  594.mp3  1.379868e-06  0.998796  1.184963e-04  3.793800e-06  3.513577e-08   \n",
              "3  595.mp3  7.772586e-08  0.999994  1.906662e-06  3.960576e-06  2.882060e-11   \n",
              "4  605.mp3  6.868059e-05  0.999711  1.695616e-04  1.199858e-07  1.016391e-08   \n",
              "\n",
              "        neutral  pleasant surprise  \n",
              "0  7.843237e-04       2.128449e-15  \n",
              "1  7.864832e-07       1.825937e-07  \n",
              "2  1.068819e-03       1.099860e-05  \n",
              "3  3.545763e-07       1.149472e-07  \n",
              "4  5.112058e-05       5.691521e-08  "
            ],
            "text/html": [
              "\n",
              "  <div id=\"df-343a8df8-ccda-4ed9-9161-02b4ad032434\">\n",
              "    <div class=\"colab-df-container\">\n",
              "      <div>\n",
              "<style scoped>\n",
              "    .dataframe tbody tr th:only-of-type {\n",
              "        vertical-align: middle;\n",
              "    }\n",
              "\n",
              "    .dataframe tbody tr th {\n",
              "        vertical-align: top;\n",
              "    }\n",
              "\n",
              "    .dataframe thead th {\n",
              "        text-align: right;\n",
              "    }\n",
              "</style>\n",
              "<table border=\"1\" class=\"dataframe\">\n",
              "  <thead>\n",
              "    <tr style=\"text-align: right;\">\n",
              "      <th></th>\n",
              "      <th>president</th>\n",
              "      <th>results</th>\n",
              "      <th>filename</th>\n",
              "      <th>angry</th>\n",
              "      <th>happy</th>\n",
              "      <th>disgust</th>\n",
              "      <th>sad</th>\n",
              "      <th>fear</th>\n",
              "      <th>neutral</th>\n",
              "      <th>pleasant surprise</th>\n",
              "    </tr>\n",
              "  </thead>\n",
              "  <tbody>\n",
              "    <tr>\n",
              "      <th>0</th>\n",
              "      <td>John F. Kennedy</td>\n",
              "      <td>[[1.5055898e-06, 0.99921393, 5.961291e-08, 8.1...</td>\n",
              "      <td>588.mp3</td>\n",
              "      <td>1.505590e-06</td>\n",
              "      <td>0.999214</td>\n",
              "      <td>5.961291e-08</td>\n",
              "      <td>8.181390e-10</td>\n",
              "      <td>2.742801e-14</td>\n",
              "      <td>7.843237e-04</td>\n",
              "      <td>2.128449e-15</td>\n",
              "    </tr>\n",
              "    <tr>\n",
              "      <th>1</th>\n",
              "      <td>John F. Kennedy</td>\n",
              "      <td>[[3.3335476e-07, 0.9999982, 2.2710456e-07, 1.1...</td>\n",
              "      <td>589.mp3</td>\n",
              "      <td>3.333548e-07</td>\n",
              "      <td>0.999998</td>\n",
              "      <td>2.271046e-07</td>\n",
              "      <td>1.119858e-07</td>\n",
              "      <td>4.093748e-10</td>\n",
              "      <td>7.864832e-07</td>\n",
              "      <td>1.825937e-07</td>\n",
              "    </tr>\n",
              "    <tr>\n",
              "      <th>2</th>\n",
              "      <td>John F. Kennedy</td>\n",
              "      <td>[[1.3798684e-06, 0.99879646, 0.00011849626, 3....</td>\n",
              "      <td>594.mp3</td>\n",
              "      <td>1.379868e-06</td>\n",
              "      <td>0.998796</td>\n",
              "      <td>1.184963e-04</td>\n",
              "      <td>3.793800e-06</td>\n",
              "      <td>3.513577e-08</td>\n",
              "      <td>1.068819e-03</td>\n",
              "      <td>1.099860e-05</td>\n",
              "    </tr>\n",
              "    <tr>\n",
              "      <th>3</th>\n",
              "      <td>John F. Kennedy</td>\n",
              "      <td>[[7.772586e-08, 0.99999356, 1.9066624e-06, 3.9...</td>\n",
              "      <td>595.mp3</td>\n",
              "      <td>7.772586e-08</td>\n",
              "      <td>0.999994</td>\n",
              "      <td>1.906662e-06</td>\n",
              "      <td>3.960576e-06</td>\n",
              "      <td>2.882060e-11</td>\n",
              "      <td>3.545763e-07</td>\n",
              "      <td>1.149472e-07</td>\n",
              "    </tr>\n",
              "    <tr>\n",
              "      <th>4</th>\n",
              "      <td>John F. Kennedy</td>\n",
              "      <td>[[6.8680594e-05, 0.9997105, 0.00016956156, 1.1...</td>\n",
              "      <td>605.mp3</td>\n",
              "      <td>6.868059e-05</td>\n",
              "      <td>0.999711</td>\n",
              "      <td>1.695616e-04</td>\n",
              "      <td>1.199858e-07</td>\n",
              "      <td>1.016391e-08</td>\n",
              "      <td>5.112058e-05</td>\n",
              "      <td>5.691521e-08</td>\n",
              "    </tr>\n",
              "  </tbody>\n",
              "</table>\n",
              "</div>\n",
              "      <button class=\"colab-df-convert\" onclick=\"convertToInteractive('df-343a8df8-ccda-4ed9-9161-02b4ad032434')\"\n",
              "              title=\"Convert this dataframe to an interactive table.\"\n",
              "              style=\"display:none;\">\n",
              "        \n",
              "  <svg xmlns=\"http://www.w3.org/2000/svg\" height=\"24px\"viewBox=\"0 0 24 24\"\n",
              "       width=\"24px\">\n",
              "    <path d=\"M0 0h24v24H0V0z\" fill=\"none\"/>\n",
              "    <path d=\"M18.56 5.44l.94 2.06.94-2.06 2.06-.94-2.06-.94-.94-2.06-.94 2.06-2.06.94zm-11 1L8.5 8.5l.94-2.06 2.06-.94-2.06-.94L8.5 2.5l-.94 2.06-2.06.94zm10 10l.94 2.06.94-2.06 2.06-.94-2.06-.94-.94-2.06-.94 2.06-2.06.94z\"/><path d=\"M17.41 7.96l-1.37-1.37c-.4-.4-.92-.59-1.43-.59-.52 0-1.04.2-1.43.59L10.3 9.45l-7.72 7.72c-.78.78-.78 2.05 0 2.83L4 21.41c.39.39.9.59 1.41.59.51 0 1.02-.2 1.41-.59l7.78-7.78 2.81-2.81c.8-.78.8-2.07 0-2.86zM5.41 20L4 18.59l7.72-7.72 1.47 1.35L5.41 20z\"/>\n",
              "  </svg>\n",
              "      </button>\n",
              "      \n",
              "  <style>\n",
              "    .colab-df-container {\n",
              "      display:flex;\n",
              "      flex-wrap:wrap;\n",
              "      gap: 12px;\n",
              "    }\n",
              "\n",
              "    .colab-df-convert {\n",
              "      background-color: #E8F0FE;\n",
              "      border: none;\n",
              "      border-radius: 50%;\n",
              "      cursor: pointer;\n",
              "      display: none;\n",
              "      fill: #1967D2;\n",
              "      height: 32px;\n",
              "      padding: 0 0 0 0;\n",
              "      width: 32px;\n",
              "    }\n",
              "\n",
              "    .colab-df-convert:hover {\n",
              "      background-color: #E2EBFA;\n",
              "      box-shadow: 0px 1px 2px rgba(60, 64, 67, 0.3), 0px 1px 3px 1px rgba(60, 64, 67, 0.15);\n",
              "      fill: #174EA6;\n",
              "    }\n",
              "\n",
              "    [theme=dark] .colab-df-convert {\n",
              "      background-color: #3B4455;\n",
              "      fill: #D2E3FC;\n",
              "    }\n",
              "\n",
              "    [theme=dark] .colab-df-convert:hover {\n",
              "      background-color: #434B5C;\n",
              "      box-shadow: 0px 1px 3px 1px rgba(0, 0, 0, 0.15);\n",
              "      filter: drop-shadow(0px 1px 2px rgba(0, 0, 0, 0.3));\n",
              "      fill: #FFFFFF;\n",
              "    }\n",
              "  </style>\n",
              "\n",
              "      <script>\n",
              "        const buttonEl =\n",
              "          document.querySelector('#df-343a8df8-ccda-4ed9-9161-02b4ad032434 button.colab-df-convert');\n",
              "        buttonEl.style.display =\n",
              "          google.colab.kernel.accessAllowed ? 'block' : 'none';\n",
              "\n",
              "        async function convertToInteractive(key) {\n",
              "          const element = document.querySelector('#df-343a8df8-ccda-4ed9-9161-02b4ad032434');\n",
              "          const dataTable =\n",
              "            await google.colab.kernel.invokeFunction('convertToInteractive',\n",
              "                                                     [key], {});\n",
              "          if (!dataTable) return;\n",
              "\n",
              "          const docLinkHtml = 'Like what you see? Visit the ' +\n",
              "            '<a target=\"_blank\" href=https://colab.research.google.com/notebooks/data_table.ipynb>data table notebook</a>'\n",
              "            + ' to learn more about interactive tables.';\n",
              "          element.innerHTML = '';\n",
              "          dataTable['output_type'] = 'display_data';\n",
              "          await google.colab.output.renderOutput(dataTable, element);\n",
              "          const docLink = document.createElement('div');\n",
              "          docLink.innerHTML = docLinkHtml;\n",
              "          element.appendChild(docLink);\n",
              "        }\n",
              "      </script>\n",
              "    </div>\n",
              "  </div>\n",
              "  "
            ]
          },
          "metadata": {},
          "execution_count": 43
        }
      ]
    },
    {
      "cell_type": "code",
      "source": [
        "emotions.to_csv('audio_emotions_results')"
      ],
      "metadata": {
        "id": "RPxScaU_UdRB"
      },
      "execution_count": 44,
      "outputs": []
    },
    {
      "cell_type": "code",
      "source": [
        "import seaborn as sns"
      ],
      "metadata": {
        "id": "o-BxwQ5lJXvq"
      },
      "execution_count": 182,
      "outputs": []
    },
    {
      "cell_type": "code",
      "source": [
        "def plot_emotions(x_em, y_em): \n",
        "  sns.scatterplot(x_em, y_em, data=emotions, hue='president')\n",
        "  plt.show()\n",
        "\n",
        "plot_emotions('happy', 'angry')\n"
      ],
      "metadata": {
        "colab": {
          "base_uri": "https://localhost:8080/",
          "height": 279
        },
        "id": "6Bz6K73IILV-",
        "outputId": "4b750069-6a16-462a-b448-2cdd496ee6ff"
      },
      "execution_count": 45,
      "outputs": [
        {
          "output_type": "display_data",
          "data": {
            "text/plain": [
              "<Figure size 432x288 with 1 Axes>"
            ],
            "image/png": "[encoded data removed]"
          },
          "metadata": {
            "needs_background": "light"
          }
        }
      ]
    },
    {
      "cell_type": "code",
      "source": [
        "for feel in feelings:\n",
        "  plot_emotions('happy', feel)"
      ],
      "metadata": {
        "colab": {
          "base_uri": "https://localhost:8080/",
          "height": 1000
        },
        "id": "eM4ey53yJZSK",
        "outputId": "98aeeb63-45c9-4579-f4cf-9c415ae3a0c8"
      },
      "execution_count": 184,
      "outputs": [
        {
          "output_type": "display_data",
          "data": {
            "text/plain": [
              "<Figure size 432x288 with 1 Axes>"
            ],
            "image/png": "[encoded data removed]"
          },
          "metadata": {
            "needs_background": "light"
          }
        },
        {
          "output_type": "display_data",
          "data": {
            "text/plain": [
              "<Figure size 432x288 with 1 Axes>"
            ],
            "image/png": "[encoded data removed]"
          },
          "metadata": {
            "needs_background": "light"
          }
        },
        {
          "output_type": "display_data",
          "data": {
            "text/plain": [
              "<Figure size 432x288 with 1 Axes>"
            ],
            "image/png": "[encoded data removed]"
          },
          "metadata": {
            "needs_background": "light"
          }
        },
        {
          "output_type": "display_data",
          "data": {
            "text/plain": [
              "<Figure size 432x288 with 1 Axes>"
            ],
            "image/png": "[encoded data removed]"
          },
          "metadata": {
            "needs_background": "light"
          }
        },
        {
          "output_type": "display_data",
          "data": {
            "text/plain": [
              "<Figure size 432x288 with 1 Axes>"
            ],
            "image/png": "[encoded data removed]"
          },
          "metadata": {
            "needs_background": "light"
          }
        },
        {
          "output_type": "display_data",
          "data": {
            "text/plain": [
              "<Figure size 432x288 with 1 Axes>"
            ],
            "image/png": "[encoded data removed]"
          },
          "metadata": {
            "needs_background": "light"
          }
        },
        {
          "output_type": "display_data",
          "data": {
            "text/plain": [
              "<Figure size 432x288 with 1 Axes>"
            ],
            "image/png": "[encoded data removed]"
          },
          "metadata": {
            "needs_background": "light"
          }
        }
      ]
    },
    {
      "cell_type": "code",
      "source": [
        "for feel in feelings:\n",
        "  plot_emotions('neutral', feel)"
      ],
      "metadata": {
        "colab": {
          "base_uri": "https://localhost:8080/",
          "height": 1000
        },
        "id": "27KQ2VAOJuXw",
        "outputId": "bc286f10-946c-4c81-916e-e17681bbdbe1"
      },
      "execution_count": 46,
      "outputs": [
        {
          "output_type": "display_data",
          "data": {
            "text/plain": [
              "<Figure size 432x288 with 1 Axes>"
            ],
            "image/png": "[encoded data removed]"
          },
          "metadata": {
            "needs_background": "light"
          }
        },
        {
          "output_type": "display_data",
          "data": {
            "text/plain": [
              "<Figure size 432x288 with 1 Axes>"
            ],
            "image/png": "[encoded data removed]"
          },
          "metadata": {
            "needs_background": "light"
          }
        },
        {
          "output_type": "display_data",
          "data": {
            "text/plain": [
              "<Figure size 432x288 with 1 Axes>"
            ],
            "image/png": "[encoded data removed]"
          },
          "metadata": {
            "needs_background": "light"
          }
        },
        {
          "output_type": "display_data",
          "data": {
            "text/plain": [
              "<Figure size 432x288 with 1 Axes>"
            ],
            "image/png": "[encoded data removed]"
          },
          "metadata": {
            "needs_background": "light"
          }
        },
        {
          "output_type": "display_data",
          "data": {
            "text/plain": [
              "<Figure size 432x288 with 1 Axes>"
            ],
            "image/png": "[encoded data removed]"
          },
          "metadata": {
            "needs_background": "light"
          }
        },
        {
          "output_type": "display_data",
          "data": {
            "text/plain": [
              "<Figure size 432x288 with 1 Axes>"
            ],
            "image/png": "[encoded data removed]"
          },
          "metadata": {
            "needs_background": "light"
          }
        },
        {
          "output_type": "display_data",
          "data": {
            "text/plain": [
              "<Figure size 432x288 with 1 Axes>"
            ],
            "image/png": "[encoded data removed]"
          },
          "metadata": {
            "needs_background": "light"
          }
        }
      ]
    },
    {
      "cell_type": "markdown",
      "source": [
        "# Getting Contexts Heatmap"
      ],
      "metadata": {
        "id": "mw47of7cvR2J"
      }
    },
    {
      "cell_type": "code",
      "source": [
        "presis_data = pd.read_csv('/content/drive/MyDrive/Deep Learning/Political_Speeches_Folder/presidential_speeches_manual_labels.csv')"
      ],
      "metadata": {
        "id": "M3S-RQ8WvRXJ"
      },
      "execution_count": 185,
      "outputs": []
    },
    {
      "cell_type": "code",
      "source": [
        "# subsetting to the presidents I have audio data one\n",
        "presis_data = presis_data.loc[presis_data['President'].isin(labels)]"
      ],
      "metadata": {
        "id": "FhhRbSp8vPhH"
      },
      "execution_count": 186,
      "outputs": []
    },
    {
      "cell_type": "code",
      "source": [
        "presis_data['President'].value_counts()"
      ],
      "metadata": {
        "colab": {
          "base_uri": "https://localhost:8080/"
        },
        "id": "M_GgMRZJwH3a",
        "outputId": "3584c9f8-de5a-4792-d9d8-8ad6172674fa"
      },
      "execution_count": 187,
      "outputs": [
        {
          "output_type": "execute_result",
          "data": {
            "text/plain": [
              "Lyndon B. Johnson        71\n",
              "Franklin D. Roosevelt    49\n",
              "John F. Kennedy          44\n",
              "George W. Bush           39\n",
              "Richard M. Nixon         23\n",
              "George H. W. Bush        23\n",
              "Jimmy Carter             22\n",
              "Name: President, dtype: int64"
            ]
          },
          "metadata": {},
          "execution_count": 187
        }
      ]
    },
    {
      "cell_type": "code",
      "source": [
        "presis_data['Context'].value_counts()"
      ],
      "metadata": {
        "colab": {
          "base_uri": "https://localhost:8080/"
        },
        "id": "nMy7S6WkwhBz",
        "outputId": "30f20692-2779-4d45-ece3-8050f180e7ea"
      },
      "execution_count": 189,
      "outputs": [
        {
          "output_type": "execute_result",
          "data": {
            "text/plain": [
              "War              45\n",
              "SOTU             29\n",
              "Press            26\n",
              "FP               26\n",
              "Policy           21\n",
              "Money            20\n",
              "University       18\n",
              "Inaugural        12\n",
              "Debate           10\n",
              "Convention        9\n",
              "UN                6\n",
              "Protest           5\n",
              "Commemoration     5\n",
              "Congress          4\n",
              "Scandal           4\n",
              "Tragedy           4\n",
              "Campaign          3\n",
              "Farewell          3\n",
              "Name: Context, dtype: int64"
            ]
          },
          "metadata": {},
          "execution_count": 189
        }
      ]
    },
    {
      "cell_type": "markdown",
      "source": [
        "# Lets start with War Contexts"
      ],
      "metadata": {
        "id": "SNPaIvHR1d9C"
      }
    },
    {
      "cell_type": "markdown",
      "source": [
        "grab two speeches per president, coded as 'war'"
      ],
      "metadata": {
        "id": "MfyiIFTE1hjY"
      }
    },
    {
      "cell_type": "code",
      "source": [
        "presis_data.loc[presis_data['Context'].isin(['War'])]['President'].value_counts()"
      ],
      "metadata": {
        "colab": {
          "base_uri": "https://localhost:8080/"
        },
        "id": "l51J7ivdxwV7",
        "outputId": "fc739ff6-baa8-4b09-f497-dbe211028650"
      },
      "execution_count": 191,
      "outputs": [
        {
          "output_type": "execute_result",
          "data": {
            "text/plain": [
              "Franklin D. Roosevelt    21\n",
              "George W. Bush            8\n",
              "Lyndon B. Johnson         7\n",
              "Richard M. Nixon          7\n",
              "George H. W. Bush         2\n",
              "Name: President, dtype: int64"
            ]
          },
          "metadata": {},
          "execution_count": 191
        }
      ]
    },
    {
      "cell_type": "code",
      "source": [
        "presis_data.loc[presis_data['Context'].isin(['War'])]"
      ],
      "metadata": {
        "colab": {
          "base_uri": "https://localhost:8080/",
          "height": 1000
        },
        "id": "7GqPGyWw3I0c",
        "outputId": "f3baa9e5-f694-44d0-b661-58050386d212"
      },
      "execution_count": 202,
      "outputs": [
        {
          "output_type": "execute_result",
          "data": {
            "text/plain": [
              "           Date              President       Party Context  \\\n",
              "533  1939-09-03  Franklin D. Roosevelt  Democratic     War   \n",
              "534  1940-05-26  Franklin D. Roosevelt  Democratic     War   \n",
              "535  1940-06-10  Franklin D. Roosevelt  Democratic     War   \n",
              "537  1940-12-29  Franklin D. Roosevelt  Democratic     War   \n",
              "540  1941-03-15  Franklin D. Roosevelt  Democratic     War   \n",
              "541  1941-05-27  Franklin D. Roosevelt  Democratic     War   \n",
              "542  1941-09-11  Franklin D. Roosevelt  Democratic     War   \n",
              "543  1941-12-08  Franklin D. Roosevelt  Democratic     War   \n",
              "544  1941-12-09  Franklin D. Roosevelt  Democratic     War   \n",
              "545  1941-12-11  Franklin D. Roosevelt  Democratic     War   \n",
              "546  1942-02-23  Franklin D. Roosevelt  Democratic     War   \n",
              "547  1942-04-28  Franklin D. Roosevelt  Democratic     War   \n",
              "549  1942-10-12  Franklin D. Roosevelt  Democratic     War   \n",
              "552  1943-07-28  Franklin D. Roosevelt  Democratic     War   \n",
              "553  1943-09-08  Franklin D. Roosevelt  Democratic     War   \n",
              "554  1943-12-01  Franklin D. Roosevelt  Democratic     War   \n",
              "555  1943-12-24  Franklin D. Roosevelt  Democratic     War   \n",
              "557  1944-06-05  Franklin D. Roosevelt  Democratic     War   \n",
              "558  1944-06-12  Franklin D. Roosevelt  Democratic     War   \n",
              "561  1945-02-11  Franklin D. Roosevelt  Democratic     War   \n",
              "562  1945-03-01  Franklin D. Roosevelt  Democratic     War   \n",
              "648  1964-08-04      Lyndon B. Johnson  Democratic     War   \n",
              "664  1965-04-28      Lyndon B. Johnson  Democratic     War   \n",
              "665  1965-05-02      Lyndon B. Johnson  Democratic     War   \n",
              "676  1966-01-31      Lyndon B. Johnson  Democratic     War   \n",
              "690  1967-03-15      Lyndon B. Johnson  Democratic     War   \n",
              "700  1968-04-03      Lyndon B. Johnson  Democratic     War   \n",
              "703  1968-10-31      Lyndon B. Johnson  Democratic     War   \n",
              "706  1969-11-03       Richard M. Nixon  Republican     War   \n",
              "708  1970-04-30       Richard M. Nixon  Republican     War   \n",
              "711  1971-04-07       Richard M. Nixon  Republican     War   \n",
              "712  1971-05-20       Richard M. Nixon  Republican     War   \n",
              "714  1972-01-25       Richard M. Nixon  Republican     War   \n",
              "715  1972-05-08       Richard M. Nixon  Republican     War   \n",
              "719  1973-01-23       Richard M. Nixon  Republican     War   \n",
              "834  1991-01-16      George H. W. Bush  Republican     War   \n",
              "836  1991-02-27      George H. W. Bush  Republican     War   \n",
              "894  2002-06-06         George W. Bush  Republican     War   \n",
              "898  2003-03-17         George W. Bush  Republican     War   \n",
              "899  2003-03-19         George W. Bush  Republican     War   \n",
              "900  2003-11-06         George W. Bush  Republican     War   \n",
              "904  2004-07-17         George W. Bush  Republican     War   \n",
              "910  2005-12-18         George W. Bush  Republican     War   \n",
              "913  2007-01-10         George W. Bush  Republican     War   \n",
              "917  2008-03-19         George W. Bush  Republican     War   \n",
              "\n",
              "                                          Speech Title  \\\n",
              "533                                On the European War   \n",
              "534                                On National Defense   \n",
              "535                          \"Stab in the Back\" Speech   \n",
              "537                      On the \"Arsenal of Democracy\"   \n",
              "540                                      On Lend Lease   \n",
              "541                 On An Unlimited National Emergency   \n",
              "542                              On The Greer Incident   \n",
              "543  Address to Congress Requesting a Declaration o...   \n",
              "544                              On the War with Japan   \n",
              "545  Message to Congress Requesting War Declaration...   \n",
              "546                         On the Progress of the War   \n",
              "547                                       On Sacrifice   \n",
              "549                                  On the Home Front   \n",
              "552                           On the Fall of Mussolini   \n",
              "553                          On the Armistice in Italy   \n",
              "554                             The Tehran Declaration   \n",
              "555                On the Tehran and Cairo Conferences   \n",
              "557                                On the Fall of Rome   \n",
              "558                       Opening Fifth War Loan Drive   \n",
              "561  Joint Statement with Churchill and Stalin on t...   \n",
              "562                       Address to Congress on Yalta   \n",
              "648              Report on the Gulf of Tonkin Incident   \n",
              "664  Statement on Sending Troops to the Dominican R...   \n",
              "665  Report on the Situation in the Dominican Republic   \n",
              "676  Statement on the Resumption of Bombing in Nort...   \n",
              "690  Address on Vietnam to the Tennessee General As...   \n",
              "700                                   Press Conference   \n",
              "703  Remarks on the Cessation of Bombing of North V...   \n",
              "706        Address to the Nation on the War in Vietnam   \n",
              "708  Address to the Nation on the Situation in Sout...   \n",
              "711  Address to the Nation on the Situation in Sout...   \n",
              "712  Remarks Announcing an Agreement on Strategic A...   \n",
              "714  Address to the Nation on Plan for Peace in Vie...   \n",
              "715  Address to the Nation on the Situation in Sout...   \n",
              "719  Address to the Nation Announcing an Agreement ...   \n",
              "834      Address to the Nation on the Invasion of Iraq   \n",
              "836                 Address on the End of the Gulf War   \n",
              "894  Address to the Nation on the Department of Hom...   \n",
              "898                      Address to the Nation on Iraq   \n",
              "899               Address on the Start of the Iraq War   \n",
              "900         Remarks on Freedom in Iraq and Middle East   \n",
              "904    Remarks on National Security and the War Effort   \n",
              "910                         Address on Renewal in Iraq   \n",
              "913             Address on Military Operations in Iraq   \n",
              "917                       Remarks on the War on Terror   \n",
              "\n",
              "                                               Summary  \\\n",
              "533  Hours after Great Britain and France declare w...   \n",
              "534  Responding to Hitler's invasion of Denmark, No...   \n",
              "535  The President condemns the actions of Mussolin...   \n",
              "537  After concluding a Destroyers for-Bases treaty...   \n",
              "540  The President stresses the urgency of respondi...   \n",
              "541  Franklin Roosevelt predicts Nazi intentions to...   \n",
              "542  Roosevelt takes advantage of the Greer inciden...   \n",
              "543  President Franklin Delano Roosevelt requests f...   \n",
              "544  In this address just two days after the attack...   \n",
              "545  President Roosevelt requests for Congress to d...   \n",
              "546  Amid an atmosphere of pessimism and defeatism,...   \n",
              "547  Suffering losses in the Pacific and facing unc...   \n",
              "549  The President summarizes his perception of opt...   \n",
              "552  Roosevelt gives a progress report of American ...   \n",
              "553  Roosevelt announces the armistice in Italy but...   \n",
              "554  Franklin Roosevelt, along with Winston Churchi...   \n",
              "555  After an extensive trip through the Mediterran...   \n",
              "557  Roosevelt enthusiastically announces the captu...   \n",
              "558  Less than a week after D-Day, Roosevelt calls ...   \n",
              "561                                                NaN   \n",
              "562  President Roosevelt reports on his meeting wit...   \n",
              "648  Johnson informs the American people of the att...   \n",
              "664  President Johnson makes a brief statement abou...   \n",
              "665                                                NaN   \n",
              "676  President Johnson justifies his decision to re...   \n",
              "690  President Johnson delivers a lengthy address a...   \n",
              "700  President Johnson makes some brief remarks pri...   \n",
              "703  As a result of progress in the Paris peace tal...   \n",
              "706  President Nixon assures the American people th...   \n",
              "708  President Richard Nixon defends his decision t...   \n",
              "711  President Nixon reports that Vietnamization ha...   \n",
              "712  President Nixon addresses the nation to announ...   \n",
              "714  President Nixon announces a public plan to end...   \n",
              "715  In his address, President Nixon expresses his ...   \n",
              "719  President Nixon announces to the nation and th...   \n",
              "834  Bush explains that the aerial invasion of Iraq...   \n",
              "836                                                NaN   \n",
              "894  President Bush addresses the nation on the War...   \n",
              "898  President Bush delivers an address from the Cr...   \n",
              "899  President Bush announces the onset of the Iraq...   \n",
              "900  At the 20th Anniversary Celebration of the Nat...   \n",
              "904  At the George C. Marshall ROTC Award Ceremony ...   \n",
              "910  From the Oval Office, President Bush addresses...   \n",
              "913  From the White House library, President Bush d...   \n",
              "917  President George W. Bush offers his thoughts a...   \n",
              "\n",
              "                                            Transcript  \\\n",
              "533  My fellow Americans and my friends: Tonight my...   \n",
              "534  My friends: At this moment of sadness througho...   \n",
              "535  President Newcomb, my friends of the Universit...   \n",
              "537  My friends: This is not a fireside chat on war...   \n",
              "540  This dinner of the White House Correspondents ...   \n",
              "541  I am speaking tonight from the White House in ...   \n",
              "542  My fellow Americans: The Navy Department of th...   \n",
              "543  Mr. Vice President, and Mr. Speaker, and Membe...   \n",
              "544  My Fellow Americans: The sudden criminal attac...   \n",
              "545  To the Congress: On the morning of December el...   \n",
              "546  My fellow Americans: Washington's Birthday is ...   \n",
              "547  My fellow Americans: It is nearly five months ...   \n",
              "549  My fellow Americans: As you know, I have recen...   \n",
              "552  My Fellow Americans: Over a year and a half ag...   \n",
              "553  My Fellow Americans: Once upon a time, a few y...   \n",
              "554  Declaration of the Three Powers: We, The Presi...   \n",
              "555  My Friends: I have recently ( just ) returned ...   \n",
              "557  My Friends: Yesterday, on June fourth, 1944, R...   \n",
              "558  Ladies and Gentlemen: All our fighting men ove...   \n",
              "561  THE DEFEAT OF GERMANY We have considered and d...   \n",
              "562  I hope that you will pardon me for this unusua...   \n",
              "648  My fellow Americans: As President and Commande...   \n",
              "664  I have just concluded a meeting with the leade...   \n",
              "665  Good evening, ladies and gentlemen: I have jus...   \n",
              "676  Good morning, ladies and gentlemen: For 37 day...   \n",
              "690  Lieutenant Governor Gorrell, Speaker Cummings,...   \n",
              "700  TODAY the Government of North Vietnam made a s...   \n",
              "703  Good evening, my fellow Americans: I speak to ...   \n",
              "706  Good evening, my fellow Americans: Tonight I w...   \n",
              "708  Good evening my fellow Americans: Ten days ago...   \n",
              "711  Good evening, my fellow Americans. Over the pa...   \n",
              "712  Good afternoon, ladies and gentlemen: As you k...   \n",
              "714  Good evening: I have asked for this television...   \n",
              "715  Good evening: Five weeks ago, on Easter weeken...   \n",
              "719  Good evening: I have asked for this radio and ...   \n",
              "834  Just 2 hours ago, allied air forces began an a...   \n",
              "836  Kuwait is liberated. Iraq's army is defeated. ...   \n",
              "894  Good evening. During the next few minutes, I w...   \n",
              "898  My fellow citizens, events in Iraq have now re...   \n",
              "899  My fellow citizens, at this hour, American and...   \n",
              "900  Thank you all very much. Please be seated. Tha...   \n",
              "904  Well, thank you all very much for that warm we...   \n",
              "910  Good evening. Three days ago, in large numbers...   \n",
              "913  Good evening. Tonight in Iraq, the Armed Force...   \n",
              "917  Thank you all. Deputy Secretary England, thank...   \n",
              "\n",
              "                                                   URL  \n",
              "533  https://millercenter.org/the-presidency/presid...  \n",
              "534  https://millercenter.org/the-presidency/presid...  \n",
              "535  https://millercenter.org/the-presidency/presid...  \n",
              "537  https://millercenter.org/the-presidency/presid...  \n",
              "540  https://millercenter.org/the-presidency/presid...  \n",
              "541  https://millercenter.org/the-presidency/presid...  \n",
              "542  https://millercenter.org/the-presidency/presid...  \n",
              "543  https://millercenter.org/the-presidency/presid...  \n",
              "544  https://millercenter.org/the-presidency/presid...  \n",
              "545  https://millercenter.org/the-presidency/presid...  \n",
              "546  https://millercenter.org/the-presidency/presid...  \n",
              "547  https://millercenter.org/the-presidency/presid...  \n",
              "549  https://millercenter.org/the-presidency/presid...  \n",
              "552  https://millercenter.org/the-presidency/presid...  \n",
              "553  https://millercenter.org/the-presidency/presid...  \n",
              "554  https://millercenter.org/the-presidency/presid...  \n",
              "555  https://millercenter.org/the-presidency/presid...  \n",
              "557  https://millercenter.org/the-presidency/presid...  \n",
              "558  https://millercenter.org/the-presidency/presid...  \n",
              "561  https://millercenter.org/the-presidency/presid...  \n",
              "562  https://millercenter.org/the-presidency/presid...  \n",
              "648  https://millercenter.org/the-presidency/presid...  \n",
              "664  https://millercenter.org/the-presidency/presid...  \n",
              "665  https://millercenter.org/the-presidency/presid...  \n",
              "676  https://millercenter.org/the-presidency/presid...  \n",
              "690  https://millercenter.org/the-presidency/presid...  \n",
              "700  https://millercenter.org/the-presidency/presid...  \n",
              "703  https://millercenter.org/the-presidency/presid...  \n",
              "706  https://millercenter.org/the-presidency/presid...  \n",
              "708  https://millercenter.org/the-presidency/presid...  \n",
              "711  https://millercenter.org/the-presidency/presid...  \n",
              "712  https://millercenter.org/the-presidency/presid...  \n",
              "714  https://millercenter.org/the-presidency/presid...  \n",
              "715  https://millercenter.org/the-presidency/presid...  \n",
              "719  https://millercenter.org/the-presidency/presid...  \n",
              "834  https://millercenter.org/the-presidency/presid...  \n",
              "836  https://millercenter.org/the-presidency/presid...  \n",
              "894  https://millercenter.org/the-presidency/presid...  \n",
              "898  https://millercenter.org/the-presidency/presid...  \n",
              "899  https://millercenter.org/the-presidency/presid...  \n",
              "900  https://millercenter.org/the-presidency/presid...  \n",
              "904  https://millercenter.org/the-presidency/presid...  \n",
              "910  https://millercenter.org/the-presidency/presid...  \n",
              "913  https://millercenter.org/the-presidency/presid...  \n",
              "917  https://millercenter.org/the-presidency/presid...  "
            ],
            "text/html": [
              "\n",
              "  <div id=\"df-1f9b659b-7166-481d-b1e4-31829cfb505c\">\n",
              "    <div class=\"colab-df-container\">\n",
              "      <div>\n",
              "<style scoped>\n",
              "    .dataframe tbody tr th:only-of-type {\n",
              "        vertical-align: middle;\n",
              "    }\n",
              "\n",
              "    .dataframe tbody tr th {\n",
              "        vertical-align: top;\n",
              "    }\n",
              "\n",
              "    .dataframe thead th {\n",
              "        text-align: right;\n",
              "    }\n",
              "</style>\n",
              "<table border=\"1\" class=\"dataframe\">\n",
              "  <thead>\n",
              "    <tr style=\"text-align: right;\">\n",
              "      <th></th>\n",
              "      <th>Date</th>\n",
              "      <th>President</th>\n",
              "      <th>Party</th>\n",
              "      <th>Context</th>\n",
              "      <th>Speech Title</th>\n",
              "      <th>Summary</th>\n",
              "      <th>Transcript</th>\n",
              "      <th>URL</th>\n",
              "    </tr>\n",
              "  </thead>\n",
              "  <tbody>\n",
              "    <tr>\n",
              "      <th>533</th>\n",
              "      <td>1939-09-03</td>\n",
              "      <td>Franklin D. Roosevelt</td>\n",
              "      <td>Democratic</td>\n",
              "      <td>War</td>\n",
              "      <td>On the European War</td>\n",
              "      <td>Hours after Great Britain and France declare w...</td>\n",
              "      <td>My fellow Americans and my friends: Tonight my...</td>\n",
              "      <td>https://millercenter.org/the-presidency/presid...</td>\n",
              "    </tr>\n",
              "    <tr>\n",
              "      <th>534</th>\n",
              "      <td>1940-05-26</td>\n",
              "      <td>Franklin D. Roosevelt</td>\n",
              "      <td>Democratic</td>\n",
              "      <td>War</td>\n",
              "      <td>On National Defense</td>\n",
              "      <td>Responding to Hitler's invasion of Denmark, No...</td>\n",
              "      <td>My friends: At this moment of sadness througho...</td>\n",
              "      <td>https://millercenter.org/the-presidency/presid...</td>\n",
              "    </tr>\n",
              "    <tr>\n",
              "      <th>535</th>\n",
              "      <td>1940-06-10</td>\n",
              "      <td>Franklin D. Roosevelt</td>\n",
              "      <td>Democratic</td>\n",
              "      <td>War</td>\n",
              "      <td>\"Stab in the Back\" Speech</td>\n",
              "      <td>The President condemns the actions of Mussolin...</td>\n",
              "      <td>President Newcomb, my friends of the Universit...</td>\n",
              "      <td>https://millercenter.org/the-presidency/presid...</td>\n",
              "    </tr>\n",
              "    <tr>\n",
              "      <th>537</th>\n",
              "      <td>1940-12-29</td>\n",
              "      <td>Franklin D. Roosevelt</td>\n",
              "      <td>Democratic</td>\n",
              "      <td>War</td>\n",
              "      <td>On the \"Arsenal of Democracy\"</td>\n",
              "      <td>After concluding a Destroyers for-Bases treaty...</td>\n",
              "      <td>My friends: This is not a fireside chat on war...</td>\n",
              "      <td>https://millercenter.org/the-presidency/presid...</td>\n",
              "    </tr>\n",
              "    <tr>\n",
              "      <th>540</th>\n",
              "      <td>1941-03-15</td>\n",
              "      <td>Franklin D. Roosevelt</td>\n",
              "      <td>Democratic</td>\n",
              "      <td>War</td>\n",
              "      <td>On Lend Lease</td>\n",
              "      <td>The President stresses the urgency of respondi...</td>\n",
              "      <td>This dinner of the White House Correspondents ...</td>\n",
              "      <td>https://millercenter.org/the-presidency/presid...</td>\n",
              "    </tr>\n",
              "    <tr>\n",
              "      <th>541</th>\n",
              "      <td>1941-05-27</td>\n",
              "      <td>Franklin D. Roosevelt</td>\n",
              "      <td>Democratic</td>\n",
              "      <td>War</td>\n",
              "      <td>On An Unlimited National Emergency</td>\n",
              "      <td>Franklin Roosevelt predicts Nazi intentions to...</td>\n",
              "      <td>I am speaking tonight from the White House in ...</td>\n",
              "      <td>https://millercenter.org/the-presidency/presid...</td>\n",
              "    </tr>\n",
              "    <tr>\n",
              "      <th>542</th>\n",
              "      <td>1941-09-11</td>\n",
              "      <td>Franklin D. Roosevelt</td>\n",
              "      <td>Democratic</td>\n",
              "      <td>War</td>\n",
              "      <td>On The Greer Incident</td>\n",
              "      <td>Roosevelt takes advantage of the Greer inciden...</td>\n",
              "      <td>My fellow Americans: The Navy Department of th...</td>\n",
              "      <td>https://millercenter.org/the-presidency/presid...</td>\n",
              "    </tr>\n",
              "    <tr>\n",
              "      <th>543</th>\n",
              "      <td>1941-12-08</td>\n",
              "      <td>Franklin D. Roosevelt</td>\n",
              "      <td>Democratic</td>\n",
              "      <td>War</td>\n",
              "      <td>Address to Congress Requesting a Declaration o...</td>\n",
              "      <td>President Franklin Delano Roosevelt requests f...</td>\n",
              "      <td>Mr. Vice President, and Mr. Speaker, and Membe...</td>\n",
              "      <td>https://millercenter.org/the-presidency/presid...</td>\n",
              "    </tr>\n",
              "    <tr>\n",
              "      <th>544</th>\n",
              "      <td>1941-12-09</td>\n",
              "      <td>Franklin D. Roosevelt</td>\n",
              "      <td>Democratic</td>\n",
              "      <td>War</td>\n",
              "      <td>On the War with Japan</td>\n",
              "      <td>In this address just two days after the attack...</td>\n",
              "      <td>My Fellow Americans: The sudden criminal attac...</td>\n",
              "      <td>https://millercenter.org/the-presidency/presid...</td>\n",
              "    </tr>\n",
              "    <tr>\n",
              "      <th>545</th>\n",
              "      <td>1941-12-11</td>\n",
              "      <td>Franklin D. Roosevelt</td>\n",
              "      <td>Democratic</td>\n",
              "      <td>War</td>\n",
              "      <td>Message to Congress Requesting War Declaration...</td>\n",
              "      <td>President Roosevelt requests for Congress to d...</td>\n",
              "      <td>To the Congress: On the morning of December el...</td>\n",
              "      <td>https://millercenter.org/the-presidency/presid...</td>\n",
              "    </tr>\n",
              "    <tr>\n",
              "      <th>546</th>\n",
              "      <td>1942-02-23</td>\n",
              "      <td>Franklin D. Roosevelt</td>\n",
              "      <td>Democratic</td>\n",
              "      <td>War</td>\n",
              "      <td>On the Progress of the War</td>\n",
              "      <td>Amid an atmosphere of pessimism and defeatism,...</td>\n",
              "      <td>My fellow Americans: Washington's Birthday is ...</td>\n",
              "      <td>https://millercenter.org/the-presidency/presid...</td>\n",
              "    </tr>\n",
              "    <tr>\n",
              "      <th>547</th>\n",
              "      <td>1942-04-28</td>\n",
              "      <td>Franklin D. Roosevelt</td>\n",
              "      <td>Democratic</td>\n",
              "      <td>War</td>\n",
              "      <td>On Sacrifice</td>\n",
              "      <td>Suffering losses in the Pacific and facing unc...</td>\n",
              "      <td>My fellow Americans: It is nearly five months ...</td>\n",
              "      <td>https://millercenter.org/the-presidency/presid...</td>\n",
              "    </tr>\n",
              "    <tr>\n",
              "      <th>549</th>\n",
              "      <td>1942-10-12</td>\n",
              "      <td>Franklin D. Roosevelt</td>\n",
              "      <td>Democratic</td>\n",
              "      <td>War</td>\n",
              "      <td>On the Home Front</td>\n",
              "      <td>The President summarizes his perception of opt...</td>\n",
              "      <td>My fellow Americans: As you know, I have recen...</td>\n",
              "      <td>https://millercenter.org/the-presidency/presid...</td>\n",
              "    </tr>\n",
              "    <tr>\n",
              "      <th>552</th>\n",
              "      <td>1943-07-28</td>\n",
              "      <td>Franklin D. Roosevelt</td>\n",
              "      <td>Democratic</td>\n",
              "      <td>War</td>\n",
              "      <td>On the Fall of Mussolini</td>\n",
              "      <td>Roosevelt gives a progress report of American ...</td>\n",
              "      <td>My Fellow Americans: Over a year and a half ag...</td>\n",
              "      <td>https://millercenter.org/the-presidency/presid...</td>\n",
              "    </tr>\n",
              "    <tr>\n",
              "      <th>553</th>\n",
              "      <td>1943-09-08</td>\n",
              "      <td>Franklin D. Roosevelt</td>\n",
              "      <td>Democratic</td>\n",
              "      <td>War</td>\n",
              "      <td>On the Armistice in Italy</td>\n",
              "      <td>Roosevelt announces the armistice in Italy but...</td>\n",
              "      <td>My Fellow Americans: Once upon a time, a few y...</td>\n",
              "      <td>https://millercenter.org/the-presidency/presid...</td>\n",
              "    </tr>\n",
              "    <tr>\n",
              "      <th>554</th>\n",
              "      <td>1943-12-01</td>\n",
              "      <td>Franklin D. Roosevelt</td>\n",
              "      <td>Democratic</td>\n",
              "      <td>War</td>\n",
              "      <td>The Tehran Declaration</td>\n",
              "      <td>Franklin Roosevelt, along with Winston Churchi...</td>\n",
              "      <td>Declaration of the Three Powers: We, The Presi...</td>\n",
              "      <td>https://millercenter.org/the-presidency/presid...</td>\n",
              "    </tr>\n",
              "    <tr>\n",
              "      <th>555</th>\n",
              "      <td>1943-12-24</td>\n",
              "      <td>Franklin D. Roosevelt</td>\n",
              "      <td>Democratic</td>\n",
              "      <td>War</td>\n",
              "      <td>On the Tehran and Cairo Conferences</td>\n",
              "      <td>After an extensive trip through the Mediterran...</td>\n",
              "      <td>My Friends: I have recently ( just ) returned ...</td>\n",
              "      <td>https://millercenter.org/the-presidency/presid...</td>\n",
              "    </tr>\n",
              "    <tr>\n",
              "      <th>557</th>\n",
              "      <td>1944-06-05</td>\n",
              "      <td>Franklin D. Roosevelt</td>\n",
              "      <td>Democratic</td>\n",
              "      <td>War</td>\n",
              "      <td>On the Fall of Rome</td>\n",
              "      <td>Roosevelt enthusiastically announces the captu...</td>\n",
              "      <td>My Friends: Yesterday, on June fourth, 1944, R...</td>\n",
              "      <td>https://millercenter.org/the-presidency/presid...</td>\n",
              "    </tr>\n",
              "    <tr>\n",
              "      <th>558</th>\n",
              "      <td>1944-06-12</td>\n",
              "      <td>Franklin D. Roosevelt</td>\n",
              "      <td>Democratic</td>\n",
              "      <td>War</td>\n",
              "      <td>Opening Fifth War Loan Drive</td>\n",
              "      <td>Less than a week after D-Day, Roosevelt calls ...</td>\n",
              "      <td>Ladies and Gentlemen: All our fighting men ove...</td>\n",
              "      <td>https://millercenter.org/the-presidency/presid...</td>\n",
              "    </tr>\n",
              "    <tr>\n",
              "      <th>561</th>\n",
              "      <td>1945-02-11</td>\n",
              "      <td>Franklin D. Roosevelt</td>\n",
              "      <td>Democratic</td>\n",
              "      <td>War</td>\n",
              "      <td>Joint Statement with Churchill and Stalin on t...</td>\n",
              "      <td>NaN</td>\n",
              "      <td>THE DEFEAT OF GERMANY We have considered and d...</td>\n",
              "      <td>https://millercenter.org/the-presidency/presid...</td>\n",
              "    </tr>\n",
              "    <tr>\n",
              "      <th>562</th>\n",
              "      <td>1945-03-01</td>\n",
              "      <td>Franklin D. Roosevelt</td>\n",
              "      <td>Democratic</td>\n",
              "      <td>War</td>\n",
              "      <td>Address to Congress on Yalta</td>\n",
              "      <td>President Roosevelt reports on his meeting wit...</td>\n",
              "      <td>I hope that you will pardon me for this unusua...</td>\n",
              "      <td>https://millercenter.org/the-presidency/presid...</td>\n",
              "    </tr>\n",
              "    <tr>\n",
              "      <th>648</th>\n",
              "      <td>1964-08-04</td>\n",
              "      <td>Lyndon B. Johnson</td>\n",
              "      <td>Democratic</td>\n",
              "      <td>War</td>\n",
              "      <td>Report on the Gulf of Tonkin Incident</td>\n",
              "      <td>Johnson informs the American people of the att...</td>\n",
              "      <td>My fellow Americans: As President and Commande...</td>\n",
              "      <td>https://millercenter.org/the-presidency/presid...</td>\n",
              "    </tr>\n",
              "    <tr>\n",
              "      <th>664</th>\n",
              "      <td>1965-04-28</td>\n",
              "      <td>Lyndon B. Johnson</td>\n",
              "      <td>Democratic</td>\n",
              "      <td>War</td>\n",
              "      <td>Statement on Sending Troops to the Dominican R...</td>\n",
              "      <td>President Johnson makes a brief statement abou...</td>\n",
              "      <td>I have just concluded a meeting with the leade...</td>\n",
              "      <td>https://millercenter.org/the-presidency/presid...</td>\n",
              "    </tr>\n",
              "    <tr>\n",
              "      <th>665</th>\n",
              "      <td>1965-05-02</td>\n",
              "      <td>Lyndon B. Johnson</td>\n",
              "      <td>Democratic</td>\n",
              "      <td>War</td>\n",
              "      <td>Report on the Situation in the Dominican Republic</td>\n",
              "      <td>NaN</td>\n",
              "      <td>Good evening, ladies and gentlemen: I have jus...</td>\n",
              "      <td>https://millercenter.org/the-presidency/presid...</td>\n",
              "    </tr>\n",
              "    <tr>\n",
              "      <th>676</th>\n",
              "      <td>1966-01-31</td>\n",
              "      <td>Lyndon B. Johnson</td>\n",
              "      <td>Democratic</td>\n",
              "      <td>War</td>\n",
              "      <td>Statement on the Resumption of Bombing in Nort...</td>\n",
              "      <td>President Johnson justifies his decision to re...</td>\n",
              "      <td>Good morning, ladies and gentlemen: For 37 day...</td>\n",
              "      <td>https://millercenter.org/the-presidency/presid...</td>\n",
              "    </tr>\n",
              "    <tr>\n",
              "      <th>690</th>\n",
              "      <td>1967-03-15</td>\n",
              "      <td>Lyndon B. Johnson</td>\n",
              "      <td>Democratic</td>\n",
              "      <td>War</td>\n",
              "      <td>Address on Vietnam to the Tennessee General As...</td>\n",
              "      <td>President Johnson delivers a lengthy address a...</td>\n",
              "      <td>Lieutenant Governor Gorrell, Speaker Cummings,...</td>\n",
              "      <td>https://millercenter.org/the-presidency/presid...</td>\n",
              "    </tr>\n",
              "    <tr>\n",
              "      <th>700</th>\n",
              "      <td>1968-04-03</td>\n",
              "      <td>Lyndon B. Johnson</td>\n",
              "      <td>Democratic</td>\n",
              "      <td>War</td>\n",
              "      <td>Press Conference</td>\n",
              "      <td>President Johnson makes some brief remarks pri...</td>\n",
              "      <td>TODAY the Government of North Vietnam made a s...</td>\n",
              "      <td>https://millercenter.org/the-presidency/presid...</td>\n",
              "    </tr>\n",
              "    <tr>\n",
              "      <th>703</th>\n",
              "      <td>1968-10-31</td>\n",
              "      <td>Lyndon B. Johnson</td>\n",
              "      <td>Democratic</td>\n",
              "      <td>War</td>\n",
              "      <td>Remarks on the Cessation of Bombing of North V...</td>\n",
              "      <td>As a result of progress in the Paris peace tal...</td>\n",
              "      <td>Good evening, my fellow Americans: I speak to ...</td>\n",
              "      <td>https://millercenter.org/the-presidency/presid...</td>\n",
              "    </tr>\n",
              "    <tr>\n",
              "      <th>706</th>\n",
              "      <td>1969-11-03</td>\n",
              "      <td>Richard M. Nixon</td>\n",
              "      <td>Republican</td>\n",
              "      <td>War</td>\n",
              "      <td>Address to the Nation on the War in Vietnam</td>\n",
              "      <td>President Nixon assures the American people th...</td>\n",
              "      <td>Good evening, my fellow Americans: Tonight I w...</td>\n",
              "      <td>https://millercenter.org/the-presidency/presid...</td>\n",
              "    </tr>\n",
              "    <tr>\n",
              "      <th>708</th>\n",
              "      <td>1970-04-30</td>\n",
              "      <td>Richard M. Nixon</td>\n",
              "      <td>Republican</td>\n",
              "      <td>War</td>\n",
              "      <td>Address to the Nation on the Situation in Sout...</td>\n",
              "      <td>President Richard Nixon defends his decision t...</td>\n",
              "      <td>Good evening my fellow Americans: Ten days ago...</td>\n",
              "      <td>https://millercenter.org/the-presidency/presid...</td>\n",
              "    </tr>\n",
              "    <tr>\n",
              "      <th>711</th>\n",
              "      <td>1971-04-07</td>\n",
              "      <td>Richard M. Nixon</td>\n",
              "      <td>Republican</td>\n",
              "      <td>War</td>\n",
              "      <td>Address to the Nation on the Situation in Sout...</td>\n",
              "      <td>President Nixon reports that Vietnamization ha...</td>\n",
              "      <td>Good evening, my fellow Americans. Over the pa...</td>\n",
              "      <td>https://millercenter.org/the-presidency/presid...</td>\n",
              "    </tr>\n",
              "    <tr>\n",
              "      <th>712</th>\n",
              "      <td>1971-05-20</td>\n",
              "      <td>Richard M. Nixon</td>\n",
              "      <td>Republican</td>\n",
              "      <td>War</td>\n",
              "      <td>Remarks Announcing an Agreement on Strategic A...</td>\n",
              "      <td>President Nixon addresses the nation to announ...</td>\n",
              "      <td>Good afternoon, ladies and gentlemen: As you k...</td>\n",
              "      <td>https://millercenter.org/the-presidency/presid...</td>\n",
              "    </tr>\n",
              "    <tr>\n",
              "      <th>714</th>\n",
              "      <td>1972-01-25</td>\n",
              "      <td>Richard M. Nixon</td>\n",
              "      <td>Republican</td>\n",
              "      <td>War</td>\n",
              "      <td>Address to the Nation on Plan for Peace in Vie...</td>\n",
              "      <td>President Nixon announces a public plan to end...</td>\n",
              "      <td>Good evening: I have asked for this television...</td>\n",
              "      <td>https://millercenter.org/the-presidency/presid...</td>\n",
              "    </tr>\n",
              "    <tr>\n",
              "      <th>715</th>\n",
              "      <td>1972-05-08</td>\n",
              "      <td>Richard M. Nixon</td>\n",
              "      <td>Republican</td>\n",
              "      <td>War</td>\n",
              "      <td>Address to the Nation on the Situation in Sout...</td>\n",
              "      <td>In his address, President Nixon expresses his ...</td>\n",
              "      <td>Good evening: Five weeks ago, on Easter weeken...</td>\n",
              "      <td>https://millercenter.org/the-presidency/presid...</td>\n",
              "    </tr>\n",
              "    <tr>\n",
              "      <th>719</th>\n",
              "      <td>1973-01-23</td>\n",
              "      <td>Richard M. Nixon</td>\n",
              "      <td>Republican</td>\n",
              "      <td>War</td>\n",
              "      <td>Address to the Nation Announcing an Agreement ...</td>\n",
              "      <td>President Nixon announces to the nation and th...</td>\n",
              "      <td>Good evening: I have asked for this radio and ...</td>\n",
              "      <td>https://millercenter.org/the-presidency/presid...</td>\n",
              "    </tr>\n",
              "    <tr>\n",
              "      <th>834</th>\n",
              "      <td>1991-01-16</td>\n",
              "      <td>George H. W. Bush</td>\n",
              "      <td>Republican</td>\n",
              "      <td>War</td>\n",
              "      <td>Address to the Nation on the Invasion of Iraq</td>\n",
              "      <td>Bush explains that the aerial invasion of Iraq...</td>\n",
              "      <td>Just 2 hours ago, allied air forces began an a...</td>\n",
              "      <td>https://millercenter.org/the-presidency/presid...</td>\n",
              "    </tr>\n",
              "    <tr>\n",
              "      <th>836</th>\n",
              "      <td>1991-02-27</td>\n",
              "      <td>George H. W. Bush</td>\n",
              "      <td>Republican</td>\n",
              "      <td>War</td>\n",
              "      <td>Address on the End of the Gulf War</td>\n",
              "      <td>NaN</td>\n",
              "      <td>Kuwait is liberated. Iraq's army is defeated. ...</td>\n",
              "      <td>https://millercenter.org/the-presidency/presid...</td>\n",
              "    </tr>\n",
              "    <tr>\n",
              "      <th>894</th>\n",
              "      <td>2002-06-06</td>\n",
              "      <td>George W. Bush</td>\n",
              "      <td>Republican</td>\n",
              "      <td>War</td>\n",
              "      <td>Address to the Nation on the Department of Hom...</td>\n",
              "      <td>President Bush addresses the nation on the War...</td>\n",
              "      <td>Good evening. During the next few minutes, I w...</td>\n",
              "      <td>https://millercenter.org/the-presidency/presid...</td>\n",
              "    </tr>\n",
              "    <tr>\n",
              "      <th>898</th>\n",
              "      <td>2003-03-17</td>\n",
              "      <td>George W. Bush</td>\n",
              "      <td>Republican</td>\n",
              "      <td>War</td>\n",
              "      <td>Address to the Nation on Iraq</td>\n",
              "      <td>President Bush delivers an address from the Cr...</td>\n",
              "      <td>My fellow citizens, events in Iraq have now re...</td>\n",
              "      <td>https://millercenter.org/the-presidency/presid...</td>\n",
              "    </tr>\n",
              "    <tr>\n",
              "      <th>899</th>\n",
              "      <td>2003-03-19</td>\n",
              "      <td>George W. Bush</td>\n",
              "      <td>Republican</td>\n",
              "      <td>War</td>\n",
              "      <td>Address on the Start of the Iraq War</td>\n",
              "      <td>President Bush announces the onset of the Iraq...</td>\n",
              "      <td>My fellow citizens, at this hour, American and...</td>\n",
              "      <td>https://millercenter.org/the-presidency/presid...</td>\n",
              "    </tr>\n",
              "    <tr>\n",
              "      <th>900</th>\n",
              "      <td>2003-11-06</td>\n",
              "      <td>George W. Bush</td>\n",
              "      <td>Republican</td>\n",
              "      <td>War</td>\n",
              "      <td>Remarks on Freedom in Iraq and Middle East</td>\n",
              "      <td>At the 20th Anniversary Celebration of the Nat...</td>\n",
              "      <td>Thank you all very much. Please be seated. Tha...</td>\n",
              "      <td>https://millercenter.org/the-presidency/presid...</td>\n",
              "    </tr>\n",
              "    <tr>\n",
              "      <th>904</th>\n",
              "      <td>2004-07-17</td>\n",
              "      <td>George W. Bush</td>\n",
              "      <td>Republican</td>\n",
              "      <td>War</td>\n",
              "      <td>Remarks on National Security and the War Effort</td>\n",
              "      <td>At the George C. Marshall ROTC Award Ceremony ...</td>\n",
              "      <td>Well, thank you all very much for that warm we...</td>\n",
              "      <td>https://millercenter.org/the-presidency/presid...</td>\n",
              "    </tr>\n",
              "    <tr>\n",
              "      <th>910</th>\n",
              "      <td>2005-12-18</td>\n",
              "      <td>George W. Bush</td>\n",
              "      <td>Republican</td>\n",
              "      <td>War</td>\n",
              "      <td>Address on Renewal in Iraq</td>\n",
              "      <td>From the Oval Office, President Bush addresses...</td>\n",
              "      <td>Good evening. Three days ago, in large numbers...</td>\n",
              "      <td>https://millercenter.org/the-presidency/presid...</td>\n",
              "    </tr>\n",
              "    <tr>\n",
              "      <th>913</th>\n",
              "      <td>2007-01-10</td>\n",
              "      <td>George W. Bush</td>\n",
              "      <td>Republican</td>\n",
              "      <td>War</td>\n",
              "      <td>Address on Military Operations in Iraq</td>\n",
              "      <td>From the White House library, President Bush d...</td>\n",
              "      <td>Good evening. Tonight in Iraq, the Armed Force...</td>\n",
              "      <td>https://millercenter.org/the-presidency/presid...</td>\n",
              "    </tr>\n",
              "    <tr>\n",
              "      <th>917</th>\n",
              "      <td>2008-03-19</td>\n",
              "      <td>George W. Bush</td>\n",
              "      <td>Republican</td>\n",
              "      <td>War</td>\n",
              "      <td>Remarks on the War on Terror</td>\n",
              "      <td>President George W. Bush offers his thoughts a...</td>\n",
              "      <td>Thank you all. Deputy Secretary England, thank...</td>\n",
              "      <td>https://millercenter.org/the-presidency/presid...</td>\n",
              "    </tr>\n",
              "  </tbody>\n",
              "</table>\n",
              "</div>\n",
              "      <button class=\"colab-df-convert\" onclick=\"convertToInteractive('df-1f9b659b-7166-481d-b1e4-31829cfb505c')\"\n",
              "              title=\"Convert this dataframe to an interactive table.\"\n",
              "              style=\"display:none;\">\n",
              "        \n",
              "  <svg xmlns=\"http://www.w3.org/2000/svg\" height=\"24px\"viewBox=\"0 0 24 24\"\n",
              "       width=\"24px\">\n",
              "    <path d=\"M0 0h24v24H0V0z\" fill=\"none\"/>\n",
              "    <path d=\"M18.56 5.44l.94 2.06.94-2.06 2.06-.94-2.06-.94-.94-2.06-.94 2.06-2.06.94zm-11 1L8.5 8.5l.94-2.06 2.06-.94-2.06-.94L8.5 2.5l-.94 2.06-2.06.94zm10 10l.94 2.06.94-2.06 2.06-.94-2.06-.94-.94-2.06-.94 2.06-2.06.94z\"/><path d=\"M17.41 7.96l-1.37-1.37c-.4-.4-.92-.59-1.43-.59-.52 0-1.04.2-1.43.59L10.3 9.45l-7.72 7.72c-.78.78-.78 2.05 0 2.83L4 21.41c.39.39.9.59 1.41.59.51 0 1.02-.2 1.41-.59l7.78-7.78 2.81-2.81c.8-.78.8-2.07 0-2.86zM5.41 20L4 18.59l7.72-7.72 1.47 1.35L5.41 20z\"/>\n",
              "  </svg>\n",
              "      </button>\n",
              "      \n",
              "  <style>\n",
              "    .colab-df-container {\n",
              "      display:flex;\n",
              "      flex-wrap:wrap;\n",
              "      gap: 12px;\n",
              "    }\n",
              "\n",
              "    .colab-df-convert {\n",
              "      background-color: #E8F0FE;\n",
              "      border: none;\n",
              "      border-radius: 50%;\n",
              "      cursor: pointer;\n",
              "      display: none;\n",
              "      fill: #1967D2;\n",
              "      height: 32px;\n",
              "      padding: 0 0 0 0;\n",
              "      width: 32px;\n",
              "    }\n",
              "\n",
              "    .colab-df-convert:hover {\n",
              "      background-color: #E2EBFA;\n",
              "      box-shadow: 0px 1px 2px rgba(60, 64, 67, 0.3), 0px 1px 3px 1px rgba(60, 64, 67, 0.15);\n",
              "      fill: #174EA6;\n",
              "    }\n",
              "\n",
              "    [theme=dark] .colab-df-convert {\n",
              "      background-color: #3B4455;\n",
              "      fill: #D2E3FC;\n",
              "    }\n",
              "\n",
              "    [theme=dark] .colab-df-convert:hover {\n",
              "      background-color: #434B5C;\n",
              "      box-shadow: 0px 1px 3px 1px rgba(0, 0, 0, 0.15);\n",
              "      filter: drop-shadow(0px 1px 2px rgba(0, 0, 0, 0.3));\n",
              "      fill: #FFFFFF;\n",
              "    }\n",
              "  </style>\n",
              "\n",
              "      <script>\n",
              "        const buttonEl =\n",
              "          document.querySelector('#df-1f9b659b-7166-481d-b1e4-31829cfb505c button.colab-df-convert');\n",
              "        buttonEl.style.display =\n",
              "          google.colab.kernel.accessAllowed ? 'block' : 'none';\n",
              "\n",
              "        async function convertToInteractive(key) {\n",
              "          const element = document.querySelector('#df-1f9b659b-7166-481d-b1e4-31829cfb505c');\n",
              "          const dataTable =\n",
              "            await google.colab.kernel.invokeFunction('convertToInteractive',\n",
              "                                                     [key], {});\n",
              "          if (!dataTable) return;\n",
              "\n",
              "          const docLinkHtml = 'Like what you see? Visit the ' +\n",
              "            '<a target=\"_blank\" href=https://colab.research.google.com/notebooks/data_table.ipynb>data table notebook</a>'\n",
              "            + ' to learn more about interactive tables.';\n",
              "          element.innerHTML = '';\n",
              "          dataTable['output_type'] = 'display_data';\n",
              "          await google.colab.output.renderOutput(dataTable, element);\n",
              "          const docLink = document.createElement('div');\n",
              "          docLink.innerHTML = docLinkHtml;\n",
              "          element.appendChild(docLink);\n",
              "        }\n",
              "      </script>\n",
              "    </div>\n",
              "  </div>\n",
              "  "
            ]
          },
          "metadata": {},
          "execution_count": 202
        }
      ]
    },
    {
      "cell_type": "code",
      "source": [
        "war_presis = ['Franklin D. Roosevelt',\"George W. Bush\",\"Lyndon B. Johnson\",\"Richard M. Nixon\",\"George H. W. Bush \"]"
      ],
      "metadata": {
        "id": "GZxoQFK83Q7I"
      },
      "execution_count": 200,
      "outputs": []
    },
    {
      "cell_type": "code",
      "source": [
        "first_war_speech_paths = ['/content/drive/MyDrive/Deep Learning/Political_Speeches_Folder/audio_data_2/Franklin D. Roosevelt/spe_1939_0903_roosevelt.mp3',\n",
        "                          \"/content/drive/MyDrive/Deep Learning/Political_Speeches_Folder/audio_data_2/George W. Bush/894.mp3\",\n",
        "                          \"/content/drive/MyDrive/Deep Learning/Political_Speeches_Folder/audio_data_2/George W. Bush/894.mp3\",\n",
        "                          \"/content/drive/MyDrive/Deep Learning/Political_Speeches_Folder/audio_data_2/Richard M. Nixon/spe_1969_1103_nixon.mp3\",\n",
        "                          \"/content/drive/MyDrive/Deep Learning/Political_Speeches_Folder/audio_data_2/George H. W. Bush/spe_1991_0116_bush.mp3\"\n",
        "                          ]\n",
        "last_war_speech_paths = [ \"/content/drive/MyDrive/Deep Learning/Political_Speeches_Folder/audio_data_2/Franklin D. Roosevelt/spe_1943_1224_roosevelt.mp3\",\n",
        "                          \"/content/drive/MyDrive/Deep Learning/Political_Speeches_Folder/audio_data_2/George W. Bush/gwb_2005_1218_IraqRenewal.mp3\",\n",
        "                          \"/content/drive/MyDrive/Deep Learning/Political_Speeches_Folder/audio_data_2/Lyndon B. Johnson/spe_1968_0403_johnson.mp3\",\n",
        "                          \"/content/drive/MyDrive/Deep Learning/Political_Speeches_Folder/audio_data_2/Richard M. Nixon/spe_1973_0123_nixon.mp3\",\n",
        "                          \"/content/drive/MyDrive/Deep Learning/Political_Speeches_Folder/audio_data_2/George H. W. Bush/spe_1991_0227_bush.mp3\"\n",
        "                          ]"
      ],
      "metadata": {
        "id": "FnjbFBlt3jv7"
      },
      "execution_count": 205,
      "outputs": []
    },
    {
      "cell_type": "code",
      "source": [
        "# getting embeddings:\n",
        "war = pd.DataFrame()\n",
        "war['Presidents'] = war_presis\n",
        "war['paths_one'] = first_war_speech_paths\n",
        "war['paths_two'] = last_war_speech_paths\n",
        "war['speech_one_embed'] = war['paths_one'].apply(lambda x: extract_mfcc(x))\n",
        "war['speech_two_embed'] = war['paths_two'].apply(lambda x: extract_mfcc(x))"
      ],
      "metadata": {
        "colab": {
          "base_uri": "https://localhost:8080/"
        },
        "id": "lmOvTRRl5yJF",
        "outputId": "00834b6c-861e-4f7c-d98b-91e44ba1320b"
      },
      "execution_count": 207,
      "outputs": [
        {
          "output_type": "stream",
          "name": "stdout",
          "text": [
            "/content/drive/MyDrive/Deep Learning/Political_Speeches_Folder/audio_data_2/Franklin D. Roosevelt/spe_1939_0903_roosevelt.mp3 done\n",
            "/content/drive/MyDrive/Deep Learning/Political_Speeches_Folder/audio_data_2/George W. Bush/894.mp3 done\n",
            "/content/drive/MyDrive/Deep Learning/Political_Speeches_Folder/audio_data_2/George W. Bush/894.mp3 done\n",
            "/content/drive/MyDrive/Deep Learning/Political_Speeches_Folder/audio_data_2/Richard M. Nixon/spe_1969_1103_nixon.mp3 done\n",
            "/content/drive/MyDrive/Deep Learning/Political_Speeches_Folder/audio_data_2/George H. W. Bush/spe_1991_0116_bush.mp3 done\n",
            "/content/drive/MyDrive/Deep Learning/Political_Speeches_Folder/audio_data_2/Franklin D. Roosevelt/spe_1943_1224_roosevelt.mp3 done\n",
            "/content/drive/MyDrive/Deep Learning/Political_Speeches_Folder/audio_data_2/George W. Bush/gwb_2005_1218_IraqRenewal.mp3 done\n",
            "/content/drive/MyDrive/Deep Learning/Political_Speeches_Folder/audio_data_2/Lyndon B. Johnson/spe_1968_0403_johnson.mp3 done\n",
            "/content/drive/MyDrive/Deep Learning/Political_Speeches_Folder/audio_data_2/Richard M. Nixon/spe_1973_0123_nixon.mp3 done\n",
            "/content/drive/MyDrive/Deep Learning/Political_Speeches_Folder/audio_data_2/George H. W. Bush/spe_1991_0227_bush.mp3 done\n"
          ]
        }
      ]
    },
    {
      "cell_type": "code",
      "source": [
        "from sklearn.metrics.pairwise import cosine_distances"
      ],
      "metadata": {
        "id": "YlDurWEg65sR"
      },
      "execution_count": 208,
      "outputs": []
    },
    {
      "cell_type": "code",
      "source": [
        "war['speech_one_embed'].iloc[1]"
      ],
      "metadata": {
        "colab": {
          "base_uri": "https://localhost:8080/"
        },
        "id": "1cx8Zdh27YgG",
        "outputId": "22700a14-bd05-4684-e8cd-033f329a1851"
      },
      "execution_count": 210,
      "outputs": [
        {
          "output_type": "execute_result",
          "data": {
            "text/plain": [
              "array([-4.0601553e+02,  8.5235428e+01,  6.9337268e+00,  1.6694801e+01,\n",
              "        3.9227861e-01,  4.5103559e+00, -6.5199780e+00, -8.7278042e+00,\n",
              "       -6.2177234e+00,  1.5932468e+00, -1.1690559e+01,  2.6071908e+00,\n",
              "       -9.4344835e+00, -2.4973447e+00, -6.7763009e+00, -5.0215850e+00,\n",
              "       -4.8248591e+00, -2.4433954e+00, -5.4989285e+00, -6.3055044e-01,\n",
              "       -9.8789530e+00,  4.1246572e-01, -1.2135753e+01,  4.1720972e+00,\n",
              "       -4.0801015e+00,  4.7915608e-01, -2.4754333e-01,  9.3814723e-02,\n",
              "       -4.1971713e-01, -1.8403152e+00, -7.9263288e-01, -9.8829484e-01,\n",
              "       -3.5187044e+00, -2.1554737e+00, -3.2680891e+00, -2.4995558e+00,\n",
              "       -2.9971445e+00,  1.0932574e+00, -3.5652308e+00,  1.4626481e-01],\n",
              "      dtype=float32)"
            ]
          },
          "metadata": {},
          "execution_count": 210
        }
      ]
    },
    {
      "cell_type": "code",
      "source": [
        ""
      ],
      "metadata": {
        "id": "UyyT3aur77sM"
      },
      "execution_count": null,
      "outputs": []
    },
    {
      "cell_type": "markdown",
      "source": [
        "First War Speech"
      ],
      "metadata": {
        "id": "zY-8SjRo785C"
      }
    },
    {
      "cell_type": "code",
      "source": [
        "sns.heatmap(cosine_distances([war['speech_one_embed'].iloc[i] for i in [0,1,3,4]] ), \n",
        "            xticklabels=war_presis[:2] + war_presis[3:],\n",
        "            yticklabels=war_presis[:2] + war_presis[3:])"
      ],
      "metadata": {
        "colab": {
          "base_uri": "https://localhost:8080/",
          "height": 379
        },
        "id": "bJSdA5LT641N",
        "outputId": "789da9d9-febf-4c40-bdd2-61084d3c960c"
      },
      "execution_count": 215,
      "outputs": [
        {
          "output_type": "execute_result",
          "data": {
            "text/plain": [
              "<matplotlib.axes._subplots.AxesSubplot at 0x7fd7bf138810>"
            ]
          },
          "metadata": {},
          "execution_count": 215
        },
        {
          "output_type": "display_data",
          "data": {
            "text/plain": [
              "<Figure size 432x288 with 2 Axes>"
            ],
            "image/png": "[encoded data removed]"
          },
          "metadata": {
            "needs_background": "light"
          }
        }
      ]
    },
    {
      "cell_type": "code",
      "source": [
        "war_presis[:2] + war_presis[3:]"
      ],
      "metadata": {
        "colab": {
          "base_uri": "https://localhost:8080/"
        },
        "id": "AyVA5eBJ7nJy",
        "outputId": "e51cb0c5-5f28-41c3-bea5-00f702449106"
      },
      "execution_count": 214,
      "outputs": [
        {
          "output_type": "execute_result",
          "data": {
            "text/plain": [
              "['Franklin D. Roosevelt',\n",
              " 'George W. Bush',\n",
              " 'Richard M. Nixon',\n",
              " 'George H. W. Bush ']"
            ]
          },
          "metadata": {},
          "execution_count": 214
        }
      ]
    },
    {
      "cell_type": "markdown",
      "source": [
        "Last War Speech"
      ],
      "metadata": {
        "id": "p-GTmhwq8CwL"
      }
    },
    {
      "cell_type": "code",
      "source": [
        "sns.heatmap(cosine_distances([war['speech_one_embed'].iloc[i] for i in range(5)] ), \n",
        "            xticklabels=war_presis,\n",
        "            yticklabels=war_presis)"
      ],
      "metadata": {
        "colab": {
          "base_uri": "https://localhost:8080/",
          "height": 379
        },
        "id": "uy7KZ2IA8BuI",
        "outputId": "756a6a68-597e-4109-da8a-89b509b8949c"
      },
      "execution_count": 216,
      "outputs": [
        {
          "output_type": "execute_result",
          "data": {
            "text/plain": [
              "<matplotlib.axes._subplots.AxesSubplot at 0x7fd7aef699d0>"
            ]
          },
          "metadata": {},
          "execution_count": 216
        },
        {
          "output_type": "display_data",
          "data": {
            "text/plain": [
              "<Figure size 432x288 with 2 Axes>"
            ],
            "image/png": "[encoded data removed]"
          },
          "metadata": {
            "needs_background": "light"
          }
        }
      ]
    },
    {
      "cell_type": "code",
      "source": [
        "#War can be a possible context to look at -- first and last war speeches made by each"
      ],
      "metadata": {
        "id": "X6f9Xg9TyKBm"
      },
      "execution_count": null,
      "outputs": []
    },
    {
      "cell_type": "markdown",
      "source": [
        "# Inaugural Speeches"
      ],
      "metadata": {
        "id": "pe6nLoay8iVs"
      }
    },
    {
      "cell_type": "code",
      "source": [
        "# look at inauguration speeches! good data on that\n",
        "presis_data.loc[presis_data['Context'].isin(['Inaugural'])]['President'].value_counts()"
      ],
      "metadata": {
        "colab": {
          "base_uri": "https://localhost:8080/"
        },
        "id": "fx5X5rXgyQHt",
        "outputId": "ff80938a-c214-4725-f22d-c42d249f1836"
      },
      "execution_count": 192,
      "outputs": [
        {
          "output_type": "execute_result",
          "data": {
            "text/plain": [
              "Franklin D. Roosevelt    4\n",
              "Richard M. Nixon         2\n",
              "George W. Bush           2\n",
              "John F. Kennedy          1\n",
              "Lyndon B. Johnson        1\n",
              "Jimmy Carter             1\n",
              "George H. W. Bush        1\n",
              "Name: President, dtype: int64"
            ]
          },
          "metadata": {},
          "execution_count": 192
        }
      ]
    },
    {
      "cell_type": "code",
      "source": [
        "inaugural_presis = ['Franklin D. Roosevelt',\n",
        "                    'Richard M. Nixon',\n",
        "                    'George W. Bush',\n",
        "                    'John F. Kennedy',\n",
        "                    'Jimmy Carter']"
      ],
      "metadata": {
        "id": "FFYKpMYx8QkH"
      },
      "execution_count": 223,
      "outputs": []
    },
    {
      "cell_type": "code",
      "source": [
        "presis_data.loc[presis_data['Context'].isin(['Inaugural'])]"
      ],
      "metadata": {
        "colab": {
          "base_uri": "https://localhost:8080/",
          "height": 1000
        },
        "id": "6jb-YXwS8lwq",
        "outputId": "02179cda-3cc4-4f1b-e88d-ec403800d39d"
      },
      "execution_count": 218,
      "outputs": [
        {
          "output_type": "execute_result",
          "data": {
            "text/plain": [
              "           Date              President       Party    Context  \\\n",
              "514  1933-03-04  Franklin D. Roosevelt  Democratic  Inaugural   \n",
              "525  1937-01-20  Franklin D. Roosevelt  Democratic  Inaugural   \n",
              "539  1941-01-20  Franklin D. Roosevelt  Democratic  Inaugural   \n",
              "560  1945-01-20  Franklin D. Roosevelt  Democratic  Inaugural   \n",
              "596  1961-01-20        John F. Kennedy  Democratic  Inaugural   \n",
              "655  1965-01-20      Lyndon B. Johnson  Democratic  Inaugural   \n",
              "705  1969-01-20       Richard M. Nixon  Republican  Inaugural   \n",
              "718  1973-01-20       Richard M. Nixon  Republican  Inaugural   \n",
              "745  1977-01-20           Jimmy Carter  Democratic  Inaugural   \n",
              "824  1989-01-20      George H. W. Bush  Republican  Inaugural   \n",
              "884  2001-01-20         George W. Bush  Republican  Inaugural   \n",
              "906  2005-01-20         George W. Bush  Republican  Inaugural   \n",
              "\n",
              "                 Speech Title  \\\n",
              "514   First Inaugural Address   \n",
              "525  Second Inaugural Address   \n",
              "539   Third Inaugural Address   \n",
              "560  Fourth Inaugural Address   \n",
              "596         Inaugural Address   \n",
              "655         Inaugural Address   \n",
              "705   First Inaugural Address   \n",
              "718  Second Inaugural Address   \n",
              "745         Inaugural Address   \n",
              "824         Inaugural Address   \n",
              "884   First Inaugural Address   \n",
              "906  Second Inaugural Address   \n",
              "\n",
              "                                               Summary  \\\n",
              "514  President Franklin Delano Roosevelt delivers t...   \n",
              "525  Franklin Delano Roosevelt spells out his first...   \n",
              "539  In his third of four Inaugural Addresses, Pres...   \n",
              "560  Franklin Delano Roosevelt makes a brief addres...   \n",
              "596  In his Inaugural Address, Kennedy pledges to s...   \n",
              "655  President Johnson talks about change in the Un...   \n",
              "705  President Richard Nixon addresses the nation a...   \n",
              "718  President Nixon speaks on the theme of respons...   \n",
              "745  President Carter notes that the nation must be...   \n",
              "824  President George H. W. Bush stresses the impor...   \n",
              "884  George W. Bush delivers his inaugural address ...   \n",
              "906  President Bush delivers his Second Inaugural A...   \n",
              "\n",
              "                                            Transcript  \\\n",
              "514  President Hoover, Mr. Chief Justice, my friend...   \n",
              "525  When four years ago we met to inaugurate Presi...   \n",
              "539  On each national day of Inauguration since 178...   \n",
              "560  Mr. Chief Justice, Mr. Vice President, my frie...   \n",
              "596  Vice President Johnson, Mr. Speaker, Mr. Chief...   \n",
              "655  My fellow countrymen: On this occasion the oat...   \n",
              "705  Senator Dirksen, Mr. Chief Justice, Mr. Vice P...   \n",
              "718  Mr. Vice President, Mr. Speaker, Mr. Chief Jus...   \n",
              "745  For myself and for our Nation, I want to thank...   \n",
              "824  Mr. Chief Justice, Mr. President, Vice Preside...   \n",
              "884  President Clinton, distinguished guests and my...   \n",
              "906  Vice President Cheney, Mr. Chief Justice, Pres...   \n",
              "\n",
              "                                                   URL  \n",
              "514  https://millercenter.org/the-presidency/presid...  \n",
              "525  https://millercenter.org/the-presidency/presid...  \n",
              "539  https://millercenter.org/the-presidency/presid...  \n",
              "560  https://millercenter.org/the-presidency/presid...  \n",
              "596  https://millercenter.org/the-presidency/presid...  \n",
              "655  https://millercenter.org/the-presidency/presid...  \n",
              "705  https://millercenter.org/the-presidency/presid...  \n",
              "718  https://millercenter.org/the-presidency/presid...  \n",
              "745  https://millercenter.org/the-presidency/presid...  \n",
              "824  https://millercenter.org/the-presidency/presid...  \n",
              "884  https://millercenter.org/the-presidency/presid...  \n",
              "906  https://millercenter.org/the-presidency/presid...  "
            ],
            "text/html": [
              "\n",
              "  <div id=\"df-b43876e2-c162-44fa-a0b3-c8b5c71d503b\">\n",
              "    <div class=\"colab-df-container\">\n",
              "      <div>\n",
              "<style scoped>\n",
              "    .dataframe tbody tr th:only-of-type {\n",
              "        vertical-align: middle;\n",
              "    }\n",
              "\n",
              "    .dataframe tbody tr th {\n",
              "        vertical-align: top;\n",
              "    }\n",
              "\n",
              "    .dataframe thead th {\n",
              "        text-align: right;\n",
              "    }\n",
              "</style>\n",
              "<table border=\"1\" class=\"dataframe\">\n",
              "  <thead>\n",
              "    <tr style=\"text-align: right;\">\n",
              "      <th></th>\n",
              "      <th>Date</th>\n",
              "      <th>President</th>\n",
              "      <th>Party</th>\n",
              "      <th>Context</th>\n",
              "      <th>Speech Title</th>\n",
              "      <th>Summary</th>\n",
              "      <th>Transcript</th>\n",
              "      <th>URL</th>\n",
              "    </tr>\n",
              "  </thead>\n",
              "  <tbody>\n",
              "    <tr>\n",
              "      <th>514</th>\n",
              "      <td>1933-03-04</td>\n",
              "      <td>Franklin D. Roosevelt</td>\n",
              "      <td>Democratic</td>\n",
              "      <td>Inaugural</td>\n",
              "      <td>First Inaugural Address</td>\n",
              "      <td>President Franklin Delano Roosevelt delivers t...</td>\n",
              "      <td>President Hoover, Mr. Chief Justice, my friend...</td>\n",
              "      <td>https://millercenter.org/the-presidency/presid...</td>\n",
              "    </tr>\n",
              "    <tr>\n",
              "      <th>525</th>\n",
              "      <td>1937-01-20</td>\n",
              "      <td>Franklin D. Roosevelt</td>\n",
              "      <td>Democratic</td>\n",
              "      <td>Inaugural</td>\n",
              "      <td>Second Inaugural Address</td>\n",
              "      <td>Franklin Delano Roosevelt spells out his first...</td>\n",
              "      <td>When four years ago we met to inaugurate Presi...</td>\n",
              "      <td>https://millercenter.org/the-presidency/presid...</td>\n",
              "    </tr>\n",
              "    <tr>\n",
              "      <th>539</th>\n",
              "      <td>1941-01-20</td>\n",
              "      <td>Franklin D. Roosevelt</td>\n",
              "      <td>Democratic</td>\n",
              "      <td>Inaugural</td>\n",
              "      <td>Third Inaugural Address</td>\n",
              "      <td>In his third of four Inaugural Addresses, Pres...</td>\n",
              "      <td>On each national day of Inauguration since 178...</td>\n",
              "      <td>https://millercenter.org/the-presidency/presid...</td>\n",
              "    </tr>\n",
              "    <tr>\n",
              "      <th>560</th>\n",
              "      <td>1945-01-20</td>\n",
              "      <td>Franklin D. Roosevelt</td>\n",
              "      <td>Democratic</td>\n",
              "      <td>Inaugural</td>\n",
              "      <td>Fourth Inaugural Address</td>\n",
              "      <td>Franklin Delano Roosevelt makes a brief addres...</td>\n",
              "      <td>Mr. Chief Justice, Mr. Vice President, my frie...</td>\n",
              "      <td>https://millercenter.org/the-presidency/presid...</td>\n",
              "    </tr>\n",
              "    <tr>\n",
              "      <th>596</th>\n",
              "      <td>1961-01-20</td>\n",
              "      <td>John F. Kennedy</td>\n",
              "      <td>Democratic</td>\n",
              "      <td>Inaugural</td>\n",
              "      <td>Inaugural Address</td>\n",
              "      <td>In his Inaugural Address, Kennedy pledges to s...</td>\n",
              "      <td>Vice President Johnson, Mr. Speaker, Mr. Chief...</td>\n",
              "      <td>https://millercenter.org/the-presidency/presid...</td>\n",
              "    </tr>\n",
              "    <tr>\n",
              "      <th>655</th>\n",
              "      <td>1965-01-20</td>\n",
              "      <td>Lyndon B. Johnson</td>\n",
              "      <td>Democratic</td>\n",
              "      <td>Inaugural</td>\n",
              "      <td>Inaugural Address</td>\n",
              "      <td>President Johnson talks about change in the Un...</td>\n",
              "      <td>My fellow countrymen: On this occasion the oat...</td>\n",
              "      <td>https://millercenter.org/the-presidency/presid...</td>\n",
              "    </tr>\n",
              "    <tr>\n",
              "      <th>705</th>\n",
              "      <td>1969-01-20</td>\n",
              "      <td>Richard M. Nixon</td>\n",
              "      <td>Republican</td>\n",
              "      <td>Inaugural</td>\n",
              "      <td>First Inaugural Address</td>\n",
              "      <td>President Richard Nixon addresses the nation a...</td>\n",
              "      <td>Senator Dirksen, Mr. Chief Justice, Mr. Vice P...</td>\n",
              "      <td>https://millercenter.org/the-presidency/presid...</td>\n",
              "    </tr>\n",
              "    <tr>\n",
              "      <th>718</th>\n",
              "      <td>1973-01-20</td>\n",
              "      <td>Richard M. Nixon</td>\n",
              "      <td>Republican</td>\n",
              "      <td>Inaugural</td>\n",
              "      <td>Second Inaugural Address</td>\n",
              "      <td>President Nixon speaks on the theme of respons...</td>\n",
              "      <td>Mr. Vice President, Mr. Speaker, Mr. Chief Jus...</td>\n",
              "      <td>https://millercenter.org/the-presidency/presid...</td>\n",
              "    </tr>\n",
              "    <tr>\n",
              "      <th>745</th>\n",
              "      <td>1977-01-20</td>\n",
              "      <td>Jimmy Carter</td>\n",
              "      <td>Democratic</td>\n",
              "      <td>Inaugural</td>\n",
              "      <td>Inaugural Address</td>\n",
              "      <td>President Carter notes that the nation must be...</td>\n",
              "      <td>For myself and for our Nation, I want to thank...</td>\n",
              "      <td>https://millercenter.org/the-presidency/presid...</td>\n",
              "    </tr>\n",
              "    <tr>\n",
              "      <th>824</th>\n",
              "      <td>1989-01-20</td>\n",
              "      <td>George H. W. Bush</td>\n",
              "      <td>Republican</td>\n",
              "      <td>Inaugural</td>\n",
              "      <td>Inaugural Address</td>\n",
              "      <td>President George H. W. Bush stresses the impor...</td>\n",
              "      <td>Mr. Chief Justice, Mr. President, Vice Preside...</td>\n",
              "      <td>https://millercenter.org/the-presidency/presid...</td>\n",
              "    </tr>\n",
              "    <tr>\n",
              "      <th>884</th>\n",
              "      <td>2001-01-20</td>\n",
              "      <td>George W. Bush</td>\n",
              "      <td>Republican</td>\n",
              "      <td>Inaugural</td>\n",
              "      <td>First Inaugural Address</td>\n",
              "      <td>George W. Bush delivers his inaugural address ...</td>\n",
              "      <td>President Clinton, distinguished guests and my...</td>\n",
              "      <td>https://millercenter.org/the-presidency/presid...</td>\n",
              "    </tr>\n",
              "    <tr>\n",
              "      <th>906</th>\n",
              "      <td>2005-01-20</td>\n",
              "      <td>George W. Bush</td>\n",
              "      <td>Republican</td>\n",
              "      <td>Inaugural</td>\n",
              "      <td>Second Inaugural Address</td>\n",
              "      <td>President Bush delivers his Second Inaugural A...</td>\n",
              "      <td>Vice President Cheney, Mr. Chief Justice, Pres...</td>\n",
              "      <td>https://millercenter.org/the-presidency/presid...</td>\n",
              "    </tr>\n",
              "  </tbody>\n",
              "</table>\n",
              "</div>\n",
              "      <button class=\"colab-df-convert\" onclick=\"convertToInteractive('df-b43876e2-c162-44fa-a0b3-c8b5c71d503b')\"\n",
              "              title=\"Convert this dataframe to an interactive table.\"\n",
              "              style=\"display:none;\">\n",
              "        \n",
              "  <svg xmlns=\"http://www.w3.org/2000/svg\" height=\"24px\"viewBox=\"0 0 24 24\"\n",
              "       width=\"24px\">\n",
              "    <path d=\"M0 0h24v24H0V0z\" fill=\"none\"/>\n",
              "    <path d=\"M18.56 5.44l.94 2.06.94-2.06 2.06-.94-2.06-.94-.94-2.06-.94 2.06-2.06.94zm-11 1L8.5 8.5l.94-2.06 2.06-.94-2.06-.94L8.5 2.5l-.94 2.06-2.06.94zm10 10l.94 2.06.94-2.06 2.06-.94-2.06-.94-.94-2.06-.94 2.06-2.06.94z\"/><path d=\"M17.41 7.96l-1.37-1.37c-.4-.4-.92-.59-1.43-.59-.52 0-1.04.2-1.43.59L10.3 9.45l-7.72 7.72c-.78.78-.78 2.05 0 2.83L4 21.41c.39.39.9.59 1.41.59.51 0 1.02-.2 1.41-.59l7.78-7.78 2.81-2.81c.8-.78.8-2.07 0-2.86zM5.41 20L4 18.59l7.72-7.72 1.47 1.35L5.41 20z\"/>\n",
              "  </svg>\n",
              "      </button>\n",
              "      \n",
              "  <style>\n",
              "    .colab-df-container {\n",
              "      display:flex;\n",
              "      flex-wrap:wrap;\n",
              "      gap: 12px;\n",
              "    }\n",
              "\n",
              "    .colab-df-convert {\n",
              "      background-color: #E8F0FE;\n",
              "      border: none;\n",
              "      border-radius: 50%;\n",
              "      cursor: pointer;\n",
              "      display: none;\n",
              "      fill: #1967D2;\n",
              "      height: 32px;\n",
              "      padding: 0 0 0 0;\n",
              "      width: 32px;\n",
              "    }\n",
              "\n",
              "    .colab-df-convert:hover {\n",
              "      background-color: #E2EBFA;\n",
              "      box-shadow: 0px 1px 2px rgba(60, 64, 67, 0.3), 0px 1px 3px 1px rgba(60, 64, 67, 0.15);\n",
              "      fill: #174EA6;\n",
              "    }\n",
              "\n",
              "    [theme=dark] .colab-df-convert {\n",
              "      background-color: #3B4455;\n",
              "      fill: #D2E3FC;\n",
              "    }\n",
              "\n",
              "    [theme=dark] .colab-df-convert:hover {\n",
              "      background-color: #434B5C;\n",
              "      box-shadow: 0px 1px 3px 1px rgba(0, 0, 0, 0.15);\n",
              "      filter: drop-shadow(0px 1px 2px rgba(0, 0, 0, 0.3));\n",
              "      fill: #FFFFFF;\n",
              "    }\n",
              "  </style>\n",
              "\n",
              "      <script>\n",
              "        const buttonEl =\n",
              "          document.querySelector('#df-b43876e2-c162-44fa-a0b3-c8b5c71d503b button.colab-df-convert');\n",
              "        buttonEl.style.display =\n",
              "          google.colab.kernel.accessAllowed ? 'block' : 'none';\n",
              "\n",
              "        async function convertToInteractive(key) {\n",
              "          const element = document.querySelector('#df-b43876e2-c162-44fa-a0b3-c8b5c71d503b');\n",
              "          const dataTable =\n",
              "            await google.colab.kernel.invokeFunction('convertToInteractive',\n",
              "                                                     [key], {});\n",
              "          if (!dataTable) return;\n",
              "\n",
              "          const docLinkHtml = 'Like what you see? Visit the ' +\n",
              "            '<a target=\"_blank\" href=https://colab.research.google.com/notebooks/data_table.ipynb>data table notebook</a>'\n",
              "            + ' to learn more about interactive tables.';\n",
              "          element.innerHTML = '';\n",
              "          dataTable['output_type'] = 'display_data';\n",
              "          await google.colab.output.renderOutput(dataTable, element);\n",
              "          const docLink = document.createElement('div');\n",
              "          docLink.innerHTML = docLinkHtml;\n",
              "          element.appendChild(docLink);\n",
              "        }\n",
              "      </script>\n",
              "    </div>\n",
              "  </div>\n",
              "  "
            ]
          },
          "metadata": {},
          "execution_count": 218
        }
      ]
    },
    {
      "cell_type": "code",
      "source": [
        "inaugural_speeches = [\"/content/drive/MyDrive/Deep Learning/Political_Speeches_Folder/audio_data_2/Franklin D. Roosevelt/spe_1933_0304_roosevelt.mp3\",\n",
        "                      \"/content/drive/MyDrive/Deep Learning/Political_Speeches_Folder/audio_data_2/Richard M. Nixon/spe_1969_0120_nixon.mp3\",\n",
        "                      \"/content/drive/MyDrive/Deep Learning/Political_Speeches_Folder/audio_data_2/George W. Bush/gwb_2001_0120_FirstInaugural.mp3\",\n",
        "                      \"/content/drive/MyDrive/Deep Learning/Political_Speeches_Folder/audio_data_2/John F. Kennedy/595.mp3\",\n",
        "                      \"/content/drive/MyDrive/Deep Learning/Political_Speeches_Folder/audio_data_2/Jimmy Carter/spe_1977_0120_carter.mp3\",\n",
        "                      ]"
      ],
      "metadata": {
        "id": "aL_m-xhb81E3"
      },
      "execution_count": 220,
      "outputs": []
    },
    {
      "cell_type": "code",
      "source": [
        "def make_dataset(presi_list, speeches_path):\n",
        "  df = pd.DataFrame()\n",
        "  df['Presidents'] = presi_list\n",
        "  df['paths'] = speeches_path\n",
        "  df['embeds'] = df['paths'].apply(lambda x: extract_mfcc(x))\n",
        "  return df\n",
        "\n",
        "def make_heatmap(presi_list, speeches_path):\n",
        "  df = make_dataset(presi_list = presi_list, speeches_path = speeches_path)\n",
        "  sns.heatmap(cosine_distances([df['embeds'].iloc[i] for i in range(len(presi_list))] ), \n",
        "            xticklabels=presi_list,\n",
        "            yticklabels=presi_list)"
      ],
      "metadata": {
        "id": "CRLonB-483L5"
      },
      "execution_count": 229,
      "outputs": []
    },
    {
      "cell_type": "code",
      "source": [
        "inaugural = make_dataset(inaugural_presis, inaugural_speeches)"
      ],
      "metadata": {
        "colab": {
          "base_uri": "https://localhost:8080/"
        },
        "id": "RB8NRLnZ_URq",
        "outputId": "b95e9d07-f412-4fa3-d92c-d1a88e356c90"
      },
      "execution_count": 230,
      "outputs": [
        {
          "output_type": "stream",
          "name": "stdout",
          "text": [
            "/content/drive/MyDrive/Deep Learning/Political_Speeches_Folder/audio_data_2/Franklin D. Roosevelt/spe_1933_0304_roosevelt.mp3 done\n",
            "/content/drive/MyDrive/Deep Learning/Political_Speeches_Folder/audio_data_2/Richard M. Nixon/spe_1969_0120_nixon.mp3 done\n",
            "/content/drive/MyDrive/Deep Learning/Political_Speeches_Folder/audio_data_2/George W. Bush/gwb_2001_0120_FirstInaugural.mp3 done\n",
            "/content/drive/MyDrive/Deep Learning/Political_Speeches_Folder/audio_data_2/John F. Kennedy/595.mp3 done\n",
            "/content/drive/MyDrive/Deep Learning/Political_Speeches_Folder/audio_data_2/Jimmy Carter/spe_1977_0120_carter.mp3 done\n"
          ]
        }
      ]
    },
    {
      "cell_type": "code",
      "source": [
        "inaugural.head()"
      ],
      "metadata": {
        "colab": {
          "base_uri": "https://localhost:8080/",
          "height": 250
        },
        "id": "MsBzbh5S_azz",
        "outputId": "c21fa28e-0567-4f71-bebd-ec97fb7c44c4"
      },
      "execution_count": 231,
      "outputs": [
        {
          "output_type": "execute_result",
          "data": {
            "text/plain": [
              "              Presidents                                              paths  \\\n",
              "0  Franklin D. Roosevelt  /content/drive/MyDrive/Deep Learning/Political...   \n",
              "1       Richard M. Nixon  /content/drive/MyDrive/Deep Learning/Political...   \n",
              "2         George W. Bush  /content/drive/MyDrive/Deep Learning/Political...   \n",
              "3        John F. Kennedy  /content/drive/MyDrive/Deep Learning/Political...   \n",
              "4           Jimmy Carter  /content/drive/MyDrive/Deep Learning/Political...   \n",
              "\n",
              "                                              embeds  \n",
              "0  [-258.3317, 115.54729, -60.37511, 6.71233, -3....  \n",
              "1  [-223.10649, 158.44333, -67.4183, 43.90846, -9...  \n",
              "2  [-319.2582, 110.06122, -7.198747, 8.956381, 0....  \n",
              "3  [-287.65503, 171.66159, -16.42228, -30.533337,...  \n",
              "4  [-196.08981, 143.28249, -30.01689, 21.156622, ...  "
            ],
            "text/html": [
              "\n",
              "  <div id=\"df-06166bcb-dd18-46f5-a684-b0fe8d3383fe\">\n",
              "    <div class=\"colab-df-container\">\n",
              "      <div>\n",
              "<style scoped>\n",
              "    .dataframe tbody tr th:only-of-type {\n",
              "        vertical-align: middle;\n",
              "    }\n",
              "\n",
              "    .dataframe tbody tr th {\n",
              "        vertical-align: top;\n",
              "    }\n",
              "\n",
              "    .dataframe thead th {\n",
              "        text-align: right;\n",
              "    }\n",
              "</style>\n",
              "<table border=\"1\" class=\"dataframe\">\n",
              "  <thead>\n",
              "    <tr style=\"text-align: right;\">\n",
              "      <th></th>\n",
              "      <th>Presidents</th>\n",
              "      <th>paths</th>\n",
              "      <th>embeds</th>\n",
              "    </tr>\n",
              "  </thead>\n",
              "  <tbody>\n",
              "    <tr>\n",
              "      <th>0</th>\n",
              "      <td>Franklin D. Roosevelt</td>\n",
              "      <td>/content/drive/MyDrive/Deep Learning/Political...</td>\n",
              "      <td>[-258.3317, 115.54729, -60.37511, 6.71233, -3....</td>\n",
              "    </tr>\n",
              "    <tr>\n",
              "      <th>1</th>\n",
              "      <td>Richard M. Nixon</td>\n",
              "      <td>/content/drive/MyDrive/Deep Learning/Political...</td>\n",
              "      <td>[-223.10649, 158.44333, -67.4183, 43.90846, -9...</td>\n",
              "    </tr>\n",
              "    <tr>\n",
              "      <th>2</th>\n",
              "      <td>George W. Bush</td>\n",
              "      <td>/content/drive/MyDrive/Deep Learning/Political...</td>\n",
              "      <td>[-319.2582, 110.06122, -7.198747, 8.956381, 0....</td>\n",
              "    </tr>\n",
              "    <tr>\n",
              "      <th>3</th>\n",
              "      <td>John F. Kennedy</td>\n",
              "      <td>/content/drive/MyDrive/Deep Learning/Political...</td>\n",
              "      <td>[-287.65503, 171.66159, -16.42228, -30.533337,...</td>\n",
              "    </tr>\n",
              "    <tr>\n",
              "      <th>4</th>\n",
              "      <td>Jimmy Carter</td>\n",
              "      <td>/content/drive/MyDrive/Deep Learning/Political...</td>\n",
              "      <td>[-196.08981, 143.28249, -30.01689, 21.156622, ...</td>\n",
              "    </tr>\n",
              "  </tbody>\n",
              "</table>\n",
              "</div>\n",
              "      <button class=\"colab-df-convert\" onclick=\"convertToInteractive('df-06166bcb-dd18-46f5-a684-b0fe8d3383fe')\"\n",
              "              title=\"Convert this dataframe to an interactive table.\"\n",
              "              style=\"display:none;\">\n",
              "        \n",
              "  <svg xmlns=\"http://www.w3.org/2000/svg\" height=\"24px\"viewBox=\"0 0 24 24\"\n",
              "       width=\"24px\">\n",
              "    <path d=\"M0 0h24v24H0V0z\" fill=\"none\"/>\n",
              "    <path d=\"M18.56 5.44l.94 2.06.94-2.06 2.06-.94-2.06-.94-.94-2.06-.94 2.06-2.06.94zm-11 1L8.5 8.5l.94-2.06 2.06-.94-2.06-.94L8.5 2.5l-.94 2.06-2.06.94zm10 10l.94 2.06.94-2.06 2.06-.94-2.06-.94-.94-2.06-.94 2.06-2.06.94z\"/><path d=\"M17.41 7.96l-1.37-1.37c-.4-.4-.92-.59-1.43-.59-.52 0-1.04.2-1.43.59L10.3 9.45l-7.72 7.72c-.78.78-.78 2.05 0 2.83L4 21.41c.39.39.9.59 1.41.59.51 0 1.02-.2 1.41-.59l7.78-7.78 2.81-2.81c.8-.78.8-2.07 0-2.86zM5.41 20L4 18.59l7.72-7.72 1.47 1.35L5.41 20z\"/>\n",
              "  </svg>\n",
              "      </button>\n",
              "      \n",
              "  <style>\n",
              "    .colab-df-container {\n",
              "      display:flex;\n",
              "      flex-wrap:wrap;\n",
              "      gap: 12px;\n",
              "    }\n",
              "\n",
              "    .colab-df-convert {\n",
              "      background-color: #E8F0FE;\n",
              "      border: none;\n",
              "      border-radius: 50%;\n",
              "      cursor: pointer;\n",
              "      display: none;\n",
              "      fill: #1967D2;\n",
              "      height: 32px;\n",
              "      padding: 0 0 0 0;\n",
              "      width: 32px;\n",
              "    }\n",
              "\n",
              "    .colab-df-convert:hover {\n",
              "      background-color: #E2EBFA;\n",
              "      box-shadow: 0px 1px 2px rgba(60, 64, 67, 0.3), 0px 1px 3px 1px rgba(60, 64, 67, 0.15);\n",
              "      fill: #174EA6;\n",
              "    }\n",
              "\n",
              "    [theme=dark] .colab-df-convert {\n",
              "      background-color: #3B4455;\n",
              "      fill: #D2E3FC;\n",
              "    }\n",
              "\n",
              "    [theme=dark] .colab-df-convert:hover {\n",
              "      background-color: #434B5C;\n",
              "      box-shadow: 0px 1px 3px 1px rgba(0, 0, 0, 0.15);\n",
              "      filter: drop-shadow(0px 1px 2px rgba(0, 0, 0, 0.3));\n",
              "      fill: #FFFFFF;\n",
              "    }\n",
              "  </style>\n",
              "\n",
              "      <script>\n",
              "        const buttonEl =\n",
              "          document.querySelector('#df-06166bcb-dd18-46f5-a684-b0fe8d3383fe button.colab-df-convert');\n",
              "        buttonEl.style.display =\n",
              "          google.colab.kernel.accessAllowed ? 'block' : 'none';\n",
              "\n",
              "        async function convertToInteractive(key) {\n",
              "          const element = document.querySelector('#df-06166bcb-dd18-46f5-a684-b0fe8d3383fe');\n",
              "          const dataTable =\n",
              "            await google.colab.kernel.invokeFunction('convertToInteractive',\n",
              "                                                     [key], {});\n",
              "          if (!dataTable) return;\n",
              "\n",
              "          const docLinkHtml = 'Like what you see? Visit the ' +\n",
              "            '<a target=\"_blank\" href=https://colab.research.google.com/notebooks/data_table.ipynb>data table notebook</a>'\n",
              "            + ' to learn more about interactive tables.';\n",
              "          element.innerHTML = '';\n",
              "          dataTable['output_type'] = 'display_data';\n",
              "          await google.colab.output.renderOutput(dataTable, element);\n",
              "          const docLink = document.createElement('div');\n",
              "          docLink.innerHTML = docLinkHtml;\n",
              "          element.appendChild(docLink);\n",
              "        }\n",
              "      </script>\n",
              "    </div>\n",
              "  </div>\n",
              "  "
            ]
          },
          "metadata": {},
          "execution_count": 231
        }
      ]
    },
    {
      "cell_type": "code",
      "source": [
        "make_heatmap(inaugural_presis, inaugural_speeches)"
      ],
      "metadata": {
        "colab": {
          "base_uri": "https://localhost:8080/",
          "height": 470
        },
        "id": "Wmq9yEyX-YlQ",
        "outputId": "19b6adf9-635e-48f8-f5f5-e9c78ff89e80"
      },
      "execution_count": 232,
      "outputs": [
        {
          "output_type": "stream",
          "name": "stdout",
          "text": [
            "/content/drive/MyDrive/Deep Learning/Political_Speeches_Folder/audio_data_2/Franklin D. Roosevelt/spe_1933_0304_roosevelt.mp3 done\n",
            "/content/drive/MyDrive/Deep Learning/Political_Speeches_Folder/audio_data_2/Richard M. Nixon/spe_1969_0120_nixon.mp3 done\n",
            "/content/drive/MyDrive/Deep Learning/Political_Speeches_Folder/audio_data_2/George W. Bush/gwb_2001_0120_FirstInaugural.mp3 done\n",
            "/content/drive/MyDrive/Deep Learning/Political_Speeches_Folder/audio_data_2/John F. Kennedy/595.mp3 done\n",
            "/content/drive/MyDrive/Deep Learning/Political_Speeches_Folder/audio_data_2/Jimmy Carter/spe_1977_0120_carter.mp3 done\n"
          ]
        },
        {
          "output_type": "display_data",
          "data": {
            "text/plain": [
              "<Figure size 432x288 with 2 Axes>"
            ],
            "image/png": "[encoded data removed]"
          },
          "metadata": {
            "needs_background": "light"
          }
        }
      ]
    },
    {
      "cell_type": "markdown",
      "source": [
        "# Protest Speeches\n"
      ],
      "metadata": {
        "id": "zekFLbpi8pfW"
      }
    },
    {
      "cell_type": "code",
      "source": [
        "protest_paths = [\"\",\n",
        "                 \"\",\n",
        "                 \"\",\n",
        "                 \"\",\n",
        "                 \"\"\n",
        "                 ]"
      ],
      "metadata": {
        "id": "s3Odvr2KBTsp"
      },
      "execution_count": null,
      "outputs": []
    },
    {
      "cell_type": "code",
      "source": [
        "presis_data.loc[presis_data['Context'].isin(['FP'])]['President'].value_counts()"
      ],
      "metadata": {
        "colab": {
          "base_uri": "https://localhost:8080/"
        },
        "id": "H6Uv2eCT1Nkj",
        "outputId": "1a91796b-5df9-4238-e147-3037d18be0d8"
      },
      "execution_count": 196,
      "outputs": [
        {
          "output_type": "execute_result",
          "data": {
            "text/plain": [
              "John F. Kennedy          8\n",
              "Lyndon B. Johnson        7\n",
              "Jimmy Carter             5\n",
              "George H. W. Bush        4\n",
              "Franklin D. Roosevelt    1\n",
              "Richard M. Nixon         1\n",
              "Name: President, dtype: int64"
            ]
          },
          "metadata": {},
          "execution_count": 196
        }
      ]
    },
    {
      "cell_type": "code",
      "source": [
        "presis_data.loc[presis_data['Context'].isin(['University'])]['President'].value_counts()"
      ],
      "metadata": {
        "colab": {
          "base_uri": "https://localhost:8080/"
        },
        "id": "WrJNj1v61Tk3",
        "outputId": "427c8b84-dffe-481c-8bdb-ba64faa7f441"
      },
      "execution_count": 197,
      "outputs": [
        {
          "output_type": "execute_result",
          "data": {
            "text/plain": [
              "John F. Kennedy      9\n",
              "Lyndon B. Johnson    4\n",
              "George H. W. Bush    3\n",
              "Jimmy Carter         1\n",
              "George W. Bush       1\n",
              "Name: President, dtype: int64"
            ]
          },
          "metadata": {},
          "execution_count": 197
        }
      ]
    }
  ]
}