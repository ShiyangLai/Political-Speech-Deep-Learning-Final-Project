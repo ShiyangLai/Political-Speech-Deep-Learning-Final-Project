{
 "cells": [
  {
   "cell_type": "code",
   "execution_count": 1,
   "id": "5075f6b0-be7b-4490-a7ac-c290a26fa82c",
   "metadata": {},
   "outputs": [],
   "source": [
    "import pandas as pd\n",
    "import numpy as np"
   ]
  },
  {
   "cell_type": "code",
   "execution_count": 2,
   "id": "11aa72b0-adf2-4908-b9cf-653431382ed1",
   "metadata": {},
   "outputs": [],
   "source": [
    "# read in data\n",
    "congress_net = pd.read_csv('../dataset/network_data/congress.csv')\n",
    "fp_net = pd.read_csv('../dataset/network_data/fp.csv')\n",
    "war_net = pd.read_csv('../dataset/network_data/war.csv')\n",
    "inaugural_net = pd.read_csv('../dataset/network_data/inaugural.csv')\n",
    "money_net = pd.read_csv('../dataset/network_data/money.csv')\n",
    "sotu_net = pd.read_csv('../dataset/network_data/sotu.csv')"
   ]
  },
  {
   "cell_type": "code",
   "execution_count": null,
   "id": "f7aab64b-434c-452f-b6d8-719e74ea457d",
   "metadata": {},
   "outputs": [],
   "source": [
    "# since we don't want to have multiple distance representation for each president, we will embedding the six networks into one space\n"
   ]
  }
 ],
 "metadata": {
  "kernelspec": {
   "display_name": "Python 3",
   "language": "python",
   "name": "python3"
  },
  "language_info": {
   "codemirror_mode": {
    "name": "ipython",
    "version": 3
   },
   "file_extension": ".py",
   "mimetype": "text/x-python",
   "name": "python",
   "nbconvert_exporter": "python",
   "pygments_lexer": "ipython3",
   "version": "3.8.8"
  }
 },
 "nbformat": 4,
 "nbformat_minor": 5
}
