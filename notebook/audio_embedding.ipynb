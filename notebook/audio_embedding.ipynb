{
 "cells": [
  {
   "cell_type": "code",
   "execution_count": 1,
   "id": "e6d33d11-934d-48c8-bb2d-3c0f0f8ba956",
   "metadata": {},
   "outputs": [],
   "source": [
    "# !pip install torchaudio librosa\n",
    "import os\n",
    "import numpy as np\n",
    "from matplotlib import pyplot as plt\n",
    "import IPython.display as ipd\n",
    "import librosa\n",
    "import pandas as pd\n",
    "import torch\n",
    "from torch.utils.data import Dataset, DataLoader\n",
    "from torchvision import datasets, transforms\n",
    "from pathlib import Path\n",
    "import torchaudio\n",
    "import torchvision\n",
    "import torch.nn.functional as F\n",
    "import torch.optim as optim\n",
    "from torch.autograd import Variable\n",
    "from torch import nn\n",
    "from torch.nn import init\n",
    "import math\n",
    "import warnings\n",
    "warnings.filterwarnings('ignore')\n",
    "plt.style.use(['nature', 'science', 'no-latex'])\n",
    "plt.rcParams['font.family'] = 'Times New Roman'"
   ]
  },
  {
   "cell_type": "code",
   "execution_count": 430,
   "id": "13e0aebe-f781-44a9-9c6f-a4605887a5e1",
   "metadata": {},
   "outputs": [],
   "source": [
    "def load_audio_files(path: str, label:str, resample_rate=16000, duration=60, slice_length=600, offset=0):\n",
    "    dataset = []\n",
    "    walker = sorted(str(p) for p in Path(path).glob(f'*.mp3'))\n",
    "\n",
    "    for i, file_path in enumerate(walker):\n",
    "        path, filename = os.path.split(file_path)\n",
    "        speaker = path.split('/')[-1]\n",
    "        # Load audio as slices\n",
    "        for i, t in enumerate(range(offset, slice_length+offset, duration)):\n",
    "            waveform, _ = librosa.load(file_path, sr=resample_rate, offset=t, duration=duration, mono=True)\n",
    "            dataset.append([waveform, resample_rate, label, filename.replace('.mp3', ''), i])\n",
    "    return dataset"
   ]
  },
  {
   "cell_type": "code",
   "execution_count": 431,
   "id": "db89a3ba-9f9a-499f-b09f-38d5e16bc66a",
   "metadata": {
    "tags": []
   },
   "outputs": [],
   "source": [
    "# LyndonBJohnson = load_audio_files(f'../audio/Lyndon B. Johnson', 'Lyndon B. Johnson')\n",
    "# RichardMNixon = load_audio_files(f'../audio/Richard M. Nixon', 'Richard M. Nixon')\n",
    "# BillClinton = load_audio_files(f'../audio/Bill Clinton', 'Bill Clinton')\n",
    "# JohnFKennedy = load_audio_files(f'../audio/John F. Kennedy', 'John F. Kennedy')\n",
    "# RenaldReagan = load_audio_files('../audio/Ronald Reagan', 'Ronald Reagan')\n",
    "# GeorgeHWBush = load_audio_files('../audio/George H. W. Bush', 'George H. W. Bush')\n",
    "# GeorgeWBush = load_audio_files('../audio/George W. Bush', 'George W. Bush')\n",
    "# BarackObama = load_audio_files('../audio/Barack Obama', 'Barack Obama')\n",
    "# FranklinDRoosevelt = load_audio_files('../audio/Franklin D. Roosevelt', 'Franklin D. Roosevelt')\n",
    "JimmyCarter = load_audio_files('../audio/Jimmy Carter', 'Jimmy Carter', slice_length=25*60, offset=180)utils"
   ]
  },
  {
   "cell_type": "code",
   "execution_count": 432,
   "id": "1ab37802-0cee-468b-83d3-971769c943f2",
   "metadata": {},
   "outputs": [],
   "source": [
    "# trainloader_LyndonBJohnson = torch.utils.data.DataLoader(LyndonBJohnson, batch_size=1, shuffle=True, num_workers=2)\n",
    "# trainloader_RichardMNixon = torch.utils.data.DataLoader(RichardMNixon, batch_size=1, shuffle=True, num_workers=2)\n",
    "# trainloader_BillClinton = torch.utils.data.DataLoader(BillClinton, batch_size=1, shuffle=True, num_workers=2)\n",
    "# trainloader_JohnFKennedy = torch.utils.data.DataLoader(JohnFKennedy, batch_size=1, shuffle=True, num_workers=2)\n",
    "# trainloader_RenaldReagan = torch.utils.data.DataLoader(RenaldReagan, batch_size=1, shuffle=True, num_workers=2)\n",
    "# trainloader_GeorgeHWBush = torch.utils.data.DataLoader(GeorgeHWBush, batch_size=1, shuffle=True, num_workers=2)\n",
    "# trainloader_GeorgeWBush = torch.utils.data.DataLoader(GeorgeWBush, batch_size=1, shuffle=True, num_workers=2)\n",
    "# trainloader_BarackObama = torch.utils.data.DataLoader(BarackObama, batch_size=1, shuffle=True, num_workers=2)\n",
    "# trainloader_FranklinDRoosevelt = torch.utils.data.DataLoader(FranklinDRoosevelt, batch_size=1, shuffle=True, num_workers=2)\n",
    "trainloader_JimmyCarter = torch.utils.data.DataLoader(JimmyCarter, batch_size=1, shuffle=True, num_workers=2)"
   ]
  },
  {
   "cell_type": "code",
   "execution_count": 422,
   "id": "9909f620-e95e-4842-adab-cf55d14b634d",
   "metadata": {},
   "outputs": [],
   "source": [
    "def create_spectrogram_images(trainloader, label_dir):\n",
    "    # make directory\n",
    "    directory = f'dataset/audio_images/spectrogram/{label_dir}/'\n",
    "    if(os.path.isdir(directory)):\n",
    "        print(\"Data exists for\", label_dir)\n",
    "    else:\n",
    "        os.makedirs(directory, mode=0o777, exist_ok=True)\n",
    "        \n",
    "        for i, data in enumerate(trainloader):\n",
    "            waveform = data[0].numpy().flatten()\n",
    "            sample_rate = data[1][0]\n",
    "            label = data[2]\n",
    "\n",
    "            # create transformed waveforms\n",
    "            spectrogram = librosa.feature.mfcc(y=waveform, sr=sample_rate.numpy())\n",
    "            plt.imsave(f'dataset/audio_images/spectrogram/{label_dir}/spec_img{i}.png', spectrogram)"
   ]
  },
  {
   "cell_type": "code",
   "execution_count": 433,
   "id": "378a5306-3bb3-477d-852a-a6c8230e3525",
   "metadata": {
    "tags": []
   },
   "outputs": [],
   "source": [
    "# create_spectrogram_images(trainloader_LyndonBJohnson, 'Lyndon B. Johnson')\n",
    "# create_spectrogram_images(trainloader_RichardMNixon, 'Richard M. Nixon')\n",
    "# create_spectrogram_images(trainloader_BillClinton, 'Bill Clinton')\n",
    "# create_spectrogram_images(trainloader_JohnFKennedy, 'John F. Kennedy')\n",
    "# create_spectrogram_images(trainloader_RenaldReagan, 'Ronald Reagan')\n",
    "# create_spectrogram_images(trainloader_GeorgeHWBush, 'George H. W. Bush')\n",
    "# create_spectrogram_images(trainloader_GeorgeWBush, 'George W. Bush')\n",
    "# create_spectrogram_images(trainloader_BarackObama, 'Barack Obama')\n",
    "# create_spectrogram_images(trainloader_FranklinDRoosevelt, 'Franklin D. Roosevelt')\n",
    "create_spectrogram_images(trainloader_JimmyCarter, 'Jimmy Carter')"
   ]
  },
  {
   "cell_type": "code",
   "execution_count": 434,
   "id": "edab9081-bb5b-47eb-ac2f-943e0042478b",
   "metadata": {
    "tags": []
   },
   "outputs": [
    {
     "name": "stdout",
     "output_type": "stream",
     "text": [
      "Dataset ImageFolder\n",
      "    Number of datapoints: 497\n",
      "    Root location: dataset/audio_images/spectrogram/\n",
      "    StandardTransform\n",
      "Transform: Compose(\n",
      "               ToTensor()\n",
      "           )\n"
     ]
    }
   ],
   "source": [
    "# load preprocessed data\n",
    "from torchvision import datasets, transforms\n",
    "presidents_dataset = datasets.ImageFolder(\n",
    "    root='dataset/audio_images/spectrogram/',\n",
    "    transform=transforms.Compose([transforms.ToTensor()\n",
    "                                  ])\n",
    ")\n",
    "print(presidents_dataset)"
   ]
  },
  {
   "cell_type": "code",
   "execution_count": 435,
   "id": "f6d2f7b4-1f12-43ba-9c96-62b5669f2115",
   "metadata": {},
   "outputs": [
    {
     "name": "stdout",
     "output_type": "stream",
     "text": [
      "Training size: 397\n",
      "Testing size: 100\n"
     ]
    }
   ],
   "source": [
    "train_size = int(0.8 * len(presidents_dataset))\n",
    "test_size = len(presidents_dataset) - train_size\n",
    "presidents_train_dataset, presidents_test_dataset = torch.utils.data.random_split(presidents_dataset, [train_size, test_size])\n",
    "print(\"Training size:\", len(presidents_train_dataset))\n",
    "print(\"Testing size:\",len(presidents_test_dataset))"
   ]
  },
  {
   "cell_type": "code",
   "execution_count": 436,
   "id": "046c977c-eeca-4aa1-abed-9c357ca0ba12",
   "metadata": {},
   "outputs": [
    {
     "data": {
      "text/plain": [
       "Counter({7: 45, 1: 34, 3: 37, 9: 40, 0: 40, 5: 36, 4: 43, 8: 41, 2: 43, 6: 38})"
      ]
     },
     "execution_count": 436,
     "metadata": {},
     "output_type": "execute_result"
    }
   ],
   "source": [
    "from collections import Counter\n",
    "# labels in training set\n",
    "train_classes = [label for _, label in presidents_train_dataset]\n",
    "Counter(train_classes)"
   ]
  },
  {
   "cell_type": "code",
   "execution_count": 457,
   "id": "a429b16f-ba79-4c62-a16e-ef068d3245f9",
   "metadata": {},
   "outputs": [
    {
     "data": {
      "text/plain": [
       "['Barack Obama',\n",
       " 'Bill Clinton',\n",
       " 'Franklin D. Roosevelt',\n",
       " 'George H. W. Bush',\n",
       " 'George W. Bush',\n",
       " 'Jimmy Carter',\n",
       " 'John F. Kennedy',\n",
       " 'Lyndon B. Johnson',\n",
       " 'Richard M. Nixon',\n",
       " 'Ronald Reagan']"
      ]
     },
     "execution_count": 457,
     "metadata": {},
     "output_type": "execute_result"
    }
   ],
   "source": [
    "presidents_dataset.classes"
   ]
  },
  {
   "cell_type": "code",
   "execution_count": 437,
   "id": "a9034e28-8b30-48a9-9f71-00ea88cd9404",
   "metadata": {},
   "outputs": [],
   "source": [
    "train_dataloader = torch.utils.data.DataLoader(\n",
    "    presidents_train_dataset,\n",
    "    batch_size=10,\n",
    "    num_workers=2,\n",
    "    shuffle=True\n",
    ")\n",
    "\n",
    "test_dataloader = torch.utils.data.DataLoader(\n",
    "    presidents_test_dataset,\n",
    "    batch_size=10,\n",
    "    num_workers=2,\n",
    "    shuffle=True\n",
    ")"
   ]
  },
  {
   "cell_type": "code",
   "execution_count": 438,
   "id": "e8e3e50d-55d7-412d-8c3e-d9c7b1ff8e8a",
   "metadata": {},
   "outputs": [],
   "source": [
    "class Network(nn.Module):\n",
    "    def __init__(self):\n",
    "        super().__init__()\n",
    "        conv_layers = []\n",
    "        # First Convolution Block with Relu and Batch Norm. Use Kaiming Initialization\n",
    "        self.conv1 = nn.Conv2d(3, 8, kernel_size=(5, 5), stride=(2, 2), padding=(2, 2))\n",
    "        self.relu1 = nn.ReLU()\n",
    "        self.bn1 = nn.BatchNorm2d(8)\n",
    "        init.kaiming_normal_(self.conv1.weight, a=0.1)\n",
    "        self.conv1.bias.data.zero_()\n",
    "        conv_layers += [self.conv1, self.relu1, self.bn1]\n",
    "        # Second Convolution Block\n",
    "        self.conv2 = nn.Conv2d(8, 16, kernel_size=(3, 3), stride=(2, 2), padding=(1, 1))\n",
    "        self.relu2 = nn.ReLU()\n",
    "        self.bn2 = nn.BatchNorm2d(16)\n",
    "        init.kaiming_normal_(self.conv2.weight, a=0.1)\n",
    "        self.conv2.bias.data.zero_()\n",
    "        conv_layers += [self.conv2, self.relu2, self.bn2]\n",
    "        # Second Convolution Block\n",
    "        self.conv3 = nn.Conv2d(16, 32, kernel_size=(3, 3), stride=(2, 2), padding=(1, 1))\n",
    "        self.relu3 = nn.ReLU()\n",
    "        self.bn3 = nn.BatchNorm2d(32)\n",
    "        init.kaiming_normal_(self.conv3.weight, a=0.1)\n",
    "        self.conv3.bias.data.zero_()\n",
    "        conv_layers += [self.conv3, self.relu3, self.bn3]\n",
    "        # Second Convolution Block\n",
    "        self.conv4 = nn.Conv2d(32, 64, kernel_size=(3, 3), stride=(2, 2), padding=(1, 1))\n",
    "        self.relu4 = nn.ReLU()\n",
    "        self.bn4 = nn.BatchNorm2d(64)\n",
    "        init.kaiming_normal_(self.conv4.weight, a=0.1)\n",
    "        self.conv4.bias.data.zero_()\n",
    "        conv_layers += [self.conv4, self.relu4, self.bn4]\n",
    "        # Linear Classifier\n",
    "        self.ap = nn.AdaptiveAvgPool2d(output_size=1)\n",
    "        self.lin = nn.Linear(in_features=64, out_features=10)\n",
    "\n",
    "        # Wrap the Convolutional Blocks\n",
    "        self.conv = nn.Sequential(*conv_layers)\n",
    " \n",
    "\n",
    "    def forward(self, x):\n",
    "        # Run the convolutional blocks\n",
    "        x = self.conv(x)\n",
    "        # Adaptive pool and flatten for input to linear layer\n",
    "        x = self.ap(x)\n",
    "        x = x.view(x.shape[0], -1)\n",
    "        # Linear layer\n",
    "        x = self.lin(x)\n",
    "        # Final output\n",
    "        return x\n",
    "model = Network()"
   ]
  },
  {
   "cell_type": "code",
   "execution_count": 439,
   "id": "422a6de7-e361-42fb-a8ed-c99a4e62b2b6",
   "metadata": {},
   "outputs": [],
   "source": [
    "def training(model, train_dl, num_epochs):\n",
    "    # Loss Function, Optimizer and Scheduler\n",
    "    criterion = nn.CrossEntropyLoss()\n",
    "    optimizer = torch.optim.Adam(model.parameters(),lr=0.001)\n",
    "    scheduler = torch.optim.lr_scheduler.OneCycleLR(optimizer, max_lr=0.001,\n",
    "                                                steps_per_epoch=int(len(train_dl)),\n",
    "                                                epochs=num_epochs,\n",
    "                                                anneal_strategy='linear')\n",
    "\n",
    "    # Repeat for each epoch\n",
    "    for epoch in range(num_epochs):\n",
    "        running_loss = 0.0\n",
    "        correct_prediction = 0\n",
    "        total_prediction = 0\n",
    "\n",
    "        # Repeat for each batch in the training set\n",
    "        for i, data in enumerate(train_dl):\n",
    "            # Get the input features and target labels, and put them on the GPU\n",
    "            inputs, labels = data[0].to(device), data[1].to(device)\n",
    "\n",
    "            # Normalize the inputs\n",
    "            inputs_m, inputs_s = inputs.mean(), inputs.std()\n",
    "            inputs = (inputs - inputs_m) / inputs_s\n",
    "\n",
    "            # Zero the parameter gradients\n",
    "            optimizer.zero_grad()\n",
    "\n",
    "            # forward + backward + optimize\n",
    "            outputs = model(inputs)\n",
    "            loss = criterion(outputs, labels)\n",
    "            loss.backward()\n",
    "            optimizer.step()\n",
    "            scheduler.step()\n",
    "\n",
    "            # Keep stats for Loss and Accuracy\n",
    "            running_loss += loss.item()\n",
    "\n",
    "            # Get the predicted class with the highest score\n",
    "            _, prediction = torch.max(outputs,1)\n",
    "            # Count of predictions that matched the target label\n",
    "            correct_prediction += (prediction == labels).sum().item()\n",
    "            total_prediction += prediction.shape[0]\n",
    "\n",
    "            #if i % 10 == 0:    # print every 10 mini-batches\n",
    "            #    print('[%d, %5d] loss: %.3f' % (epoch + 1, i + 1, running_loss / 10))\n",
    "\n",
    "        # Print stats at the end of the epoch\n",
    "        num_batches = len(train_dl)\n",
    "        avg_loss = running_loss / num_batches\n",
    "        acc = correct_prediction/total_prediction\n",
    "        print(f'Epoch: {epoch}, Loss: {avg_loss:.2f}, Accuracy: {acc:.2f}')\n",
    "\n",
    "    print('Finished Training')"
   ]
  },
  {
   "cell_type": "code",
   "execution_count": 440,
   "id": "4e9589b0-bb24-4b0e-b020-7882d60b1521",
   "metadata": {},
   "outputs": [],
   "source": [
    "def test(model, epoch):\n",
    "    model.eval()\n",
    "    correct = 0\n",
    "    for data, target in test_dataloader:\n",
    "        data = data.to(device)\n",
    "        target = target.to(device)\n",
    "        output = model(data)\n",
    "        output = output.permute(1, 0, 2)\n",
    "        pred = output.max(2)[1] # get the index of the max log-probability\n",
    "        correct += pred.eq(target).cpu().sum().item()\n",
    "    print('\\nTest set: Accuracy: {}/{} ({:.0f}%)\\n'.format(\n",
    "        correct, len(test_dataloader.dataset),\n",
    "        100. * correct / len(test_dataloader.dataset)))"
   ]
  },
  {
   "cell_type": "code",
   "execution_count": 441,
   "id": "1d3f7a19-46c7-44be-8d41-4008d7ab27f4",
   "metadata": {
    "tags": []
   },
   "outputs": [
    {
     "name": "stdout",
     "output_type": "stream",
     "text": [
      "Epoch: 0, Loss: 2.22, Accuracy: 0.19\n",
      "Epoch: 1, Loss: 1.97, Accuracy: 0.34\n",
      "Epoch: 2, Loss: 1.78, Accuracy: 0.40\n",
      "Epoch: 3, Loss: 1.56, Accuracy: 0.50\n",
      "Epoch: 4, Loss: 1.27, Accuracy: 0.64\n",
      "Epoch: 5, Loss: 1.07, Accuracy: 0.70\n",
      "Epoch: 6, Loss: 0.85, Accuracy: 0.77\n",
      "Epoch: 7, Loss: 0.68, Accuracy: 0.84\n",
      "Epoch: 8, Loss: 0.66, Accuracy: 0.85\n",
      "Epoch: 9, Loss: 0.48, Accuracy: 0.87\n",
      "Epoch: 10, Loss: 0.45, Accuracy: 0.90\n",
      "Epoch: 11, Loss: 0.38, Accuracy: 0.93\n",
      "Epoch: 12, Loss: 0.33, Accuracy: 0.92\n",
      "Epoch: 13, Loss: 0.32, Accuracy: 0.93\n",
      "Epoch: 14, Loss: 0.31, Accuracy: 0.94\n",
      "Epoch: 15, Loss: 0.24, Accuracy: 0.97\n",
      "Epoch: 16, Loss: 0.25, Accuracy: 0.96\n",
      "Epoch: 17, Loss: 0.27, Accuracy: 0.95\n",
      "Epoch: 18, Loss: 0.22, Accuracy: 0.97\n",
      "Epoch: 19, Loss: 0.22, Accuracy: 0.96\n",
      "Finished Training\n"
     ]
    }
   ],
   "source": [
    "num_epochs = 20   # Just for demo, adjust this higher.\n",
    "training(model, train_dataloader, num_epochs)"
   ]
  },
  {
   "cell_type": "code",
   "execution_count": 442,
   "id": "373e0ae7-78de-435d-a078-42c0b513044c",
   "metadata": {},
   "outputs": [],
   "source": [
    "def inference(model, val_dl):\n",
    "    correct_prediction = 0\n",
    "    total_prediction = 0\n",
    "\n",
    "    # Disable gradient updates\n",
    "    with torch.no_grad():\n",
    "        for data in val_dl:\n",
    "            # Get the input features and target labels, and put them on the GPU\n",
    "            inputs, labels = data[0].to(device), data[1].to(device)\n",
    "\n",
    "            # Normalize the inputs\n",
    "            inputs_m, inputs_s = inputs.mean(), inputs.std()\n",
    "            inputs = (inputs - inputs_m) / inputs_s\n",
    "\n",
    "            # Get predictions\n",
    "            outputs = model(inputs)\n",
    "\n",
    "            # Get the predicted class with the highest score\n",
    "            _, prediction = torch.max(outputs,1)\n",
    "            # Count of predictions that matched the target label\n",
    "            correct_prediction += (prediction == labels).sum().item()\n",
    "            total_prediction += prediction.shape[0]\n",
    "\n",
    "    acc = correct_prediction/total_prediction\n",
    "    print(f'Accuracy: {acc:.2f}, Total items: {total_prediction}')"
   ]
  },
  {
   "cell_type": "code",
   "execution_count": null,
   "id": "15a864dc-c642-4f4e-b4a6-814cf2a71528",
   "metadata": {},
   "outputs": [
    {
     "name": "stdout",
     "output_type": "stream",
     "text": [
      "Accuracy: 0.98, Total items: 100\n"
     ]
    }
   ],
   "source": [
    "inference(model, test_dataloader)"
   ]
  },
  {
   "cell_type": "code",
   "execution_count": 460,
   "id": "34f1b790-ed51-4c91-9f5f-ce8bc17d480c",
   "metadata": {
    "tags": []
   },
   "outputs": [],
   "source": [
    "embedding = model.lin.weight.detach().numpy()\n",
    "embedding = pd.DataFrame(embedding, index=presidents_dataset.classes)\n",
    "embedding.to_csv('dataset/audio_embedding.csv')"
   ]
  },
  {
   "cell_type": "code",
   "execution_count": 462,
   "id": "0e4dd70a-03af-476f-83ef-0cc63046c241",
   "metadata": {},
   "outputs": [],
   "source": [
    "def ward_dist(cluster_a, cluster_b):\n",
    "    if len(cluster_b) != 0:\n",
    "        all_ps = np.concatenate((cluster_a, cluster_b))\n",
    "        center_all = [np.mean(all_ps[:,i]) for i in range(all_ps.shape[1])]\n",
    "        comp1 = sum([math.dist(p, center_all)**2 for p in all_ps])\n",
    "        center_a = [np.mean(cluster_a[:,i]) for i in range(cluster_a.shape[1])]\n",
    "        comp2 = sum([math.dist(p, center_a)**2 for p in cluster_a])\n",
    "        center_b = [np.mean(cluster_b[:,i]) for i in range(cluster_b.shape[1])]\n",
    "        comp3 = sum([math.dist(p, center_b)**2 for p in cluster_b])\n",
    "        return comp1 - comp2 - comp3\n",
    "    else:\n",
    "        center_a = [np.mean(cluster_a[:,i]) for i in range(cluster_a.shape[1])]\n",
    "        comp2 = sum([math.dist(p, center_a)**2 for p in cluster_a])\n",
    "        return comp2"
   ]
  },
  {
   "cell_type": "code",
   "execution_count": 475,
   "id": "8ed6f648-97c4-4eb9-b39b-7c649d2409ae",
   "metadata": {
    "tags": []
   },
   "outputs": [],
   "source": [
    "import math\n",
    "innov_df = pd.DataFrame(columns=['Name'] + presidents_dataset.classes)\n",
    "for president in presidents_dataset.classes:\n",
    "    dict = {}\n",
    "    my_position = embedding[(embedding.index == president)].values\n",
    "    dict['Name'] = president\n",
    "    for president2 in presidents_dataset.classes:\n",
    "        president2_position = embedding[(embedding.index == president2)].values\n",
    "        dict[president2] = 1 / (1 + ward_dist(my_position, president2_position))\n",
    "    org_sim = list(dict.values())[1:]\n",
    "    try:\n",
    "        rescaled_sim = [(i-min(org_sim)) / (max(org_sim)-min(org_sim)) for i in org_sim]\n",
    "    except:\n",
    "        rescaled_sim = [i for i in org_sim]\n",
    "    for i, president2 in enumerate(presidents_dataset.classes):\n",
    "        dict[president2] = rescaled_sim[i]\n",
    "    innov_df = innov_df.append(dict, ignore_index=True)"
   ]
  },
  {
   "cell_type": "code",
   "execution_count": 478,
   "id": "0447fbf1-54e6-47ad-88b2-15a4243029c0",
   "metadata": {},
   "outputs": [],
   "source": [
    "innov_df.to_csv('dataset/network_data/voice.csv', index=False)"
   ]
  },
  {
   "cell_type": "code",
   "execution_count": 2,
   "id": "686c8979-fcf4-422b-9e82-481fd359dd12",
   "metadata": {},
   "outputs": [],
   "source": [
    "audio_embedding = pd.read_csv('../dataset/audio_embedding.csv', index_col=0)"
   ]
  },
  {
   "cell_type": "code",
   "execution_count": 3,
   "id": "90751f08-470b-4b94-93ab-9b20743847ca",
   "metadata": {},
   "outputs": [],
   "source": [
    "focal_presidents = ['George W. Bush', 'Barack Obama', 'Franklin D. Roosevelt', 'Bill Clinton', 'George H. W. Bush',\n",
    "                    'Richard M. Nixon', 'John F. Kennedy', 'Lyndon B. Johnson', 'Jimmy Carter', 'Ronald Reagan']\n",
    "df = pd.DataFrame(columns=['Name'])\n",
    "for president in focal_presidents:\n",
    "    dict_ = {}\n",
    "    dict_['Name'] = president\n",
    "    dict_['Voice Uniquiality'] = np.mean([math.dist(audio_embedding.loc[president], audio_embedding.loc[president2])**2\n",
    "                                  for president2 in focal_presidents if president2 != president])\n",
    "    df = df.append(dict_, ignore_index=True)"
   ]
  },
  {
   "cell_type": "code",
   "execution_count": 4,
   "id": "78c666f9-a5fd-4e62-afd6-984a01b954e4",
   "metadata": {},
   "outputs": [
    {
     "data": {
      "image/png": "[encoded data removed]",
      "text/plain": [
       "<Figure size 720x576 with 1 Axes>"
      ]
     },
     "metadata": {
      "needs_background": "light"
     },
     "output_type": "display_data"
    }
   ],
   "source": [
    "x_axis_data = np.array([i for i in range(len(focal_presidents))])\n",
    "x_axis_data_labels = list(map(lambda idx: focal_presidents[idx], x_axis_data))"
   ]
  },
  {
   "cell_type": "code",
   "execution_count": 121,
   "id": "898dfd01-d2c1-43ef-9df6-119a0ca48f12",
   "metadata": {},
   "outputs": [
    {
     "data": {
      "image/png": "[encoded data removed]",
      "text/plain": [
       "<Figure size 1280x560 with 2 Axes>"
      ]
     },
     "metadata": {
      "needs_background": "light"
     },
     "output_type": "display_data"
    }
   ],
   "source": [
    "from sklearn.manifold import TSNE\n",
    "from sklearn.preprocessing import MinMaxScaler\n",
    "# tsneDoc = TSNE(n_components=2).fit_transform(audio_embedding.values)\n",
    "scaler = MinMaxScaler((0.1, 0.9))\n",
    "sd_tsne = scaler.fit_transform(tsneDoc)\n",
    "fig, axis = plt.subplots(1, 2, figsize=(16, 7), dpi=80)\n",
    "\n",
    "axis[0].bar(x_axis_data, df['Voice Uniquiality'].values, 0.5, align='center')\n",
    "axis[0].grid()\n",
    "axis[0].set_xticks(x_axis_data)\n",
    "axis[0].set_xticklabels(x_axis_data_labels, rotation=90, fontsize=15)\n",
    "axis[0].set_ylim([2.3, 2.9])\n",
    "axis[0].tick_params(axis='both', which='major', labelsize=15)\n",
    "\n",
    "for i in range(len(focal_presidents)):\n",
    "    axis[1].scatter(sd_tsne[i, 0], sd_tsne[i, 1]+0.01, s=1e9 / df.loc[i, 'Voice Uniquiality']**11, alpha=0.4)\n",
    "    axis[1].text(x=sd_tsne[i, 0], y=sd_tsne[i, 1], s=focal_presidents[i], fontsize=15, ha='center', fontweight=500)\n",
    "    axis[1].set_xlim([0, 1])\n",
    "    axis[1].set_ylim([0, 1])\n",
    "    axis[1].tick_params(axis='both', which='major', labelsize=15)\n",
    "plt.show()"
   ]
  },
  {
   "cell_type": "code",
   "execution_count": 17,
   "id": "61c6ff4f-cbb3-46d9-9a03-9f42892d45d2",
   "metadata": {},
   "outputs": [
    {
     "data": {
      "text/plain": [
       "0.8924236647019329"
      ]
     },
     "execution_count": 17,
     "metadata": {},
     "output_type": "execute_result"
    }
   ],
   "source": [
    "tsneDoc[i, 0]/np.sqrt(tsneDoc[i, 0]**2+tsneDoc[i, 1]**2)"
   ]
  },
  {
   "cell_type": "code",
   "execution_count": 82,
   "id": "dc665223-5cf4-4beb-ba3a-0e19f632589e",
   "metadata": {},
   "outputs": [
    {
     "data": {
      "text/plain": [
       "1772.039710710737"
      ]
     },
     "execution_count": 82,
     "metadata": {},
     "output_type": "execute_result"
    }
   ],
   "source": [
    "df.loc[i, 'Voice Uniquiality']**3 * 100"
   ]
  },
  {
   "cell_type": "code",
   "execution_count": 123,
   "id": "e49199f0-33ca-4fef-9806-be1519d9435c",
   "metadata": {},
   "outputs": [],
   "source": [
    "or_df = pd.read_csv('../dataset/bert_text_features.csv', index_col=0)"
   ]
  },
  {
   "cell_type": "code",
   "execution_count": 126,
   "id": "91a9725b-5439-4bf6-a690-efd626ecce6d",
   "metadata": {},
   "outputs": [],
   "source": [
    "df.to_csv('../dataset/cnn_audio_features.csv', index=False)"
   ]
  },
  {
   "cell_type": "code",
   "execution_count": 135,
   "id": "7d9db4b4-c972-4d77-9c13-50ccec750fbd",
   "metadata": {},
   "outputs": [],
   "source": [
    "pd.merge(or_df,df.set_index('Name'), how='inner', left_index=True, right_index=True).to_csv('final_dataset.csv')"
   ]
  },
  {
   "cell_type": "code",
   "execution_count": 137,
   "id": "d884bf12-2d8e-46d8-aac7-8563702637d7",
   "metadata": {},
   "outputs": [],
   "source": [
    "or_df = pd.read_csv('../dataset/bert_agg_embedding.csv', index_col=0)"
   ]
  },
  {
   "cell_type": "code",
   "execution_count": 141,
   "id": "45e74c5b-08a8-40e0-b60b-b55d8c0a3810",
   "metadata": {},
   "outputs": [],
   "source": [
    "pd.merge(or_df, audio_embedding, how='inner', left_index=True, right_index=True).to_csv('../dataset/final_embedding.csv')"
   ]
  },
  {
   "cell_type": "code",
   "execution_count": 140,
   "id": "964fa623-3298-4236-8c22-db24c87bb658",
   "metadata": {},
   "outputs": [
    {
     "data": {
      "text/html": [
       "<div>\n",
       "<style scoped>\n",
       "    .dataframe tbody tr th:only-of-type {\n",
       "        vertical-align: middle;\n",
       "    }\n",
       "\n",
       "    .dataframe tbody tr th {\n",
       "        vertical-align: top;\n",
       "    }\n",
       "\n",
       "    .dataframe thead th {\n",
       "        text-align: right;\n",
       "    }\n",
       "</style>\n",
       "<table border=\"1\" class=\"dataframe\">\n",
       "  <thead>\n",
       "    <tr style=\"text-align: right;\">\n",
       "      <th></th>\n",
       "      <th>0</th>\n",
       "      <th>1</th>\n",
       "      <th>2</th>\n",
       "      <th>3</th>\n",
       "      <th>4</th>\n",
       "      <th>5</th>\n",
       "      <th>6</th>\n",
       "      <th>7</th>\n",
       "      <th>8</th>\n",
       "      <th>9</th>\n",
       "      <th>...</th>\n",
       "      <th>758</th>\n",
       "      <th>759</th>\n",
       "      <th>760</th>\n",
       "      <th>761</th>\n",
       "      <th>762</th>\n",
       "      <th>763</th>\n",
       "      <th>764</th>\n",
       "      <th>765</th>\n",
       "      <th>766</th>\n",
       "      <th>767</th>\n",
       "    </tr>\n",
       "    <tr>\n",
       "      <th>President</th>\n",
       "      <th></th>\n",
       "      <th></th>\n",
       "      <th></th>\n",
       "      <th></th>\n",
       "      <th></th>\n",
       "      <th></th>\n",
       "      <th></th>\n",
       "      <th></th>\n",
       "      <th></th>\n",
       "      <th></th>\n",
       "      <th></th>\n",
       "      <th></th>\n",
       "      <th></th>\n",
       "      <th></th>\n",
       "      <th></th>\n",
       "      <th></th>\n",
       "      <th></th>\n",
       "      <th></th>\n",
       "      <th></th>\n",
       "      <th></th>\n",
       "      <th></th>\n",
       "    </tr>\n",
       "  </thead>\n",
       "  <tbody>\n",
       "    <tr>\n",
       "      <th>Barack Obama</th>\n",
       "      <td>0.674488</td>\n",
       "      <td>-0.051211</td>\n",
       "      <td>0.522782</td>\n",
       "      <td>0.625229</td>\n",
       "      <td>-0.080163</td>\n",
       "      <td>0.127319</td>\n",
       "      <td>0.130125</td>\n",
       "      <td>0.071122</td>\n",
       "      <td>0.335872</td>\n",
       "      <td>-0.263286</td>\n",
       "      <td>...</td>\n",
       "      <td>-0.138610</td>\n",
       "      <td>0.163017</td>\n",
       "      <td>-0.120851</td>\n",
       "      <td>-0.649033</td>\n",
       "      <td>0.584100</td>\n",
       "      <td>0.323876</td>\n",
       "      <td>0.107414</td>\n",
       "      <td>-0.297508</td>\n",
       "      <td>0.473270</td>\n",
       "      <td>0.000440</td>\n",
       "    </tr>\n",
       "    <tr>\n",
       "      <th>Bill Clinton</th>\n",
       "      <td>0.446532</td>\n",
       "      <td>0.184790</td>\n",
       "      <td>0.496045</td>\n",
       "      <td>0.479644</td>\n",
       "      <td>-0.505556</td>\n",
       "      <td>-0.154721</td>\n",
       "      <td>0.168330</td>\n",
       "      <td>0.101857</td>\n",
       "      <td>0.382282</td>\n",
       "      <td>-0.463003</td>\n",
       "      <td>...</td>\n",
       "      <td>0.420861</td>\n",
       "      <td>0.100441</td>\n",
       "      <td>0.080743</td>\n",
       "      <td>-0.639456</td>\n",
       "      <td>0.695801</td>\n",
       "      <td>0.200528</td>\n",
       "      <td>-0.260103</td>\n",
       "      <td>-0.512873</td>\n",
       "      <td>0.532883</td>\n",
       "      <td>0.055867</td>\n",
       "    </tr>\n",
       "    <tr>\n",
       "      <th>Franklin D. Roosevelt</th>\n",
       "      <td>-0.183074</td>\n",
       "      <td>0.210947</td>\n",
       "      <td>0.348554</td>\n",
       "      <td>-0.377743</td>\n",
       "      <td>-0.029855</td>\n",
       "      <td>-0.553623</td>\n",
       "      <td>-0.072233</td>\n",
       "      <td>0.854023</td>\n",
       "      <td>0.279167</td>\n",
       "      <td>-0.760826</td>\n",
       "      <td>...</td>\n",
       "      <td>0.415602</td>\n",
       "      <td>0.604815</td>\n",
       "      <td>0.549783</td>\n",
       "      <td>-0.595625</td>\n",
       "      <td>0.040920</td>\n",
       "      <td>-0.363617</td>\n",
       "      <td>0.089900</td>\n",
       "      <td>-0.441554</td>\n",
       "      <td>-0.468767</td>\n",
       "      <td>0.131448</td>\n",
       "    </tr>\n",
       "    <tr>\n",
       "      <th>George H. W. Bush</th>\n",
       "      <td>0.460357</td>\n",
       "      <td>-0.255423</td>\n",
       "      <td>0.693780</td>\n",
       "      <td>0.634954</td>\n",
       "      <td>-0.088986</td>\n",
       "      <td>-0.028627</td>\n",
       "      <td>-0.151582</td>\n",
       "      <td>-0.099644</td>\n",
       "      <td>0.390948</td>\n",
       "      <td>-0.284184</td>\n",
       "      <td>...</td>\n",
       "      <td>0.247826</td>\n",
       "      <td>0.294723</td>\n",
       "      <td>0.065769</td>\n",
       "      <td>-0.749072</td>\n",
       "      <td>0.673614</td>\n",
       "      <td>0.290044</td>\n",
       "      <td>-0.059131</td>\n",
       "      <td>-0.232323</td>\n",
       "      <td>0.525454</td>\n",
       "      <td>0.110978</td>\n",
       "    </tr>\n",
       "    <tr>\n",
       "      <th>George W. Bush</th>\n",
       "      <td>0.454063</td>\n",
       "      <td>0.101698</td>\n",
       "      <td>0.560779</td>\n",
       "      <td>0.789709</td>\n",
       "      <td>0.093683</td>\n",
       "      <td>0.010383</td>\n",
       "      <td>0.015519</td>\n",
       "      <td>-0.031103</td>\n",
       "      <td>0.477362</td>\n",
       "      <td>-0.470565</td>\n",
       "      <td>...</td>\n",
       "      <td>-0.132690</td>\n",
       "      <td>0.209147</td>\n",
       "      <td>-0.090263</td>\n",
       "      <td>-0.710402</td>\n",
       "      <td>0.686328</td>\n",
       "      <td>-0.033212</td>\n",
       "      <td>-0.014354</td>\n",
       "      <td>-0.408098</td>\n",
       "      <td>0.292094</td>\n",
       "      <td>-0.269736</td>\n",
       "    </tr>\n",
       "    <tr>\n",
       "      <th>Jimmy Carter</th>\n",
       "      <td>0.479685</td>\n",
       "      <td>-0.178567</td>\n",
       "      <td>0.723497</td>\n",
       "      <td>0.427192</td>\n",
       "      <td>0.142472</td>\n",
       "      <td>-0.605707</td>\n",
       "      <td>-0.126505</td>\n",
       "      <td>0.346928</td>\n",
       "      <td>0.464202</td>\n",
       "      <td>-0.194221</td>\n",
       "      <td>...</td>\n",
       "      <td>0.284865</td>\n",
       "      <td>0.518247</td>\n",
       "      <td>0.268454</td>\n",
       "      <td>-0.806755</td>\n",
       "      <td>0.372624</td>\n",
       "      <td>-0.112205</td>\n",
       "      <td>-0.030450</td>\n",
       "      <td>-0.355798</td>\n",
       "      <td>0.465635</td>\n",
       "      <td>0.162002</td>\n",
       "    </tr>\n",
       "    <tr>\n",
       "      <th>John F. Kennedy</th>\n",
       "      <td>0.042074</td>\n",
       "      <td>0.424095</td>\n",
       "      <td>0.819145</td>\n",
       "      <td>0.138655</td>\n",
       "      <td>-0.004174</td>\n",
       "      <td>-0.578290</td>\n",
       "      <td>-0.588960</td>\n",
       "      <td>0.477560</td>\n",
       "      <td>0.436369</td>\n",
       "      <td>-0.392942</td>\n",
       "      <td>...</td>\n",
       "      <td>0.733307</td>\n",
       "      <td>0.596342</td>\n",
       "      <td>0.489470</td>\n",
       "      <td>-0.628724</td>\n",
       "      <td>0.485689</td>\n",
       "      <td>-0.111005</td>\n",
       "      <td>0.008182</td>\n",
       "      <td>-0.097190</td>\n",
       "      <td>-0.230902</td>\n",
       "      <td>0.397004</td>\n",
       "    </tr>\n",
       "    <tr>\n",
       "      <th>Lyndon B. Johnson</th>\n",
       "      <td>0.198983</td>\n",
       "      <td>0.359381</td>\n",
       "      <td>0.968072</td>\n",
       "      <td>0.564082</td>\n",
       "      <td>0.134263</td>\n",
       "      <td>-0.519960</td>\n",
       "      <td>-0.791520</td>\n",
       "      <td>-0.133444</td>\n",
       "      <td>0.659269</td>\n",
       "      <td>-0.297859</td>\n",
       "      <td>...</td>\n",
       "      <td>0.718911</td>\n",
       "      <td>0.702935</td>\n",
       "      <td>0.530519</td>\n",
       "      <td>-0.940026</td>\n",
       "      <td>0.441063</td>\n",
       "      <td>-0.153094</td>\n",
       "      <td>0.123207</td>\n",
       "      <td>0.031091</td>\n",
       "      <td>0.311079</td>\n",
       "      <td>0.088936</td>\n",
       "    </tr>\n",
       "    <tr>\n",
       "      <th>Richard M. Nixon</th>\n",
       "      <td>-0.150548</td>\n",
       "      <td>0.313039</td>\n",
       "      <td>0.591975</td>\n",
       "      <td>-0.054436</td>\n",
       "      <td>-0.194157</td>\n",
       "      <td>-0.960864</td>\n",
       "      <td>-0.238394</td>\n",
       "      <td>0.417991</td>\n",
       "      <td>0.573475</td>\n",
       "      <td>-0.143097</td>\n",
       "      <td>...</td>\n",
       "      <td>0.716797</td>\n",
       "      <td>0.749003</td>\n",
       "      <td>0.666042</td>\n",
       "      <td>-0.776238</td>\n",
       "      <td>0.040073</td>\n",
       "      <td>-0.167919</td>\n",
       "      <td>-0.159520</td>\n",
       "      <td>-0.325672</td>\n",
       "      <td>0.175543</td>\n",
       "      <td>0.143244</td>\n",
       "    </tr>\n",
       "    <tr>\n",
       "      <th>Ronald Reagan</th>\n",
       "      <td>0.510109</td>\n",
       "      <td>-0.089644</td>\n",
       "      <td>0.626818</td>\n",
       "      <td>0.382856</td>\n",
       "      <td>-0.349764</td>\n",
       "      <td>-0.352204</td>\n",
       "      <td>0.266548</td>\n",
       "      <td>0.238375</td>\n",
       "      <td>0.290196</td>\n",
       "      <td>-0.125855</td>\n",
       "      <td>...</td>\n",
       "      <td>0.480725</td>\n",
       "      <td>0.110100</td>\n",
       "      <td>0.210552</td>\n",
       "      <td>-0.578442</td>\n",
       "      <td>0.348081</td>\n",
       "      <td>0.450694</td>\n",
       "      <td>-0.135960</td>\n",
       "      <td>-0.435248</td>\n",
       "      <td>0.508375</td>\n",
       "      <td>0.404572</td>\n",
       "    </tr>\n",
       "  </tbody>\n",
       "</table>\n",
       "<p>10 rows × 768 columns</p>\n",
       "</div>"
      ],
      "text/plain": [
       "                              0         1         2         3         4  \\\n",
       "President                                                                 \n",
       "Barack Obama           0.674488 -0.051211  0.522782  0.625229 -0.080163   \n",
       "Bill Clinton           0.446532  0.184790  0.496045  0.479644 -0.505556   \n",
       "Franklin D. Roosevelt -0.183074  0.210947  0.348554 -0.377743 -0.029855   \n",
       "George H. W. Bush      0.460357 -0.255423  0.693780  0.634954 -0.088986   \n",
       "George W. Bush         0.454063  0.101698  0.560779  0.789709  0.093683   \n",
       "Jimmy Carter           0.479685 -0.178567  0.723497  0.427192  0.142472   \n",
       "John F. Kennedy        0.042074  0.424095  0.819145  0.138655 -0.004174   \n",
       "Lyndon B. Johnson      0.198983  0.359381  0.968072  0.564082  0.134263   \n",
       "Richard M. Nixon      -0.150548  0.313039  0.591975 -0.054436 -0.194157   \n",
       "Ronald Reagan          0.510109 -0.089644  0.626818  0.382856 -0.349764   \n",
       "\n",
       "                              5         6         7         8         9  ...  \\\n",
       "President                                                                ...   \n",
       "Barack Obama           0.127319  0.130125  0.071122  0.335872 -0.263286  ...   \n",
       "Bill Clinton          -0.154721  0.168330  0.101857  0.382282 -0.463003  ...   \n",
       "Franklin D. Roosevelt -0.553623 -0.072233  0.854023  0.279167 -0.760826  ...   \n",
       "George H. W. Bush     -0.028627 -0.151582 -0.099644  0.390948 -0.284184  ...   \n",
       "George W. Bush         0.010383  0.015519 -0.031103  0.477362 -0.470565  ...   \n",
       "Jimmy Carter          -0.605707 -0.126505  0.346928  0.464202 -0.194221  ...   \n",
       "John F. Kennedy       -0.578290 -0.588960  0.477560  0.436369 -0.392942  ...   \n",
       "Lyndon B. Johnson     -0.519960 -0.791520 -0.133444  0.659269 -0.297859  ...   \n",
       "Richard M. Nixon      -0.960864 -0.238394  0.417991  0.573475 -0.143097  ...   \n",
       "Ronald Reagan         -0.352204  0.266548  0.238375  0.290196 -0.125855  ...   \n",
       "\n",
       "                            758       759       760       761       762  \\\n",
       "President                                                                 \n",
       "Barack Obama          -0.138610  0.163017 -0.120851 -0.649033  0.584100   \n",
       "Bill Clinton           0.420861  0.100441  0.080743 -0.639456  0.695801   \n",
       "Franklin D. Roosevelt  0.415602  0.604815  0.549783 -0.595625  0.040920   \n",
       "George H. W. Bush      0.247826  0.294723  0.065769 -0.749072  0.673614   \n",
       "George W. Bush        -0.132690  0.209147 -0.090263 -0.710402  0.686328   \n",
       "Jimmy Carter           0.284865  0.518247  0.268454 -0.806755  0.372624   \n",
       "John F. Kennedy        0.733307  0.596342  0.489470 -0.628724  0.485689   \n",
       "Lyndon B. Johnson      0.718911  0.702935  0.530519 -0.940026  0.441063   \n",
       "Richard M. Nixon       0.716797  0.749003  0.666042 -0.776238  0.040073   \n",
       "Ronald Reagan          0.480725  0.110100  0.210552 -0.578442  0.348081   \n",
       "\n",
       "                            763       764       765       766       767  \n",
       "President                                                                \n",
       "Barack Obama           0.323876  0.107414 -0.297508  0.473270  0.000440  \n",
       "Bill Clinton           0.200528 -0.260103 -0.512873  0.532883  0.055867  \n",
       "Franklin D. Roosevelt -0.363617  0.089900 -0.441554 -0.468767  0.131448  \n",
       "George H. W. Bush      0.290044 -0.059131 -0.232323  0.525454  0.110978  \n",
       "George W. Bush        -0.033212 -0.014354 -0.408098  0.292094 -0.269736  \n",
       "Jimmy Carter          -0.112205 -0.030450 -0.355798  0.465635  0.162002  \n",
       "John F. Kennedy       -0.111005  0.008182 -0.097190 -0.230902  0.397004  \n",
       "Lyndon B. Johnson     -0.153094  0.123207  0.031091  0.311079  0.088936  \n",
       "Richard M. Nixon      -0.167919 -0.159520 -0.325672  0.175543  0.143244  \n",
       "Ronald Reagan          0.450694 -0.135960 -0.435248  0.508375  0.404572  \n",
       "\n",
       "[10 rows x 768 columns]"
      ]
     },
     "execution_count": 140,
     "metadata": {},
     "output_type": "execute_result"
    }
   ],
   "source": [
    "or_df"
   ]
  },
  {
   "cell_type": "code",
   "execution_count": null,
   "id": "0c79d54e-ee7d-459e-b668-2bc8feb10aa9",
   "metadata": {},
   "outputs": [],
   "source": []
  }
 ],
 "metadata": {
  "kernelspec": {
   "display_name": "Python 3",
   "language": "python",
   "name": "python3"
  },
  "language_info": {
   "codemirror_mode": {
    "name": "ipython",
    "version": 3
   },
   "file_extension": ".py",
   "mimetype": "text/x-python",
   "name": "python",
   "nbconvert_exporter": "python",
   "pygments_lexer": "ipython3",
   "version": "3.8.8"
  }
 },
 "nbformat": 4,
 "nbformat_minor": 5
}
