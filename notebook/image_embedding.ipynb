{
 "cells": [
  {
   "cell_type": "markdown",
   "id": "e46a65f8-1ef5-47bd-a35a-f0f3dcae6dc2",
   "metadata": {},
   "source": [
    "# __EXP#3__"
   ]
  },
  {
   "cell_type": "code",
   "execution_count": null,
   "id": "25f19410-48f7-4a1e-9cff-17a375da51d2",
   "metadata": {},
   "outputs": [],
   "source": []
  }
 ],
 "metadata": {
  "kernelspec": {
   "display_name": "Python 3",
   "language": "python",
   "name": "python3"
  },
  "language_info": {
   "codemirror_mode": {
    "name": "ipython",
    "version": 3
   },
   "file_extension": ".py",
   "mimetype": "text/x-python",
   "name": "python",
   "nbconvert_exporter": "python",
   "pygments_lexer": "ipython3",
   "version": "3.8.8"
  }
 },
 "nbformat": 4,
 "nbformat_minor": 5
}
