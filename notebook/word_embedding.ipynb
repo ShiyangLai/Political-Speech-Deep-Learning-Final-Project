{
 "cells": [
  {
   "cell_type": "markdown",
   "id": "ff15be38-ad54-471a-8196-d206077f40bf",
   "metadata": {},
   "source": [
    "# __DOC EMBEDDING EXP#1__"
   ]
  },
  {
   "cell_type": "code",
   "execution_count": 2,
   "id": "9b9fbbc1-2f20-4500-9dd9-5ed902b69617",
   "metadata": {},
   "outputs": [],
   "source": [
    "import numpy as np\n",
    "import pandas as pd"
   ]
  },
  {
   "cell_type": "code",
   "execution_count": null,
   "id": "808ab550-ff9e-43af-876f-f4587fd1b487",
   "metadata": {},
   "outputs": [],
   "source": [
    "speech = pd.read_csv('../dataset')"
   ]
  }
 ],
 "metadata": {
  "kernelspec": {
   "display_name": "Python 3 (ipykernel)",
   "language": "python",
   "name": "python3"
  },
  "language_info": {
   "codemirror_mode": {
    "name": "ipython",
    "version": 3
   },
   "file_extension": ".py",
   "mimetype": "text/x-python",
   "name": "python",
   "nbconvert_exporter": "python",
   "pygments_lexer": "ipython3",
   "version": "3.8.8"
  }
 },
 "nbformat": 4,
 "nbformat_minor": 5
}
